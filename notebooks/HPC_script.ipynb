{
 "cells": [
  {
   "cell_type": "code",
   "execution_count": 1,
   "id": "db1b49f5",
   "metadata": {},
   "outputs": [],
   "source": [
    "from sklearn.ensemble import RandomForestRegressor\n",
    "from sklearn.model_selection import train_test_split\n",
    "from sklearn.metrics import mean_squared_error, r2_score, mean_absolute_error\n",
    "from sklearn.preprocessing import StandardScaler\n",
    "from sklearn.ensemble import RandomForestRegressor, GradientBoostingRegressor\n",
    "from sklearn.linear_model import LinearRegression\n",
    "import seqtrainer.dataset_builder as dataset_builder\n",
    "import seqtrainer.preprocessing as preprocessing\n",
    "import os\n",
    "import pandas as pd\n",
    "import numpy as np"
   ]
  },
  {
   "cell_type": "code",
   "execution_count": null,
   "id": "243fbb45",
   "metadata": {},
   "outputs": [],
   "source": [
    "current_dir = os.path.abspath('')\n",
    "data_path = os.path.join(current_dir, '..', 'seqtrainer-data')\n",
    "dataset_path = os.path.join(data_path, \"sbol_data\")"
   ]
  },
  {
   "cell_type": "code",
   "execution_count": 6,
   "id": "e00645a2",
   "metadata": {},
   "outputs": [
    {
     "data": {
      "text/plain": [
       "['c:\\\\Users\\\\Sai\\\\Documents\\\\GitHub\\\\SBOLtrainer\\\\notebooks\\\\..\\\\seqtrainer-dat\\\\sbol_data\\\\sample_design_0.xml',\n",
       " 'c:\\\\Users\\\\Sai\\\\Documents\\\\GitHub\\\\SBOLtrainer\\\\notebooks\\\\..\\\\seqtrainer-dat\\\\sbol_data\\\\sample_design_1.xml',\n",
       " 'c:\\\\Users\\\\Sai\\\\Documents\\\\GitHub\\\\SBOLtrainer\\\\notebooks\\\\..\\\\seqtrainer-dat\\\\sbol_data\\\\sample_design_10.xml',\n",
       " 'c:\\\\Users\\\\Sai\\\\Documents\\\\GitHub\\\\SBOLtrainer\\\\notebooks\\\\..\\\\seqtrainer-dat\\\\sbol_data\\\\sample_design_100.xml',\n",
       " 'c:\\\\Users\\\\Sai\\\\Documents\\\\GitHub\\\\SBOLtrainer\\\\notebooks\\\\..\\\\seqtrainer-dat\\\\sbol_data\\\\sample_design_1000.xml',\n",
       " 'c:\\\\Users\\\\Sai\\\\Documents\\\\GitHub\\\\SBOLtrainer\\\\notebooks\\\\..\\\\seqtrainer-dat\\\\sbol_data\\\\sample_design_10000.xml',\n",
       " 'c:\\\\Users\\\\Sai\\\\Documents\\\\GitHub\\\\SBOLtrainer\\\\notebooks\\\\..\\\\seqtrainer-dat\\\\sbol_data\\\\sample_design_10001.xml',\n",
       " 'c:\\\\Users\\\\Sai\\\\Documents\\\\GitHub\\\\SBOLtrainer\\\\notebooks\\\\..\\\\seqtrainer-dat\\\\sbol_data\\\\sample_design_10002.xml',\n",
       " 'c:\\\\Users\\\\Sai\\\\Documents\\\\GitHub\\\\SBOLtrainer\\\\notebooks\\\\..\\\\seqtrainer-dat\\\\sbol_data\\\\sample_design_10003.xml',\n",
       " 'c:\\\\Users\\\\Sai\\\\Documents\\\\GitHub\\\\SBOLtrainer\\\\notebooks\\\\..\\\\seqtrainer-dat\\\\sbol_data\\\\sample_design_10004.xml',\n",
       " 'c:\\\\Users\\\\Sai\\\\Documents\\\\GitHub\\\\SBOLtrainer\\\\notebooks\\\\..\\\\seqtrainer-dat\\\\sbol_data\\\\sample_design_10005.xml',\n",
       " 'c:\\\\Users\\\\Sai\\\\Documents\\\\GitHub\\\\SBOLtrainer\\\\notebooks\\\\..\\\\seqtrainer-dat\\\\sbol_data\\\\sample_design_10006.xml',\n",
       " 'c:\\\\Users\\\\Sai\\\\Documents\\\\GitHub\\\\SBOLtrainer\\\\notebooks\\\\..\\\\seqtrainer-dat\\\\sbol_data\\\\sample_design_10007.xml',\n",
       " 'c:\\\\Users\\\\Sai\\\\Documents\\\\GitHub\\\\SBOLtrainer\\\\notebooks\\\\..\\\\seqtrainer-dat\\\\sbol_data\\\\sample_design_10008.xml',\n",
       " 'c:\\\\Users\\\\Sai\\\\Documents\\\\GitHub\\\\SBOLtrainer\\\\notebooks\\\\..\\\\seqtrainer-dat\\\\sbol_data\\\\sample_design_10009.xml',\n",
       " 'c:\\\\Users\\\\Sai\\\\Documents\\\\GitHub\\\\SBOLtrainer\\\\notebooks\\\\..\\\\seqtrainer-dat\\\\sbol_data\\\\sample_design_1001.xml',\n",
       " 'c:\\\\Users\\\\Sai\\\\Documents\\\\GitHub\\\\SBOLtrainer\\\\notebooks\\\\..\\\\seqtrainer-dat\\\\sbol_data\\\\sample_design_10010.xml',\n",
       " 'c:\\\\Users\\\\Sai\\\\Documents\\\\GitHub\\\\SBOLtrainer\\\\notebooks\\\\..\\\\seqtrainer-dat\\\\sbol_data\\\\sample_design_10011.xml',\n",
       " 'c:\\\\Users\\\\Sai\\\\Documents\\\\GitHub\\\\SBOLtrainer\\\\notebooks\\\\..\\\\seqtrainer-dat\\\\sbol_data\\\\sample_design_10012.xml',\n",
       " 'c:\\\\Users\\\\Sai\\\\Documents\\\\GitHub\\\\SBOLtrainer\\\\notebooks\\\\..\\\\seqtrainer-dat\\\\sbol_data\\\\sample_design_10013.xml',\n",
       " 'c:\\\\Users\\\\Sai\\\\Documents\\\\GitHub\\\\SBOLtrainer\\\\notebooks\\\\..\\\\seqtrainer-dat\\\\sbol_data\\\\sample_design_10015.xml',\n",
       " 'c:\\\\Users\\\\Sai\\\\Documents\\\\GitHub\\\\SBOLtrainer\\\\notebooks\\\\..\\\\seqtrainer-dat\\\\sbol_data\\\\sample_design_10016.xml',\n",
       " 'c:\\\\Users\\\\Sai\\\\Documents\\\\GitHub\\\\SBOLtrainer\\\\notebooks\\\\..\\\\seqtrainer-dat\\\\sbol_data\\\\sample_design_10017.xml',\n",
       " 'c:\\\\Users\\\\Sai\\\\Documents\\\\GitHub\\\\SBOLtrainer\\\\notebooks\\\\..\\\\seqtrainer-dat\\\\sbol_data\\\\sample_design_10018.xml',\n",
       " 'c:\\\\Users\\\\Sai\\\\Documents\\\\GitHub\\\\SBOLtrainer\\\\notebooks\\\\..\\\\seqtrainer-dat\\\\sbol_data\\\\sample_design_10019.xml',\n",
       " 'c:\\\\Users\\\\Sai\\\\Documents\\\\GitHub\\\\SBOLtrainer\\\\notebooks\\\\..\\\\seqtrainer-dat\\\\sbol_data\\\\sample_design_1002.xml',\n",
       " 'c:\\\\Users\\\\Sai\\\\Documents\\\\GitHub\\\\SBOLtrainer\\\\notebooks\\\\..\\\\seqtrainer-dat\\\\sbol_data\\\\sample_design_10020.xml',\n",
       " 'c:\\\\Users\\\\Sai\\\\Documents\\\\GitHub\\\\SBOLtrainer\\\\notebooks\\\\..\\\\seqtrainer-dat\\\\sbol_data\\\\sample_design_10021.xml',\n",
       " 'c:\\\\Users\\\\Sai\\\\Documents\\\\GitHub\\\\SBOLtrainer\\\\notebooks\\\\..\\\\seqtrainer-dat\\\\sbol_data\\\\sample_design_10022.xml',\n",
       " 'c:\\\\Users\\\\Sai\\\\Documents\\\\GitHub\\\\SBOLtrainer\\\\notebooks\\\\..\\\\seqtrainer-dat\\\\sbol_data\\\\sample_design_10023.xml',\n",
       " 'c:\\\\Users\\\\Sai\\\\Documents\\\\GitHub\\\\SBOLtrainer\\\\notebooks\\\\..\\\\seqtrainer-dat\\\\sbol_data\\\\sample_design_10024.xml',\n",
       " 'c:\\\\Users\\\\Sai\\\\Documents\\\\GitHub\\\\SBOLtrainer\\\\notebooks\\\\..\\\\seqtrainer-dat\\\\sbol_data\\\\sample_design_10025.xml',\n",
       " 'c:\\\\Users\\\\Sai\\\\Documents\\\\GitHub\\\\SBOLtrainer\\\\notebooks\\\\..\\\\seqtrainer-dat\\\\sbol_data\\\\sample_design_10026.xml',\n",
       " 'c:\\\\Users\\\\Sai\\\\Documents\\\\GitHub\\\\SBOLtrainer\\\\notebooks\\\\..\\\\seqtrainer-dat\\\\sbol_data\\\\sample_design_10027.xml',\n",
       " 'c:\\\\Users\\\\Sai\\\\Documents\\\\GitHub\\\\SBOLtrainer\\\\notebooks\\\\..\\\\seqtrainer-dat\\\\sbol_data\\\\sample_design_10028.xml',\n",
       " 'c:\\\\Users\\\\Sai\\\\Documents\\\\GitHub\\\\SBOLtrainer\\\\notebooks\\\\..\\\\seqtrainer-dat\\\\sbol_data\\\\sample_design_10029.xml',\n",
       " 'c:\\\\Users\\\\Sai\\\\Documents\\\\GitHub\\\\SBOLtrainer\\\\notebooks\\\\..\\\\seqtrainer-dat\\\\sbol_data\\\\sample_design_1003.xml',\n",
       " 'c:\\\\Users\\\\Sai\\\\Documents\\\\GitHub\\\\SBOLtrainer\\\\notebooks\\\\..\\\\seqtrainer-dat\\\\sbol_data\\\\sample_design_10030.xml',\n",
       " 'c:\\\\Users\\\\Sai\\\\Documents\\\\GitHub\\\\SBOLtrainer\\\\notebooks\\\\..\\\\seqtrainer-dat\\\\sbol_data\\\\sample_design_10031.xml',\n",
       " 'c:\\\\Users\\\\Sai\\\\Documents\\\\GitHub\\\\SBOLtrainer\\\\notebooks\\\\..\\\\seqtrainer-dat\\\\sbol_data\\\\sample_design_10032.xml',\n",
       " 'c:\\\\Users\\\\Sai\\\\Documents\\\\GitHub\\\\SBOLtrainer\\\\notebooks\\\\..\\\\seqtrainer-dat\\\\sbol_data\\\\sample_design_10033.xml',\n",
       " 'c:\\\\Users\\\\Sai\\\\Documents\\\\GitHub\\\\SBOLtrainer\\\\notebooks\\\\..\\\\seqtrainer-dat\\\\sbol_data\\\\sample_design_10034.xml',\n",
       " 'c:\\\\Users\\\\Sai\\\\Documents\\\\GitHub\\\\SBOLtrainer\\\\notebooks\\\\..\\\\seqtrainer-dat\\\\sbol_data\\\\sample_design_10035.xml',\n",
       " 'c:\\\\Users\\\\Sai\\\\Documents\\\\GitHub\\\\SBOLtrainer\\\\notebooks\\\\..\\\\seqtrainer-dat\\\\sbol_data\\\\sample_design_10036.xml',\n",
       " 'c:\\\\Users\\\\Sai\\\\Documents\\\\GitHub\\\\SBOLtrainer\\\\notebooks\\\\..\\\\seqtrainer-dat\\\\sbol_data\\\\sample_design_10037.xml',\n",
       " 'c:\\\\Users\\\\Sai\\\\Documents\\\\GitHub\\\\SBOLtrainer\\\\notebooks\\\\..\\\\seqtrainer-dat\\\\sbol_data\\\\sample_design_10038.xml',\n",
       " 'c:\\\\Users\\\\Sai\\\\Documents\\\\GitHub\\\\SBOLtrainer\\\\notebooks\\\\..\\\\seqtrainer-dat\\\\sbol_data\\\\sample_design_10039.xml',\n",
       " 'c:\\\\Users\\\\Sai\\\\Documents\\\\GitHub\\\\SBOLtrainer\\\\notebooks\\\\..\\\\seqtrainer-dat\\\\sbol_data\\\\sample_design_1004.xml',\n",
       " 'c:\\\\Users\\\\Sai\\\\Documents\\\\GitHub\\\\SBOLtrainer\\\\notebooks\\\\..\\\\seqtrainer-dat\\\\sbol_data\\\\sample_design_10040.xml',\n",
       " 'c:\\\\Users\\\\Sai\\\\Documents\\\\GitHub\\\\SBOLtrainer\\\\notebooks\\\\..\\\\seqtrainer-dat\\\\sbol_data\\\\sample_design_10041.xml',\n",
       " 'c:\\\\Users\\\\Sai\\\\Documents\\\\GitHub\\\\SBOLtrainer\\\\notebooks\\\\..\\\\seqtrainer-dat\\\\sbol_data\\\\sample_design_10042.xml',\n",
       " 'c:\\\\Users\\\\Sai\\\\Documents\\\\GitHub\\\\SBOLtrainer\\\\notebooks\\\\..\\\\seqtrainer-dat\\\\sbol_data\\\\sample_design_10043.xml',\n",
       " 'c:\\\\Users\\\\Sai\\\\Documents\\\\GitHub\\\\SBOLtrainer\\\\notebooks\\\\..\\\\seqtrainer-dat\\\\sbol_data\\\\sample_design_10044.xml',\n",
       " 'c:\\\\Users\\\\Sai\\\\Documents\\\\GitHub\\\\SBOLtrainer\\\\notebooks\\\\..\\\\seqtrainer-dat\\\\sbol_data\\\\sample_design_10045.xml',\n",
       " 'c:\\\\Users\\\\Sai\\\\Documents\\\\GitHub\\\\SBOLtrainer\\\\notebooks\\\\..\\\\seqtrainer-dat\\\\sbol_data\\\\sample_design_10046.xml',\n",
       " 'c:\\\\Users\\\\Sai\\\\Documents\\\\GitHub\\\\SBOLtrainer\\\\notebooks\\\\..\\\\seqtrainer-dat\\\\sbol_data\\\\sample_design_10047.xml',\n",
       " 'c:\\\\Users\\\\Sai\\\\Documents\\\\GitHub\\\\SBOLtrainer\\\\notebooks\\\\..\\\\seqtrainer-dat\\\\sbol_data\\\\sample_design_10048.xml',\n",
       " 'c:\\\\Users\\\\Sai\\\\Documents\\\\GitHub\\\\SBOLtrainer\\\\notebooks\\\\..\\\\seqtrainer-dat\\\\sbol_data\\\\sample_design_10049.xml',\n",
       " 'c:\\\\Users\\\\Sai\\\\Documents\\\\GitHub\\\\SBOLtrainer\\\\notebooks\\\\..\\\\seqtrainer-dat\\\\sbol_data\\\\sample_design_1005.xml',\n",
       " 'c:\\\\Users\\\\Sai\\\\Documents\\\\GitHub\\\\SBOLtrainer\\\\notebooks\\\\..\\\\seqtrainer-dat\\\\sbol_data\\\\sample_design_10050.xml',\n",
       " 'c:\\\\Users\\\\Sai\\\\Documents\\\\GitHub\\\\SBOLtrainer\\\\notebooks\\\\..\\\\seqtrainer-dat\\\\sbol_data\\\\sample_design_10051.xml',\n",
       " 'c:\\\\Users\\\\Sai\\\\Documents\\\\GitHub\\\\SBOLtrainer\\\\notebooks\\\\..\\\\seqtrainer-dat\\\\sbol_data\\\\sample_design_10052.xml',\n",
       " 'c:\\\\Users\\\\Sai\\\\Documents\\\\GitHub\\\\SBOLtrainer\\\\notebooks\\\\..\\\\seqtrainer-dat\\\\sbol_data\\\\sample_design_10053.xml',\n",
       " 'c:\\\\Users\\\\Sai\\\\Documents\\\\GitHub\\\\SBOLtrainer\\\\notebooks\\\\..\\\\seqtrainer-dat\\\\sbol_data\\\\sample_design_10054.xml',\n",
       " 'c:\\\\Users\\\\Sai\\\\Documents\\\\GitHub\\\\SBOLtrainer\\\\notebooks\\\\..\\\\seqtrainer-dat\\\\sbol_data\\\\sample_design_10055.xml',\n",
       " 'c:\\\\Users\\\\Sai\\\\Documents\\\\GitHub\\\\SBOLtrainer\\\\notebooks\\\\..\\\\seqtrainer-dat\\\\sbol_data\\\\sample_design_10056.xml',\n",
       " 'c:\\\\Users\\\\Sai\\\\Documents\\\\GitHub\\\\SBOLtrainer\\\\notebooks\\\\..\\\\seqtrainer-dat\\\\sbol_data\\\\sample_design_10057.xml',\n",
       " 'c:\\\\Users\\\\Sai\\\\Documents\\\\GitHub\\\\SBOLtrainer\\\\notebooks\\\\..\\\\seqtrainer-dat\\\\sbol_data\\\\sample_design_10058.xml',\n",
       " 'c:\\\\Users\\\\Sai\\\\Documents\\\\GitHub\\\\SBOLtrainer\\\\notebooks\\\\..\\\\seqtrainer-dat\\\\sbol_data\\\\sample_design_10059.xml',\n",
       " 'c:\\\\Users\\\\Sai\\\\Documents\\\\GitHub\\\\SBOLtrainer\\\\notebooks\\\\..\\\\seqtrainer-dat\\\\sbol_data\\\\sample_design_1006.xml',\n",
       " 'c:\\\\Users\\\\Sai\\\\Documents\\\\GitHub\\\\SBOLtrainer\\\\notebooks\\\\..\\\\seqtrainer-dat\\\\sbol_data\\\\sample_design_10060.xml',\n",
       " 'c:\\\\Users\\\\Sai\\\\Documents\\\\GitHub\\\\SBOLtrainer\\\\notebooks\\\\..\\\\seqtrainer-dat\\\\sbol_data\\\\sample_design_10061.xml',\n",
       " 'c:\\\\Users\\\\Sai\\\\Documents\\\\GitHub\\\\SBOLtrainer\\\\notebooks\\\\..\\\\seqtrainer-dat\\\\sbol_data\\\\sample_design_10062.xml',\n",
       " 'c:\\\\Users\\\\Sai\\\\Documents\\\\GitHub\\\\SBOLtrainer\\\\notebooks\\\\..\\\\seqtrainer-dat\\\\sbol_data\\\\sample_design_10063.xml',\n",
       " 'c:\\\\Users\\\\Sai\\\\Documents\\\\GitHub\\\\SBOLtrainer\\\\notebooks\\\\..\\\\seqtrainer-dat\\\\sbol_data\\\\sample_design_10064.xml',\n",
       " 'c:\\\\Users\\\\Sai\\\\Documents\\\\GitHub\\\\SBOLtrainer\\\\notebooks\\\\..\\\\seqtrainer-dat\\\\sbol_data\\\\sample_design_10065.xml',\n",
       " 'c:\\\\Users\\\\Sai\\\\Documents\\\\GitHub\\\\SBOLtrainer\\\\notebooks\\\\..\\\\seqtrainer-dat\\\\sbol_data\\\\sample_design_10066.xml',\n",
       " 'c:\\\\Users\\\\Sai\\\\Documents\\\\GitHub\\\\SBOLtrainer\\\\notebooks\\\\..\\\\seqtrainer-dat\\\\sbol_data\\\\sample_design_10067.xml',\n",
       " 'c:\\\\Users\\\\Sai\\\\Documents\\\\GitHub\\\\SBOLtrainer\\\\notebooks\\\\..\\\\seqtrainer-dat\\\\sbol_data\\\\sample_design_10068.xml',\n",
       " 'c:\\\\Users\\\\Sai\\\\Documents\\\\GitHub\\\\SBOLtrainer\\\\notebooks\\\\..\\\\seqtrainer-dat\\\\sbol_data\\\\sample_design_10069.xml',\n",
       " 'c:\\\\Users\\\\Sai\\\\Documents\\\\GitHub\\\\SBOLtrainer\\\\notebooks\\\\..\\\\seqtrainer-dat\\\\sbol_data\\\\sample_design_1007.xml',\n",
       " 'c:\\\\Users\\\\Sai\\\\Documents\\\\GitHub\\\\SBOLtrainer\\\\notebooks\\\\..\\\\seqtrainer-dat\\\\sbol_data\\\\sample_design_10070.xml',\n",
       " 'c:\\\\Users\\\\Sai\\\\Documents\\\\GitHub\\\\SBOLtrainer\\\\notebooks\\\\..\\\\seqtrainer-dat\\\\sbol_data\\\\sample_design_10071.xml',\n",
       " 'c:\\\\Users\\\\Sai\\\\Documents\\\\GitHub\\\\SBOLtrainer\\\\notebooks\\\\..\\\\seqtrainer-dat\\\\sbol_data\\\\sample_design_10072.xml',\n",
       " 'c:\\\\Users\\\\Sai\\\\Documents\\\\GitHub\\\\SBOLtrainer\\\\notebooks\\\\..\\\\seqtrainer-dat\\\\sbol_data\\\\sample_design_10073.xml',\n",
       " 'c:\\\\Users\\\\Sai\\\\Documents\\\\GitHub\\\\SBOLtrainer\\\\notebooks\\\\..\\\\seqtrainer-dat\\\\sbol_data\\\\sample_design_10074.xml',\n",
       " 'c:\\\\Users\\\\Sai\\\\Documents\\\\GitHub\\\\SBOLtrainer\\\\notebooks\\\\..\\\\seqtrainer-dat\\\\sbol_data\\\\sample_design_10075.xml',\n",
       " 'c:\\\\Users\\\\Sai\\\\Documents\\\\GitHub\\\\SBOLtrainer\\\\notebooks\\\\..\\\\seqtrainer-dat\\\\sbol_data\\\\sample_design_10076.xml',\n",
       " 'c:\\\\Users\\\\Sai\\\\Documents\\\\GitHub\\\\SBOLtrainer\\\\notebooks\\\\..\\\\seqtrainer-dat\\\\sbol_data\\\\sample_design_10077.xml',\n",
       " 'c:\\\\Users\\\\Sai\\\\Documents\\\\GitHub\\\\SBOLtrainer\\\\notebooks\\\\..\\\\seqtrainer-dat\\\\sbol_data\\\\sample_design_10078.xml',\n",
       " 'c:\\\\Users\\\\Sai\\\\Documents\\\\GitHub\\\\SBOLtrainer\\\\notebooks\\\\..\\\\seqtrainer-dat\\\\sbol_data\\\\sample_design_10079.xml',\n",
       " 'c:\\\\Users\\\\Sai\\\\Documents\\\\GitHub\\\\SBOLtrainer\\\\notebooks\\\\..\\\\seqtrainer-dat\\\\sbol_data\\\\sample_design_1008.xml',\n",
       " 'c:\\\\Users\\\\Sai\\\\Documents\\\\GitHub\\\\SBOLtrainer\\\\notebooks\\\\..\\\\seqtrainer-dat\\\\sbol_data\\\\sample_design_10080.xml',\n",
       " 'c:\\\\Users\\\\Sai\\\\Documents\\\\GitHub\\\\SBOLtrainer\\\\notebooks\\\\..\\\\seqtrainer-dat\\\\sbol_data\\\\sample_design_10081.xml',\n",
       " 'c:\\\\Users\\\\Sai\\\\Documents\\\\GitHub\\\\SBOLtrainer\\\\notebooks\\\\..\\\\seqtrainer-dat\\\\sbol_data\\\\sample_design_10082.xml',\n",
       " 'c:\\\\Users\\\\Sai\\\\Documents\\\\GitHub\\\\SBOLtrainer\\\\notebooks\\\\..\\\\seqtrainer-dat\\\\sbol_data\\\\sample_design_10083.xml',\n",
       " 'c:\\\\Users\\\\Sai\\\\Documents\\\\GitHub\\\\SBOLtrainer\\\\notebooks\\\\..\\\\seqtrainer-dat\\\\sbol_data\\\\sample_design_10084.xml',\n",
       " 'c:\\\\Users\\\\Sai\\\\Documents\\\\GitHub\\\\SBOLtrainer\\\\notebooks\\\\..\\\\seqtrainer-dat\\\\sbol_data\\\\sample_design_10085.xml',\n",
       " 'c:\\\\Users\\\\Sai\\\\Documents\\\\GitHub\\\\SBOLtrainer\\\\notebooks\\\\..\\\\seqtrainer-dat\\\\sbol_data\\\\sample_design_10086.xml',\n",
       " 'c:\\\\Users\\\\Sai\\\\Documents\\\\GitHub\\\\SBOLtrainer\\\\notebooks\\\\..\\\\seqtrainer-dat\\\\sbol_data\\\\sample_design_10087.xml']"
      ]
     },
     "execution_count": 6,
     "metadata": {},
     "output_type": "execute_result"
    }
   ],
   "source": [
    "paths = [os.path.join(dataset_path, file_name) for file_name in os.listdir(dataset_path)][0:100]\n",
    "paths\n"
   ]
  },
  {
   "cell_type": "code",
   "execution_count": 7,
   "id": "ea477f61",
   "metadata": {},
   "outputs": [
    {
     "data": {
      "text/html": [
       "<div>\n",
       "<style scoped>\n",
       "    .dataframe tbody tr th:only-of-type {\n",
       "        vertical-align: middle;\n",
       "    }\n",
       "\n",
       "    .dataframe tbody tr th {\n",
       "        vertical-align: top;\n",
       "    }\n",
       "\n",
       "    .dataframe thead th {\n",
       "        text-align: right;\n",
       "    }\n",
       "</style>\n",
       "<table border=\"1\" class=\"dataframe\">\n",
       "  <thead>\n",
       "    <tr style=\"text-align: right;\">\n",
       "      <th></th>\n",
       "      <th>sequence</th>\n",
       "      <th>target</th>\n",
       "    </tr>\n",
       "  </thead>\n",
       "  <tbody>\n",
       "    <tr>\n",
       "      <th>0</th>\n",
       "      <td>GCAAATTTTGCACAAAAAATAGGCTTTAGTGATTTGTTTTTGTTCA...</td>\n",
       "      <td>52.010547</td>\n",
       "    </tr>\n",
       "    <tr>\n",
       "      <th>1</th>\n",
       "      <td>GTATCTGCCTCCGATTCTCTGCAGAAGCAGAAAGACATTGGATCGA...</td>\n",
       "      <td>0.565387</td>\n",
       "    </tr>\n",
       "    <tr>\n",
       "      <th>2</th>\n",
       "      <td>CTTCCAGGCGGGTGGGGTCAATGTCCATCAGGGCAATATGCGCCGT...</td>\n",
       "      <td>0.690511</td>\n",
       "    </tr>\n",
       "    <tr>\n",
       "      <th>3</th>\n",
       "      <td>ATCAAAAATGAAGCCGATAACGGCCTGCGCAACACGCGTGGCACCA...</td>\n",
       "      <td>0.696464</td>\n",
       "    </tr>\n",
       "    <tr>\n",
       "      <th>4</th>\n",
       "      <td>TTCTTCATCGGGCAGATCTTCAAACGGTACCAGTCGGCGGACGTTT...</td>\n",
       "      <td>0.561674</td>\n",
       "    </tr>\n",
       "    <tr>\n",
       "      <th>...</th>\n",
       "      <td>...</td>\n",
       "      <td>...</td>\n",
       "    </tr>\n",
       "    <tr>\n",
       "      <th>95</th>\n",
       "      <td>CAGTTATTAATTTACCCCACGTCATCTGTCATAACACAGGTAACTT...</td>\n",
       "      <td>0.663684</td>\n",
       "    </tr>\n",
       "    <tr>\n",
       "      <th>96</th>\n",
       "      <td>GGTCCAATGTTTGTTGATCTGGATGATGCACGTAATGGTCCAGCCG...</td>\n",
       "      <td>0.626161</td>\n",
       "    </tr>\n",
       "    <tr>\n",
       "      <th>97</th>\n",
       "      <td>CTGCCGCAAAACATCACCTTAACCGAAGTGTAATTCTCTCTTGCCG...</td>\n",
       "      <td>0.911449</td>\n",
       "    </tr>\n",
       "    <tr>\n",
       "      <th>98</th>\n",
       "      <td>GCGACTCGGGTAAAAATAGTACACCTCGGTAGTGTCAAACATCATT...</td>\n",
       "      <td>0.675017</td>\n",
       "    </tr>\n",
       "    <tr>\n",
       "      <th>99</th>\n",
       "      <td>CGCCGTTTGTCGGGCGTATTTATGACTGGTATCAGGCACGCAAGCC...</td>\n",
       "      <td>0.613285</td>\n",
       "    </tr>\n",
       "  </tbody>\n",
       "</table>\n",
       "<p>100 rows × 2 columns</p>\n",
       "</div>"
      ],
      "text/plain": [
       "                                             sequence     target\n",
       "0   GCAAATTTTGCACAAAAAATAGGCTTTAGTGATTTGTTTTTGTTCA...  52.010547\n",
       "1   GTATCTGCCTCCGATTCTCTGCAGAAGCAGAAAGACATTGGATCGA...   0.565387\n",
       "2   CTTCCAGGCGGGTGGGGTCAATGTCCATCAGGGCAATATGCGCCGT...   0.690511\n",
       "3   ATCAAAAATGAAGCCGATAACGGCCTGCGCAACACGCGTGGCACCA...   0.696464\n",
       "4   TTCTTCATCGGGCAGATCTTCAAACGGTACCAGTCGGCGGACGTTT...   0.561674\n",
       "..                                                ...        ...\n",
       "95  CAGTTATTAATTTACCCCACGTCATCTGTCATAACACAGGTAACTT...   0.663684\n",
       "96  GGTCCAATGTTTGTTGATCTGGATGATGCACGTAATGGTCCAGCCG...   0.626161\n",
       "97  CTGCCGCAAAACATCACCTTAACCGAAGTGTAATTCTCTCTTGCCG...   0.911449\n",
       "98  GCGACTCGGGTAAAAATAGTACACCTCGGTAGTGTCAAACATCATT...   0.675017\n",
       "99  CGCCGTTTGTCGGGCGTATTTATGACTGGTATCAGGCACGCAAGCC...   0.613285\n",
       "\n",
       "[100 rows x 2 columns]"
      ]
     },
     "execution_count": 7,
     "metadata": {},
     "output_type": "execute_result"
    }
   ],
   "source": [
    "desired_y_uri = \"http://www.ontology-of-units-of-measure.org/resource/om-2/hasNumericalValue\"\n",
    "df = dataset_builder.build_dataset(paths, desired_y_uri) \n",
    "df"
   ]
  },
  {
   "cell_type": "code",
   "execution_count": 8,
   "id": "4e942f3e",
   "metadata": {},
   "outputs": [],
   "source": [
    "ohe_dna = preprocessing.process_seqs(df, 150, 'sequence')"
   ]
  },
  {
   "cell_type": "code",
   "execution_count": 9,
   "id": "d6abf408",
   "metadata": {},
   "outputs": [],
   "source": [
    "y = df['target']\n",
    "y  = np.log1p(y)\n"
   ]
  },
  {
   "cell_type": "code",
   "execution_count": 10,
   "id": "93c34409",
   "metadata": {},
   "outputs": [],
   "source": [
    "X_train, X_test, y_train, y_test = train_test_split(ohe_dna, y, test_size=0.2, random_state=42)"
   ]
  },
  {
   "cell_type": "code",
   "execution_count": 11,
   "id": "97d9f8da",
   "metadata": {},
   "outputs": [
    {
     "name": "stdout",
     "output_type": "stream",
     "text": [
      "Random Forest Regressor - MSE: 0.6337398728096785, R2: -0.0494052482438303, MAE: 0.34963730962294964\n"
     ]
    }
   ],
   "source": [
    "rfr = RandomForestRegressor(n_estimators=100, random_state=42)\n",
    "rfr.fit(X_train, y_train)\n",
    "y_pred = rfr.predict(X_test)\n",
    "mse = mean_squared_error(y_test, y_pred)\n",
    "r2 = r2_score(y_test, y_pred)   \n",
    "mae = mean_absolute_error(y_test, y_pred)\n",
    "print(f\"Random Forest Regressor - MSE: {mse}, R2: {r2}, MAE: {mae}\")"
   ]
  },
  {
   "cell_type": "code",
   "execution_count": 12,
   "id": "522fb69d",
   "metadata": {},
   "outputs": [],
   "source": [
    "gc = preprocessing.calc_gc(df, \"sequence\")\n",
    "kmer = preprocessing.generate_kmer_counts(df, \"sequence\", 3)\n",
    "X = pd.concat([gc, kmer], axis=1)"
   ]
  },
  {
   "cell_type": "code",
   "execution_count": null,
   "id": "6f43543a",
   "metadata": {},
   "outputs": [],
   "source": [
    "X_train, X_test, y_train, y_test = train_test_split(X, y, test_size=0.2, random_state=42)"
   ]
  },
  {
   "cell_type": "code",
   "execution_count": null,
   "id": "b733040d",
   "metadata": {},
   "outputs": [],
   "source": [
    "lr = LinearRegression()\n",
    "lr.fit(X_train, y_train)\n",
    "y_pred = lr.predict(X_test)\n",
    "mse = mean_squared_error(y_test, y_pred)\n",
    "r2 = r2_score(y_test, y_pred)   \n",
    "mae = mean_absolute_error(y_test, y_pred)\n",
    "print(f\"Linear Regression - MSE: {mse}, R2: {r2}, MAE: {mae}\")"
   ]
  }
 ],
 "metadata": {
  "kernelspec": {
   "display_name": "testervenv",
   "language": "python",
   "name": "python3"
  },
  "language_info": {
   "codemirror_mode": {
    "name": "ipython",
    "version": 3
   },
   "file_extension": ".py",
   "mimetype": "text/x-python",
   "name": "python",
   "nbconvert_exporter": "python",
   "pygments_lexer": "ipython3",
   "version": "3.9.0"
  }
 },
 "nbformat": 4,
 "nbformat_minor": 5
}
