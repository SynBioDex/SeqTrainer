{
 "cells": [
  {
   "cell_type": "code",
   "execution_count": 11,
   "id": "cde76e0a",
   "metadata": {},
   "outputs": [],
   "source": [
    "import sbol2\n",
    "import os\n",
    "from rdflib import Graph\n",
    "import pandas as pd\n",
    "import numpy as np\n",
    "import torch\n",
    "from torch import Tensor\n",
    "import subprocess\n",
    "import tempfile\n",
    "from rdflib.query import ResultRow\n",
    "from sklearn.preprocessing import StandardScaler\n",
    "from torch_geometric.loader import DataLoader\n",
    "from torch_geometric.data import HeteroData\n",
    "import random\n",
    "import torch.nn.functional as F\n",
    "from torch_geometric.nn import HeteroConv, Linear, SAGEConv, GCNConv, GATConv, global_mean_pool, to_hetero\n",
    "import sys \n",
    "from tqdm import tqdm\n",
    "import matplotlib.pyplot as plt\n",
    "from sklearn.model_selection import train_test_split\n",
    "\n",
    "import pickle\n",
    "python_executable = sys.executable\n"
   ]
  },
  {
   "cell_type": "code",
   "execution_count": 2,
   "id": "57cf04b0",
   "metadata": {},
   "outputs": [],
   "source": [
    "current_dir = os.path.abspath('')\n",
    "data_path = os.path.join(current_dir, '..', 'data')\n",
    "attachments_path = os.path.join(current_dir, '..', 'attachments')\n",
    "pulled_attachments_path = os.path.join(current_dir, '..', 'pulled_attachments')\n",
    "sbol_path = os.path.join(current_dir, '..', 'sbol_data')\n",
    "downloaded_sbol_path = os.path.join(current_dir, '..', 'downloaded_sbol')\n",
    "original_data_path = os.path.join(data_path, 'original_data')\n",
    "nt_path = os.path.join(current_dir, '..', 'nt_data')\n",
    "scripts_path = os.path.join(current_dir, 'scripts')\n",
    "model_data_path = os.path.join(data_path, 'processed_data', 'replicated_models')\n",
    "model_output_path = os.path.join('..', 'model_outputs')"
   ]
  },
  {
   "cell_type": "code",
   "execution_count": null,
   "id": "e238b50a",
   "metadata": {},
   "outputs": [],
   "source": [
    "def xml_to_nt_and_get_y_measure(file_name):\n",
    "    g = Graph()\n",
    "    g.parse(os.path.join(sbol_path, file_name), format=\"xml\")\n",
    "    g.serialize(destination=os.path.join(nt_path, file_name.replace(\".xml\", \".nt\")), format=\"nt\")\n",
    "\n",
    "    sparql_query ='''PREFIX om: <http://www.ontology-of-units-of-measure.org/resource/om-2/>\n",
    "\n",
    "    SELECT ?numericalValue\n",
    "    WHERE {\n",
    "    ?s om:hasNumericalValue ?numericalValue .\n",
    "    }\n",
    "    '''\n",
    "    query_result = g.query(sparql_query)\n",
    "\n",
    "    # Process the results\n",
    "    if query_result:\n",
    "        for row in query_result:\n",
    "            if isinstance(row, ResultRow):\n",
    "                return float(row.numericalValue) \n",
    "                \n",
    "            else:\n",
    "                print(row)\n",
    "    else:\n",
    "        print(\"No numerical values found.\")\n",
    "    \n",
    "\n",
    "def convert_all_xml_to_nt_and_get_y_measures():\n",
    "    y_measures = []\n",
    "    for i, file_name in enumerate(os.listdir(os.path.join(sbol_path))):\n",
    "        y = xml_to_nt_and_get_y_measure(file_name)\n",
    "        y_measures.append(y)\n",
    "        if (i == 250):\n",
    "            break\n",
    "        print(file_name)\n",
    "    return y_measures\n",
    "\n",
    "def return_heterograph_for_one_nt(nt_file_name, node_names, edge_names):\n",
    "    \n",
    "    with tempfile.TemporaryDirectory() as temp_dir:\n",
    "        save_path_numeric = os.path.join(temp_dir, \"save_path_numeric\")\n",
    "        path = os.path.join(temp_dir, \"path\")\n",
    "        os.makedirs(save_path_numeric, exist_ok=True)\n",
    "        os.makedirs(path, exist_ok=True)\n",
    "\n",
    "        content_config_string = f'''\n",
    "        [InputPath]\n",
    "        input_path = {os.path.join(nt_path, nt_file_name)}\n",
    "\n",
    "        [SavePath]\n",
    "        save_path_numeric_graph = {save_path_numeric}\n",
    "        save_path_mapping = {path}\n",
    "\n",
    "        [NLD]\n",
    "        nld_class = ModuleDefinition\n",
    "\n",
    "        [EMBEDDING]\n",
    "        embedding_model = allenai/scibert_scivocab_uncased\n",
    "\n",
    "        [Nodes]\n",
    "        classes = ComponentDefinition, Sequence, ModuleDefinition, Module, FunctionalComponent, Component, SequenceAnnotation, Range\n",
    "\n",
    "        ComponentDefinition = http://sbols.org/v2#ComponentDefinition\n",
    "        Sequence = http://sbols.org/v2#Sequence\n",
    "        ModuleDefinition = http://sbols.org/v2#ModuleDefinition\n",
    "        Module = http://sbols.org/v2#Module\n",
    "        FunctionalComponent = http://sbols.org/v2#FunctionalComponent\n",
    "        Component = http://sbols.org/v2#Component\n",
    "        SequenceAnnotation = http://sbols.org/v2#SequenceAnnotation\n",
    "        Range = http://sbols.org/v2#Range\n",
    "\n",
    "        [SimpleEdges]\n",
    "        edge_names = ComponentDefinition_Sequence, ComponentDefinition_SequenceAnnotation\n",
    "        ComponentDefinition_Sequence_start_node = ComponentDefinition\n",
    "        ComponentDefinition_Sequence_properties = http://sbols.org/v2#sequence\n",
    "        ComponentDefinition_Sequence_end_node = Sequence\n",
    "        ComponentDefinition_SequenceAnnotation_start_node = ComponentDefinition\n",
    "        ComponentDefinition_SequenceAnnotation_properties = http://sbols.org/v2#sequenceAnnotation\n",
    "        ComponentDefinition_SequenceAnnotation_end_node = SequenceAnnotation\n",
    "\n",
    "        [N-HopEdges]\n",
    "        edge_names = ComponentDefinition_Range, ModuleDefinition_ComponentDefinition, ModuleDefinition_ModuleDefinition, ComponentDefinition_ComponentDefinition\n",
    "        ComponentDefinition_Range_start_node = ComponentDefinition\n",
    "        ComponentDefinition_Range_hop1_properties = http://sbols.org/v2#sequenceAnnotation\n",
    "        ComponentDefinition_Range_hop2_properties = http://sbols.org/v2#location\n",
    "        ComponentDefinition_Range_end_node = Range\n",
    "        ModuleDefinition_ComponentDefinition_start_node = ModuleDefinition\n",
    "        ModuleDefinition_ComponentDefinition_hop1_properties = http://sbols.org/v2#functionalComponent\n",
    "        ModuleDefinition_ComponentDefinition_hop2_properties = http://sbols.org/v2#definition\n",
    "        ModuleDefinition_ComponentDefinition_end_node = ComponentDefinition\n",
    "        ModuleDefinition_ModuleDefinition_start_node = ModuleDefinition\n",
    "        ModuleDefinition_ModuleDefinition_hop1_properties = http://sbols.org/v2#module\n",
    "        ModuleDefinition_ModuleDefinition_hop2_properties = http://sbols.org/v2#definition\n",
    "        ModuleDefinition_ModuleDefinition_end_node = ModuleDefinition\n",
    "        ComponentDefinition_ComponentDefinition_start_node = ComponentDefinition\n",
    "        ComponentDefinition_ComponentDefinition_hop1_properties = http://sbols.org/v2#component\n",
    "        ComponentDefinition_ComponentDefinition_hop2_properties = http://sbols.org/v2#definition\n",
    "        ComponentDefinition_ComponentDefinition_end_node = ComponentDefinition\n",
    "\n",
    "        [N-ArayEdges]\n",
    "        edge_names = ComponentDefinition_Range\n",
    "        ComponentDefinition_Range_start_node = ComponentDefinition\n",
    "        ComponentDefinition_Range_properties = http://sbols.org/v2#sequenceAnnotation, http://sbols.org/v2#location\n",
    "        ComponentDefinition_Range_end_node = Range\n",
    "\n",
    "        [N-ArayFeaturePath]\n",
    "        ComponentDefinition_Range_feature_path = http://sbols.org/v2#sequenceAnnotation, http://sbols.org/v2#location\n",
    "\n",
    "        [N-ArayFeatureValue]\n",
    "        ComponentDefinition_Range_feature_value = http://sbols.org/v2#start, http://sbols.org/v2#end\n",
    "        '''\n",
    "\n",
    "        topo_config_string = f'''\n",
    "        [InputPath]\n",
    "        input_path = {os.path.join(nt_path, nt_file_name)}\n",
    "\n",
    "        [SavePath]\n",
    "        save_path_numeric_graph = {save_path_numeric}\n",
    "        save_path_mapping = {path}\n",
    "\n",
    "        [MODEL] ;required, options = transe / complex / distmult / rotate\n",
    "        kge_model = distmult\n",
    "\n",
    "        [Nodes]\n",
    "        classes = ComponentDefinition, Sequence, ModuleDefinition, Module, FunctionalComponent, Component, SequenceAnnotation, Range\n",
    "\n",
    "        ComponentDefinition = http://sbols.org/v2#ComponentDefinition\n",
    "        Sequence = http://sbols.org/v2#Sequence\n",
    "        ModuleDefinition = http://sbols.org/v2#ModuleDefinition\n",
    "        Module = http://sbols.org/v2#Module\n",
    "        FunctionalComponent = http://sbols.org/v2#FunctionalComponent\n",
    "        Component = http://sbols.org/v2#Component\n",
    "        SequenceAnnotation = http://sbols.org/v2#SequenceAnnotation\n",
    "        Range = http://sbols.org/v2#Range\n",
    "\n",
    "        [SimpleEdges]\n",
    "        edge_names = ComponentDefinition_Sequence, ComponentDefinition_SequenceAnnotation\n",
    "        ComponentDefinition_Sequence_start_node = ComponentDefinition\n",
    "        ComponentDefinition_Sequence_properties = http://sbols.org/v2#sequence\n",
    "        ComponentDefinition_Sequence_end_node = Sequence\n",
    "        ComponentDefinition_SequenceAnnotation_start_node = ComponentDefinition\n",
    "        ComponentDefinition_SequenceAnnotation_properties = http://sbols.org/v2#sequenceAnnotation\n",
    "        ComponentDefinition_SequenceAnnotation_end_node = SequenceAnnotation\n",
    "\n",
    "        [N-HopEdges]\n",
    "        edge_names = ComponentDefinition_Range, ModuleDefinition_ComponentDefinition, ModuleDefinition_ModuleDefinition, ComponentDefinition_ComponentDefinition\n",
    "        ComponentDefinition_Range_start_node = ComponentDefinition\n",
    "        ComponentDefinition_Range_hop1_properties = http://sbols.org/v2#sequenceAnnotation\n",
    "        ComponentDefinition_Range_hop2_properties = http://sbols.org/v2#location\n",
    "        ComponentDefinition_Range_end_node = Range\n",
    "        ModuleDefinition_ComponentDefinition_start_node = ModuleDefinition\n",
    "        ModuleDefinition_ComponentDefinition_hop1_properties = http://sbols.org/v2#functionalComponent\n",
    "        ModuleDefinition_ComponentDefinition_hop2_properties = http://sbols.org/v2#definition\n",
    "        ModuleDefinition_ComponentDefinition_end_node = ComponentDefinition\n",
    "        ModuleDefinition_ModuleDefinition_start_node = ModuleDefinition\n",
    "        ModuleDefinition_ModuleDefinition_hop1_properties = http://sbols.org/v2#module\n",
    "        ModuleDefinition_ModuleDefinition_hop2_properties = http://sbols.org/v2#definition\n",
    "        ModuleDefinition_ModuleDefinition_end_node = ModuleDefinition\n",
    "        ComponentDefinition_ComponentDefinition_start_node = ComponentDefinition\n",
    "        ComponentDefinition_ComponentDefinition_hop1_properties = http://sbols.org/v2#component\n",
    "        ComponentDefinition_ComponentDefinition_hop2_properties = http://sbols.org/v2#definition\n",
    "        ComponentDefinition_ComponentDefinition_end_node = ComponentDefinition\n",
    "\n",
    "        [N-ArayEdges]\n",
    "        edge_names = ComponentDefinition_Range\n",
    "        ComponentDefinition_Range_start_node = ComponentDefinition\n",
    "        ComponentDefinition_Range_properties = http://sbols.org/v2#sequenceAnnotation, http://sbols.org/v2#location\n",
    "        ComponentDefinition_Range_end_node = Range\n",
    "\n",
    "        [EmbeddingClasses] \n",
    "        class_list = http://sbols.org/v2#ComponentDefinition, http://sbols.org/v2#Sequence, http://sbols.org/v2#ModuleDefinition, http://sbols.org/v2#Module, http://sbols.org/v2#FunctionalComponent, http://sbols.org/v2#Component, http://sbols.org/v2#SequenceAnnotation, http://sbols.org/v2#Range\n",
    "\n",
    "        [EmbeddingPredicates] \n",
    "        pred_list = http://sbols.org/v2#location, http://sbols.org/v2#sequenceAnnotation, http://sbols.org/v2#functionalComponent, http://sbols.org/v2#definition, http://sbols.org/v2#module, http://sbols.org/v2#component, https://sbols.org/v2#sequence, http://www.w3.org/1999/02/22-rdf-syntax-ns#type\n",
    "        '''\n",
    "\n",
    "        with open(os.path.join(temp_dir,'config.ini'), 'w') as file:\n",
    "            file.write(content_config_string)\n",
    "\n",
    "        with open(os.path.join(temp_dir,'topo-config.ini'), 'w') as file:\n",
    "            file.write(topo_config_string)\n",
    "\n",
    "        content_result = subprocess.run([python_executable, \"autordf2gml.py\", \"--config_path\", os.path.join(temp_dir,\"config.ini\")], shell=False, capture_output=True, text=True)\n",
    "        topo_result = subprocess.run([python_executable, \"autordf2gml-tb.py\", \"--config_path\", os.path.join(temp_dir,\"topo-config.ini\")], shell=False, capture_output=True, text=True, encoding='utf-8', errors='replace')\n",
    "\n",
    "        print(topo_result.stderr)\n",
    "        if (topo_result.returncode == 0):\n",
    "            print(\"topology-based conversion done!\")\n",
    "        else:\n",
    "            print(f\"topology-based conversion failed with return code {topo_result.returncode}.\")\n",
    "\n",
    "        \n",
    "        data = HeteroData()\n",
    "        local_indices_map = {}            \n",
    "\n",
    "        for node_name in node_names:\n",
    "            node_features_df = pd.read_csv(os.path.join(save_path_numeric, f'pivoted_df_{node_name}.csv'), header=None).astype(float)\n",
    "            node_tensor = torch.tensor(node_features_df.values, dtype=torch.float)\n",
    "            id_mapping_df = pd.read_csv(os.path.join(path, f'pivoted_df_{node_name}.csv'))\n",
    "            subject_mapping_dict = id_mapping_df.set_index('subject')['mapping'].to_dict()\n",
    "\n",
    "            topo_df = pd.read_csv(os.path.join(save_path_numeric, f\"uri_list_{node_name}.csv\"))\n",
    "            topo_df['mapped_col'] = topo_df['subject'].map(subject_mapping_dict)\n",
    "            topo_df = topo_df.sort_values(by='mapped_col')\n",
    "            topo_df = topo_df.drop(['subject', 'mapped_col'], axis=1).astype(float)\n",
    "            node_tensor_topo = torch.tensor(topo_df.values, dtype=torch.float)\n",
    "\n",
    "\n",
    "            print(f'{node_name}, topo shape:  {node_tensor_topo.shape}, numeric shape:  {node_tensor.shape}, filename={nt_file_name}')\n",
    "\n",
    "            node_tensor = torch.concat([node_tensor, node_tensor_topo], dim=1)\n",
    "            \n",
    "            data[node_name].node_id = torch.arange(len(id_mapping_df))\n",
    "            data[node_name].x = node_tensor\n",
    "            local_indices_map = subject_mapping_dict | local_indices_map\n",
    "                \n",
    "        for edge in edge_names:\n",
    "            df = pd.read_csv( os.path.join(save_path_numeric, f\"edge_list_{edge}.csv\"), header=None)\n",
    "            \n",
    "            src = df[0].values\n",
    "            dst = df[1].values\n",
    "\n",
    "            src = torch.tensor([local_indices_map[src[i]] for i in range(len(src))], dtype=torch.long)\n",
    "            dst = torch.tensor([local_indices_map[dst[i]] for i in range(len(dst))], dtype=torch.long)\n",
    "            data[edge.split(\"_\")[0], f'has_{edge.split(\"_\")[1]}', edge.split(\"_\")[1]].edge_index = torch.stack([src, dst], dim=0)\n",
    "        \n",
    "        return data\n",
    "    \n",
    "class HeteroGNN_GraphLevel(torch.nn.Module):\n",
    "    def __init__(self, metadata, hidden_channels, num_layers):\n",
    "        super().__init__()\n",
    "        self.metadata = metadata  # (node_types, edge_types)\n",
    "        print(\"Metadata: \", self.metadata[1])\n",
    "\n",
    "        unique_nodes = set()\n",
    "        \n",
    "        for edge_tuple in self.metadata[1]:\n",
    "            unique_nodes.add(edge_tuple[0])\n",
    "            unique_nodes.add(edge_tuple[2])\n",
    "\n",
    "        self.convs = torch.nn.ModuleList()\n",
    "\n",
    "        for _ in range(num_layers):  # number of layers\n",
    "            \n",
    "            conv_dict = {}\n",
    "            for edge_type in self.metadata[1]: \n",
    "                src, _, dst = edge_type\n",
    "                conv_layer = GATConv((-1, -1), hidden_channels) if src == dst else SAGEConv((-1, -1), hidden_channels)\n",
    "\n",
    "                conv_dict[edge_type] = conv_layer\n",
    "            hetero_conv = HeteroConv(conv_dict, aggr='sum')\n",
    "            self.convs.append(hetero_conv)            \n",
    "\n",
    "        total_hidden = len(unique_nodes) * hidden_channels\n",
    "        self.lin = torch.nn.Sequential(\n",
    "            Linear(total_hidden, hidden_channels),\n",
    "            torch.nn.ReLU(),\n",
    "            torch.nn.Dropout(0.7),\n",
    "            Linear(hidden_channels, 1) \n",
    "        )\n",
    "\n",
    "    def forward(self, x_dict, edge_index_dict, batch_dict):\n",
    "\n",
    "        for conv in self.convs:\n",
    "            x_dict = conv(x_dict, edge_index_dict)\n",
    "            x_dict = {k: F.relu(v) for k, v in x_dict.items()}\n",
    "\n",
    "\n",
    "        # Pool all node types, then concatenate\n",
    "        pooled = [\n",
    "            global_mean_pool(x_dict[node_type], batch_dict[node_type])\n",
    "            for node_type in x_dict\n",
    "        ]        \n",
    "        graph_embeddings = torch.cat(pooled, dim=-1)  # shape: [batch_size, total_hidden]\n",
    "        return self.lin(graph_embeddings).view(-1)     # shape: [batch_size]\n",
    "\n",
    "\n",
    "\n",
    "\n",
    "def return_all_graphs(node_classes, y_measures, all_edges_formatted):\n",
    "    all_data = []\n",
    "    files = os.listdir(nt_path)\n",
    "    \n",
    "    for i, filename in enumerate(tqdm(files, desc=\"Generating graphs\")):\n",
    "        data = return_heterograph_for_one_nt(filename, node_classes, all_edges_formatted)\n",
    "        data.y = y_measures[i]\n",
    "        all_data.append(data)\n",
    "        print(filename)\n",
    "\n",
    "        if (i == 250):\n",
    "            break\n",
    "    \n",
    "    return all_data\n",
    "\n",
    "\n",
    "\n",
    "def evaluate_on_test(model, test_loader, device):\n",
    "    model.eval()\n",
    "    total_test_loss = 0\n",
    "    preds = []\n",
    "    trues = []\n",
    "\n",
    "    with torch.no_grad():\n",
    "        for batch in test_loader:\n",
    "            batch = batch.to(device)\n",
    "            out = model(batch.x_dict, batch.edge_index_dict, batch.batch_dict)\n",
    "            target = batch.y.float().view(-1).to(device)\n",
    "            loss = F.mse_loss(out, target)\n",
    "            total_test_loss += loss.item() * batch.num_graphs\n",
    "\n",
    "            preds.extend(out.cpu().numpy())\n",
    "            trues.extend(target.cpu().numpy())\n",
    "\n",
    "    avg_test_loss = total_test_loss / len(test_loader.dataset)\n",
    "    print(f\"Test Loss (MSE): {avg_test_loss}\")\n",
    "    return avg_test_loss, preds, trues\n",
    "\n",
    "\n",
    "def train_GNN(all_data):\n",
    "\n",
    "    random.shuffle(all_data)\n",
    "    train_size = int(0.8 * len(all_data))\n",
    "    train_data = all_data[:train_size]\n",
    "    val_data = all_data[train_size:]\n",
    "\n",
    "    train_loader = DataLoader(train_data, batch_size=10, shuffle=True)\n",
    "    val_loader = DataLoader(val_data, batch_size=10, shuffle=False) \n",
    "\n",
    "    model = HeteroGNN_GraphLevel(metadata=all_data[0].metadata(), hidden_channels=64, num_layers=10)\n",
    "    optimizer = torch.optim.Adam(model.parameters(), lr=0.001, weight_decay=1e-4)\n",
    "\n",
    "    device = torch.device('cuda' if torch.cuda.is_available() else 'cpu')\n",
    "    model = model.to(device)\n",
    "\n",
    "    history = {\n",
    "    \"train_loss\": [],\n",
    "    \"val_loss\": []\n",
    "    }\n",
    "\n",
    "    for epoch in range(1, 100):\n",
    "        model.train()\n",
    "        total_train_loss = 0\n",
    "\n",
    "        for batch in train_loader:\n",
    "            batch = batch.to(device)\n",
    "            optimizer.zero_grad()\n",
    "            out = model(batch.x_dict, batch.edge_index_dict, batch.batch_dict)\n",
    "            target = torch.tensor(batch.y, dtype=torch.float32).view(-1).to(device)\n",
    "            loss = F.mse_loss(out, target)\n",
    "            loss.backward()\n",
    "            optimizer.step()\n",
    "            total_train_loss += loss.item() * batch.num_graphs\n",
    "\n",
    "        model.eval()\n",
    "        total_val_loss = 0\n",
    "        with torch.no_grad():\n",
    "            for batch in val_loader:\n",
    "                batch = batch.to(device)\n",
    "                out = model(batch.x_dict, batch.edge_index_dict, batch.batch_dict)\n",
    "                target = batch.y.float().view(-1).to(device)\n",
    "                loss = F.mse_loss(out, target)\n",
    "                total_val_loss += loss.item() * batch.num_graphs\n",
    "\n",
    "        train_epoch_loss = total_train_loss / len(train_loader.dataset)\n",
    "        val_epoch_loss = total_val_loss / len(val_loader.dataset)\n",
    "        history[\"train_loss\"].append(train_epoch_loss)\n",
    "        history[\"val_loss\"].append(val_epoch_loss)\n",
    "\n",
    "        print(f\"Epoch {epoch:03d} | Train Loss: {train_epoch_loss:.4f} | Val Loss: {val_epoch_loss:.4f}\")\n",
    "    return model, history, device\n",
    "\n"
   ]
  },
  {
   "cell_type": "code",
   "execution_count": 34,
   "id": "7ba04a84",
   "metadata": {},
   "outputs": [],
   "source": [
    "node_classes = [\n",
    "    \"ComponentDefinition\",\n",
    "    \"Sequence\",\n",
    "    \"ModuleDefinition\",\n",
    "    \"Module\",\n",
    "    \"FunctionalComponent\",\n",
    "    \"Component\",\n",
    "    \"SequenceAnnotation\",\n",
    "    \"Range\"\n",
    "]\n",
    "\n",
    "all_edges_formatted = [\n",
    "    \"ComponentDefinition_Sequence\",\n",
    "    \"ComponentDefinition_SequenceAnnotation\",\n",
    "    \"ComponentDefinition_Range\",\n",
    "    \"ModuleDefinition_ComponentDefinition\",\n",
    "    \"ModuleDefinition_ModuleDefinition\",\n",
    "    \"ComponentDefinition_ComponentDefinition\",\n",
    "]\n",
    "\n",
    "def return_standardized_labels(y_measures):\n",
    "    all_y_values_np = np.array(y_measures).reshape(-1, 1)\n",
    "    scaler_y = StandardScaler()\n",
    "    y_scaled = scaler_y.fit_transform(all_y_values_np)\n",
    "    return y_scaled, scaler_y\n",
    "\n"
   ]
  },
  {
   "cell_type": "code",
   "execution_count": 15,
   "id": "4eaa2ba9",
   "metadata": {},
   "outputs": [],
   "source": [
    "with open('numbers.pkl', 'rb') as file:\n",
    "    y = pickle.load(file)\n",
    "\n",
    "y_scaled, scaler_y = return_standardized_labels(y)\n",
    "\n",
    "with open('heterographs.pkl', 'rb') as file:\n",
    "    X_graphs = pickle.load(file)\n",
    "\n",
    "for graph, y_measure in zip(X_graphs, y_scaled):\n",
    "    graph.y = torch.tensor(y_measure, dtype=torch.float32)"
   ]
  },
  {
   "cell_type": "code",
   "execution_count": null,
   "id": "abed628b",
   "metadata": {},
   "outputs": [
    {
     "name": "stderr",
     "output_type": "stream",
     "text": [
      "c:\\Users\\Sai\\Documents\\GitHub\\SBOLtrainer\\trainvenv\\lib\\site-packages\\rdflib\\plugins\\serializers\\nt.py:40: UserWarning: NTSerializer always uses UTF-8 encoding. Given encoding was: None\n",
      "  warnings.warn(\n"
     ]
    },
    {
     "name": "stdout",
     "output_type": "stream",
     "text": [
      "sample_design_0.xml\n",
      "sample_design_1.xml\n",
      "sample_design_10.xml\n",
      "sample_design_100.xml\n",
      "sample_design_1000.xml\n",
      "sample_design_10000.xml\n",
      "sample_design_10001.xml\n",
      "sample_design_10002.xml\n",
      "sample_design_10003.xml\n",
      "sample_design_10004.xml\n",
      "sample_design_10005.xml\n",
      "sample_design_10006.xml\n",
      "sample_design_10007.xml\n",
      "sample_design_10008.xml\n",
      "sample_design_10009.xml\n",
      "sample_design_1001.xml\n",
      "sample_design_10010.xml\n",
      "sample_design_10011.xml\n",
      "sample_design_10012.xml\n",
      "sample_design_10013.xml\n",
      "sample_design_10015.xml\n",
      "sample_design_10016.xml\n",
      "sample_design_10017.xml\n",
      "sample_design_10018.xml\n",
      "sample_design_10019.xml\n",
      "sample_design_1002.xml\n",
      "sample_design_10020.xml\n",
      "sample_design_10021.xml\n",
      "sample_design_10022.xml\n",
      "sample_design_10023.xml\n",
      "sample_design_10024.xml\n",
      "sample_design_10025.xml\n",
      "sample_design_10026.xml\n",
      "sample_design_10027.xml\n",
      "sample_design_10028.xml\n",
      "sample_design_10029.xml\n",
      "sample_design_1003.xml\n",
      "sample_design_10030.xml\n",
      "sample_design_10031.xml\n",
      "sample_design_10032.xml\n",
      "sample_design_10033.xml\n",
      "sample_design_10034.xml\n",
      "sample_design_10035.xml\n",
      "sample_design_10036.xml\n",
      "sample_design_10037.xml\n",
      "sample_design_10038.xml\n",
      "sample_design_10039.xml\n",
      "sample_design_1004.xml\n",
      "sample_design_10040.xml\n",
      "sample_design_10041.xml\n",
      "sample_design_10042.xml\n",
      "sample_design_10043.xml\n",
      "sample_design_10044.xml\n",
      "sample_design_10045.xml\n",
      "sample_design_10046.xml\n",
      "sample_design_10047.xml\n",
      "sample_design_10048.xml\n",
      "sample_design_10049.xml\n",
      "sample_design_1005.xml\n",
      "sample_design_10050.xml\n",
      "sample_design_10051.xml\n",
      "sample_design_10052.xml\n",
      "sample_design_10053.xml\n",
      "sample_design_10054.xml\n",
      "sample_design_10055.xml\n",
      "sample_design_10056.xml\n",
      "sample_design_10057.xml\n",
      "sample_design_10058.xml\n",
      "sample_design_10059.xml\n",
      "sample_design_1006.xml\n",
      "sample_design_10060.xml\n",
      "sample_design_10061.xml\n",
      "sample_design_10062.xml\n",
      "sample_design_10063.xml\n",
      "sample_design_10064.xml\n",
      "sample_design_10065.xml\n",
      "sample_design_10066.xml\n",
      "sample_design_10067.xml\n",
      "sample_design_10068.xml\n",
      "sample_design_10069.xml\n",
      "sample_design_1007.xml\n",
      "sample_design_10070.xml\n",
      "sample_design_10071.xml\n",
      "sample_design_10072.xml\n",
      "sample_design_10073.xml\n",
      "sample_design_10074.xml\n",
      "sample_design_10075.xml\n",
      "sample_design_10076.xml\n",
      "sample_design_10077.xml\n",
      "sample_design_10078.xml\n",
      "sample_design_10079.xml\n",
      "sample_design_1008.xml\n",
      "sample_design_10080.xml\n",
      "sample_design_10081.xml\n",
      "sample_design_10082.xml\n",
      "sample_design_10083.xml\n",
      "sample_design_10084.xml\n",
      "sample_design_10085.xml\n",
      "sample_design_10086.xml\n",
      "sample_design_10087.xml\n",
      "sample_design_10088.xml\n",
      "sample_design_10089.xml\n",
      "sample_design_1009.xml\n",
      "sample_design_10090.xml\n",
      "sample_design_10091.xml\n",
      "sample_design_10092.xml\n",
      "sample_design_10093.xml\n",
      "sample_design_10094.xml\n",
      "sample_design_10095.xml\n",
      "sample_design_10096.xml\n",
      "sample_design_10097.xml\n",
      "sample_design_10098.xml\n",
      "sample_design_10099.xml\n",
      "sample_design_101.xml\n",
      "sample_design_1010.xml\n",
      "sample_design_10100.xml\n",
      "sample_design_10101.xml\n",
      "sample_design_10102.xml\n",
      "sample_design_10103.xml\n",
      "sample_design_10104.xml\n",
      "sample_design_10105.xml\n",
      "sample_design_10106.xml\n",
      "sample_design_10107.xml\n",
      "sample_design_10108.xml\n",
      "sample_design_10109.xml\n",
      "sample_design_1011.xml\n",
      "sample_design_10110.xml\n",
      "sample_design_10111.xml\n",
      "sample_design_10112.xml\n",
      "sample_design_10113.xml\n",
      "sample_design_10114.xml\n",
      "sample_design_10115.xml\n",
      "sample_design_10116.xml\n",
      "sample_design_10117.xml\n",
      "sample_design_10118.xml\n",
      "sample_design_10119.xml\n",
      "sample_design_1012.xml\n",
      "sample_design_10120.xml\n",
      "sample_design_10121.xml\n",
      "sample_design_10122.xml\n",
      "sample_design_10124.xml\n",
      "sample_design_10125.xml\n",
      "sample_design_10126.xml\n",
      "sample_design_10127.xml\n",
      "sample_design_10128.xml\n",
      "sample_design_10129.xml\n",
      "sample_design_1013.xml\n",
      "sample_design_10130.xml\n",
      "sample_design_10131.xml\n",
      "sample_design_10132.xml\n",
      "sample_design_10133.xml\n",
      "sample_design_10134.xml\n",
      "sample_design_10135.xml\n",
      "sample_design_10136.xml\n",
      "sample_design_10137.xml\n",
      "sample_design_10138.xml\n",
      "sample_design_10139.xml\n",
      "sample_design_1014.xml\n",
      "sample_design_10140.xml\n",
      "sample_design_10141.xml\n",
      "sample_design_10142.xml\n",
      "sample_design_10143.xml\n",
      "sample_design_10144.xml\n",
      "sample_design_10145.xml\n",
      "sample_design_10146.xml\n",
      "sample_design_10147.xml\n",
      "sample_design_10149.xml\n",
      "sample_design_1015.xml\n",
      "sample_design_10150.xml\n",
      "sample_design_10151.xml\n",
      "sample_design_10152.xml\n",
      "sample_design_10153.xml\n",
      "sample_design_10154.xml\n",
      "sample_design_10155.xml\n",
      "sample_design_10156.xml\n",
      "sample_design_10157.xml\n",
      "sample_design_10158.xml\n",
      "sample_design_10159.xml\n",
      "sample_design_1016.xml\n",
      "sample_design_10160.xml\n",
      "sample_design_10161.xml\n",
      "sample_design_10162.xml\n",
      "sample_design_10163.xml\n",
      "sample_design_10164.xml\n",
      "sample_design_10165.xml\n",
      "sample_design_10166.xml\n",
      "sample_design_10167.xml\n",
      "sample_design_10168.xml\n",
      "sample_design_10169.xml\n",
      "sample_design_1017.xml\n",
      "sample_design_10170.xml\n",
      "sample_design_10171.xml\n",
      "sample_design_10172.xml\n",
      "sample_design_10173.xml\n",
      "sample_design_10174.xml\n",
      "sample_design_10175.xml\n",
      "sample_design_10176.xml\n",
      "sample_design_10177.xml\n",
      "sample_design_10178.xml\n",
      "sample_design_10179.xml\n",
      "sample_design_1018.xml\n",
      "sample_design_10180.xml\n",
      "sample_design_10181.xml\n",
      "sample_design_10182.xml\n",
      "sample_design_10183.xml\n",
      "sample_design_10184.xml\n",
      "sample_design_10185.xml\n",
      "sample_design_10186.xml\n",
      "sample_design_10187.xml\n",
      "sample_design_10188.xml\n",
      "sample_design_10189.xml\n",
      "sample_design_1019.xml\n",
      "sample_design_10190.xml\n",
      "sample_design_10191.xml\n",
      "sample_design_10192.xml\n",
      "sample_design_10193.xml\n",
      "sample_design_10194.xml\n",
      "sample_design_10196.xml\n",
      "sample_design_10197.xml\n",
      "sample_design_10198.xml\n",
      "sample_design_10199.xml\n",
      "sample_design_102.xml\n",
      "sample_design_1020.xml\n",
      "sample_design_10200.xml\n",
      "sample_design_10201.xml\n",
      "sample_design_10202.xml\n",
      "sample_design_10203.xml\n",
      "sample_design_10204.xml\n",
      "sample_design_10205.xml\n",
      "sample_design_10206.xml\n",
      "sample_design_10207.xml\n",
      "sample_design_10208.xml\n",
      "sample_design_10209.xml\n",
      "sample_design_1021.xml\n",
      "sample_design_10210.xml\n",
      "sample_design_10211.xml\n",
      "sample_design_10212.xml\n",
      "sample_design_10213.xml\n",
      "sample_design_10214.xml\n",
      "sample_design_10215.xml\n",
      "sample_design_10216.xml\n",
      "sample_design_10217.xml\n",
      "sample_design_10218.xml\n",
      "sample_design_10219.xml\n",
      "sample_design_1022.xml\n",
      "sample_design_10220.xml\n",
      "sample_design_10221.xml\n",
      "sample_design_10222.xml\n",
      "sample_design_10223.xml\n",
      "sample_design_10224.xml\n"
     ]
    },
    {
     "name": "stderr",
     "output_type": "stream",
     "text": [
      "Generating graphs:   0%|          | 1/17055 [00:13<66:09:23, 13.97s/it]"
     ]
    },
    {
     "name": "stdout",
     "output_type": "stream",
     "text": [
      "ComponentDefinition_Sequence\n",
      "tensor([0])\n",
      "ComponentDefinition_SequenceAnnotation\n",
      "tensor([0])\n",
      "ComponentDefinition_Range\n",
      "tensor([0])\n",
      "ModuleDefinition_ComponentDefinition\n",
      "tensor([1, 0])\n",
      "ModuleDefinition_ModuleDefinition\n",
      "tensor([1, 3, 0])\n",
      "ComponentDefinition_ComponentDefinition\n",
      "tensor([2])\n",
      "sample_design_0.nt\n"
     ]
    },
    {
     "name": "stderr",
     "output_type": "stream",
     "text": [
      "Generating graphs:   0%|          | 2/17055 [00:26<61:25:43, 12.97s/it]"
     ]
    },
    {
     "name": "stdout",
     "output_type": "stream",
     "text": [
      "ComponentDefinition_Sequence\n",
      "tensor([0])\n",
      "ComponentDefinition_SequenceAnnotation\n",
      "tensor([0])\n",
      "ComponentDefinition_Range\n",
      "tensor([0])\n",
      "ModuleDefinition_ComponentDefinition\n",
      "tensor([0, 1])\n",
      "ModuleDefinition_ModuleDefinition\n",
      "tensor([0, 3, 1])\n",
      "ComponentDefinition_ComponentDefinition\n",
      "tensor([2])\n",
      "sample_design_1.nt\n"
     ]
    },
    {
     "name": "stderr",
     "output_type": "stream",
     "text": [
      "Generating graphs:   0%|          | 3/17055 [00:38<59:42:12, 12.60s/it]"
     ]
    },
    {
     "name": "stdout",
     "output_type": "stream",
     "text": [
      "ComponentDefinition_Sequence\n",
      "tensor([0])\n",
      "ComponentDefinition_SequenceAnnotation\n",
      "tensor([0])\n",
      "ComponentDefinition_Range\n",
      "tensor([0])\n",
      "ModuleDefinition_ComponentDefinition\n",
      "tensor([1, 0])\n",
      "ModuleDefinition_ModuleDefinition\n",
      "tensor([1, 3, 0])\n",
      "ComponentDefinition_ComponentDefinition\n",
      "tensor([2])\n",
      "sample_design_10.nt\n"
     ]
    },
    {
     "name": "stderr",
     "output_type": "stream",
     "text": [
      "Generating graphs:   0%|          | 4/17055 [00:50<58:22:11, 12.32s/it]"
     ]
    },
    {
     "name": "stdout",
     "output_type": "stream",
     "text": [
      "ComponentDefinition_Sequence\n",
      "tensor([0])\n",
      "ComponentDefinition_SequenceAnnotation\n",
      "tensor([0])\n",
      "ComponentDefinition_Range\n",
      "tensor([0])\n",
      "ModuleDefinition_ComponentDefinition\n",
      "tensor([0, 1])\n",
      "ModuleDefinition_ModuleDefinition\n",
      "tensor([0, 1, 3])\n",
      "ComponentDefinition_ComponentDefinition\n",
      "tensor([2])\n",
      "sample_design_100.nt\n"
     ]
    },
    {
     "name": "stderr",
     "output_type": "stream",
     "text": [
      "Generating graphs:   0%|          | 5/17055 [01:02<57:32:28, 12.15s/it]"
     ]
    },
    {
     "name": "stdout",
     "output_type": "stream",
     "text": [
      "ComponentDefinition_Sequence\n",
      "tensor([0])\n",
      "ComponentDefinition_SequenceAnnotation\n",
      "tensor([0])\n",
      "ComponentDefinition_Range\n",
      "tensor([0])\n",
      "ModuleDefinition_ComponentDefinition\n",
      "tensor([1, 0])\n",
      "ModuleDefinition_ModuleDefinition\n",
      "tensor([1, 3, 0])\n",
      "ComponentDefinition_ComponentDefinition\n",
      "tensor([2])\n",
      "sample_design_1000.nt\n"
     ]
    },
    {
     "name": "stderr",
     "output_type": "stream",
     "text": [
      "Generating graphs:   0%|          | 6/17055 [01:14<57:34:16, 12.16s/it]"
     ]
    },
    {
     "name": "stdout",
     "output_type": "stream",
     "text": [
      "ComponentDefinition_Sequence\n",
      "tensor([0])\n",
      "ComponentDefinition_SequenceAnnotation\n",
      "tensor([0])\n",
      "ComponentDefinition_Range\n",
      "tensor([0])\n",
      "ModuleDefinition_ComponentDefinition\n",
      "tensor([0, 1])\n",
      "ModuleDefinition_ModuleDefinition\n",
      "tensor([0, 1, 3])\n",
      "ComponentDefinition_ComponentDefinition\n",
      "tensor([2])\n",
      "sample_design_10000.nt\n"
     ]
    },
    {
     "name": "stderr",
     "output_type": "stream",
     "text": [
      "Generating graphs:   0%|          | 7/17055 [01:26<57:17:39, 12.10s/it]"
     ]
    },
    {
     "name": "stdout",
     "output_type": "stream",
     "text": [
      "ComponentDefinition_Sequence\n",
      "tensor([0])\n",
      "ComponentDefinition_SequenceAnnotation\n",
      "tensor([0])\n",
      "ComponentDefinition_Range\n",
      "tensor([0])\n",
      "ModuleDefinition_ComponentDefinition\n",
      "tensor([1, 0])\n",
      "ModuleDefinition_ModuleDefinition\n",
      "tensor([1, 3, 0])\n",
      "ComponentDefinition_ComponentDefinition\n",
      "tensor([2])\n",
      "sample_design_10001.nt\n"
     ]
    },
    {
     "name": "stderr",
     "output_type": "stream",
     "text": [
      "Generating graphs:   0%|          | 8/17055 [01:53<79:39:13, 16.82s/it]"
     ]
    },
    {
     "name": "stdout",
     "output_type": "stream",
     "text": [
      "ComponentDefinition_Sequence\n",
      "tensor([0])\n",
      "ComponentDefinition_SequenceAnnotation\n",
      "tensor([0])\n",
      "ComponentDefinition_Range\n",
      "tensor([0])\n",
      "ModuleDefinition_ComponentDefinition\n",
      "tensor([1, 0])\n",
      "ModuleDefinition_ModuleDefinition\n",
      "tensor([1, 3, 0])\n",
      "ComponentDefinition_ComponentDefinition\n",
      "tensor([2])\n",
      "sample_design_10002.nt\n"
     ]
    },
    {
     "name": "stderr",
     "output_type": "stream",
     "text": [
      "Generating graphs:   0%|          | 9/17055 [02:05<72:24:14, 15.29s/it]"
     ]
    },
    {
     "name": "stdout",
     "output_type": "stream",
     "text": [
      "ComponentDefinition_Sequence\n",
      "tensor([0])\n",
      "ComponentDefinition_SequenceAnnotation\n",
      "tensor([0])\n",
      "ComponentDefinition_Range\n",
      "tensor([0])\n",
      "ModuleDefinition_ComponentDefinition\n",
      "tensor([0, 1])\n",
      "ModuleDefinition_ModuleDefinition\n",
      "tensor([0, 1, 3])\n",
      "ComponentDefinition_ComponentDefinition\n",
      "tensor([2])\n",
      "sample_design_10003.nt\n"
     ]
    },
    {
     "name": "stderr",
     "output_type": "stream",
     "text": [
      "Generating graphs:   0%|          | 10/17055 [02:19<70:46:41, 14.95s/it]"
     ]
    },
    {
     "name": "stdout",
     "output_type": "stream",
     "text": [
      "ComponentDefinition_Sequence\n",
      "tensor([0])\n",
      "ComponentDefinition_SequenceAnnotation\n",
      "tensor([0])\n",
      "ComponentDefinition_Range\n",
      "tensor([0])\n",
      "ModuleDefinition_ComponentDefinition\n",
      "tensor([0, 1])\n",
      "ModuleDefinition_ModuleDefinition\n",
      "tensor([0, 1, 3])\n",
      "ComponentDefinition_ComponentDefinition\n",
      "tensor([2])\n",
      "sample_design_10004.nt\n"
     ]
    },
    {
     "name": "stderr",
     "output_type": "stream",
     "text": [
      "Generating graphs:   0%|          | 11/17055 [02:46<88:54:37, 18.78s/it]"
     ]
    },
    {
     "name": "stdout",
     "output_type": "stream",
     "text": [
      "ComponentDefinition_Sequence\n",
      "tensor([0])\n",
      "ComponentDefinition_SequenceAnnotation\n",
      "tensor([0])\n",
      "ComponentDefinition_Range\n",
      "tensor([0])\n",
      "ModuleDefinition_ComponentDefinition\n",
      "tensor([0, 1])\n",
      "ModuleDefinition_ModuleDefinition\n",
      "tensor([0, 3, 1])\n",
      "ComponentDefinition_ComponentDefinition\n",
      "tensor([2])\n",
      "sample_design_10005.nt\n"
     ]
    },
    {
     "name": "stderr",
     "output_type": "stream",
     "text": [
      "Generating graphs:   0%|          | 12/17055 [03:02<84:53:08, 17.93s/it]"
     ]
    },
    {
     "name": "stdout",
     "output_type": "stream",
     "text": [
      "ComponentDefinition_Sequence\n",
      "tensor([0])\n",
      "ComponentDefinition_SequenceAnnotation\n",
      "tensor([0])\n",
      "ComponentDefinition_Range\n",
      "tensor([0])\n",
      "ModuleDefinition_ComponentDefinition\n",
      "tensor([1, 0])\n",
      "ModuleDefinition_ModuleDefinition\n",
      "tensor([1, 3, 0])\n",
      "ComponentDefinition_ComponentDefinition\n",
      "tensor([2])\n",
      "sample_design_10006.nt\n"
     ]
    },
    {
     "name": "stderr",
     "output_type": "stream",
     "text": [
      "Generating graphs:   0%|          | 13/17055 [03:19<82:28:50, 17.42s/it]"
     ]
    },
    {
     "name": "stdout",
     "output_type": "stream",
     "text": [
      "ComponentDefinition_Sequence\n",
      "tensor([0])\n",
      "ComponentDefinition_SequenceAnnotation\n",
      "tensor([0])\n",
      "ComponentDefinition_Range\n",
      "tensor([0])\n",
      "ModuleDefinition_ComponentDefinition\n",
      "tensor([0, 1])\n",
      "ModuleDefinition_ModuleDefinition\n",
      "tensor([0, 1, 3])\n",
      "ComponentDefinition_ComponentDefinition\n",
      "tensor([2])\n",
      "sample_design_10007.nt\n"
     ]
    },
    {
     "name": "stderr",
     "output_type": "stream",
     "text": [
      "Generating graphs:   0%|          | 14/17055 [03:36<82:33:58, 17.44s/it]"
     ]
    },
    {
     "name": "stdout",
     "output_type": "stream",
     "text": [
      "ComponentDefinition_Sequence\n",
      "tensor([0])\n",
      "ComponentDefinition_SequenceAnnotation\n",
      "tensor([0])\n",
      "ComponentDefinition_Range\n",
      "tensor([0])\n",
      "ModuleDefinition_ComponentDefinition\n",
      "tensor([1, 0])\n",
      "ModuleDefinition_ModuleDefinition\n",
      "tensor([1, 3, 0])\n",
      "ComponentDefinition_ComponentDefinition\n",
      "tensor([2])\n",
      "sample_design_10008.nt\n"
     ]
    },
    {
     "name": "stderr",
     "output_type": "stream",
     "text": [
      "Generating graphs:   0%|          | 15/17055 [03:53<81:59:36, 17.32s/it]"
     ]
    },
    {
     "name": "stdout",
     "output_type": "stream",
     "text": [
      "ComponentDefinition_Sequence\n",
      "tensor([0])\n",
      "ComponentDefinition_SequenceAnnotation\n",
      "tensor([0])\n",
      "ComponentDefinition_Range\n",
      "tensor([0])\n",
      "ModuleDefinition_ComponentDefinition\n",
      "tensor([0, 1])\n",
      "ModuleDefinition_ModuleDefinition\n",
      "tensor([0, 1, 3])\n",
      "ComponentDefinition_ComponentDefinition\n",
      "tensor([2])\n",
      "sample_design_10009.nt\n"
     ]
    },
    {
     "name": "stderr",
     "output_type": "stream",
     "text": [
      "Generating graphs:   0%|          | 16/17055 [04:09<79:51:20, 16.87s/it]"
     ]
    },
    {
     "name": "stdout",
     "output_type": "stream",
     "text": [
      "ComponentDefinition_Sequence\n",
      "tensor([0])\n",
      "ComponentDefinition_SequenceAnnotation\n",
      "tensor([0])\n",
      "ComponentDefinition_Range\n",
      "tensor([0])\n",
      "ModuleDefinition_ComponentDefinition\n",
      "tensor([0, 1])\n",
      "ModuleDefinition_ModuleDefinition\n",
      "tensor([0, 1, 3])\n",
      "ComponentDefinition_ComponentDefinition\n",
      "tensor([2])\n",
      "sample_design_1001.nt\n"
     ]
    },
    {
     "name": "stderr",
     "output_type": "stream",
     "text": [
      "Generating graphs:   0%|          | 17/17055 [04:30<86:03:49, 18.18s/it]"
     ]
    },
    {
     "name": "stdout",
     "output_type": "stream",
     "text": [
      "ComponentDefinition_Sequence\n",
      "tensor([0])\n",
      "ComponentDefinition_SequenceAnnotation\n",
      "tensor([0])\n",
      "ComponentDefinition_Range\n",
      "tensor([0])\n",
      "ModuleDefinition_ComponentDefinition\n",
      "tensor([1, 0])\n",
      "ModuleDefinition_ModuleDefinition\n",
      "tensor([1, 3, 0])\n",
      "ComponentDefinition_ComponentDefinition\n",
      "tensor([2])\n",
      "sample_design_10010.nt\n"
     ]
    },
    {
     "name": "stderr",
     "output_type": "stream",
     "text": [
      "Generating graphs:   0%|          | 18/17055 [04:43<78:02:36, 16.49s/it]"
     ]
    },
    {
     "name": "stdout",
     "output_type": "stream",
     "text": [
      "ComponentDefinition_Sequence\n",
      "tensor([0])\n",
      "ComponentDefinition_SequenceAnnotation\n",
      "tensor([0])\n",
      "ComponentDefinition_Range\n",
      "tensor([0])\n",
      "ModuleDefinition_ComponentDefinition\n",
      "tensor([1, 0])\n",
      "ModuleDefinition_ModuleDefinition\n",
      "tensor([1, 3, 0])\n",
      "ComponentDefinition_ComponentDefinition\n",
      "tensor([2])\n",
      "sample_design_10011.nt\n"
     ]
    },
    {
     "name": "stderr",
     "output_type": "stream",
     "text": [
      "Generating graphs:   0%|          | 19/17055 [04:55<71:48:44, 15.18s/it]"
     ]
    },
    {
     "name": "stdout",
     "output_type": "stream",
     "text": [
      "ComponentDefinition_Sequence\n",
      "tensor([0])\n",
      "ComponentDefinition_SequenceAnnotation\n",
      "tensor([0])\n",
      "ComponentDefinition_Range\n",
      "tensor([0])\n",
      "ModuleDefinition_ComponentDefinition\n",
      "tensor([0, 1])\n",
      "ModuleDefinition_ModuleDefinition\n",
      "tensor([0, 1, 3])\n",
      "ComponentDefinition_ComponentDefinition\n",
      "tensor([2])\n",
      "sample_design_10012.nt\n"
     ]
    },
    {
     "name": "stderr",
     "output_type": "stream",
     "text": [
      "Generating graphs:   0%|          | 20/17055 [05:07<67:19:32, 14.23s/it]"
     ]
    },
    {
     "name": "stdout",
     "output_type": "stream",
     "text": [
      "ComponentDefinition_Sequence\n",
      "tensor([0])\n",
      "ComponentDefinition_SequenceAnnotation\n",
      "tensor([0])\n",
      "ComponentDefinition_Range\n",
      "tensor([0])\n",
      "ModuleDefinition_ComponentDefinition\n",
      "tensor([1, 0])\n",
      "ModuleDefinition_ModuleDefinition\n",
      "tensor([1, 3, 0])\n",
      "ComponentDefinition_ComponentDefinition\n",
      "tensor([2])\n",
      "sample_design_10013.nt\n"
     ]
    },
    {
     "name": "stderr",
     "output_type": "stream",
     "text": [
      "Generating graphs:   0%|          | 21/17055 [05:18<63:40:02, 13.46s/it]"
     ]
    },
    {
     "name": "stdout",
     "output_type": "stream",
     "text": [
      "ComponentDefinition_Sequence\n",
      "tensor([0])\n",
      "ComponentDefinition_SequenceAnnotation\n",
      "tensor([0])\n",
      "ComponentDefinition_Range\n",
      "tensor([0])\n",
      "ModuleDefinition_ComponentDefinition\n",
      "tensor([1, 0])\n",
      "ModuleDefinition_ModuleDefinition\n",
      "tensor([1, 3, 0])\n",
      "ComponentDefinition_ComponentDefinition\n",
      "tensor([2])\n",
      "sample_design_10015.nt\n"
     ]
    },
    {
     "name": "stderr",
     "output_type": "stream",
     "text": [
      "Generating graphs:   0%|          | 22/17055 [05:30<61:14:27, 12.94s/it]"
     ]
    },
    {
     "name": "stdout",
     "output_type": "stream",
     "text": [
      "ComponentDefinition_Sequence\n",
      "tensor([0])\n",
      "ComponentDefinition_SequenceAnnotation\n",
      "tensor([0])\n",
      "ComponentDefinition_Range\n",
      "tensor([0])\n",
      "ModuleDefinition_ComponentDefinition\n",
      "tensor([1, 0])\n",
      "ModuleDefinition_ModuleDefinition\n",
      "tensor([1, 3, 0])\n",
      "ComponentDefinition_ComponentDefinition\n",
      "tensor([2])\n",
      "sample_design_10016.nt\n"
     ]
    },
    {
     "name": "stderr",
     "output_type": "stream",
     "text": [
      "Generating graphs:   0%|          | 23/17055 [05:49<68:52:12, 14.56s/it]"
     ]
    },
    {
     "name": "stdout",
     "output_type": "stream",
     "text": [
      "ComponentDefinition_Sequence\n",
      "tensor([0])\n",
      "ComponentDefinition_SequenceAnnotation\n",
      "tensor([0])\n",
      "ComponentDefinition_Range\n",
      "tensor([0])\n",
      "ModuleDefinition_ComponentDefinition\n",
      "tensor([0, 1])\n",
      "ModuleDefinition_ModuleDefinition\n",
      "tensor([0, 1, 3])\n",
      "ComponentDefinition_ComponentDefinition\n",
      "tensor([2])\n",
      "sample_design_10017.nt\n"
     ]
    },
    {
     "name": "stderr",
     "output_type": "stream",
     "text": [
      "Generating graphs:   0%|          | 24/17055 [06:03<68:32:46, 14.49s/it]"
     ]
    },
    {
     "name": "stdout",
     "output_type": "stream",
     "text": [
      "ComponentDefinition_Sequence\n",
      "tensor([0])\n",
      "ComponentDefinition_SequenceAnnotation\n",
      "tensor([0])\n",
      "ComponentDefinition_Range\n",
      "tensor([0])\n",
      "ModuleDefinition_ComponentDefinition\n",
      "tensor([0, 1])\n",
      "ModuleDefinition_ModuleDefinition\n",
      "tensor([0, 1, 3])\n",
      "ComponentDefinition_ComponentDefinition\n",
      "tensor([2])\n",
      "sample_design_10018.nt\n"
     ]
    },
    {
     "name": "stderr",
     "output_type": "stream",
     "text": [
      "Generating graphs:   0%|          | 25/17055 [06:16<66:14:33, 14.00s/it]"
     ]
    },
    {
     "name": "stdout",
     "output_type": "stream",
     "text": [
      "ComponentDefinition_Sequence\n",
      "tensor([0])\n",
      "ComponentDefinition_SequenceAnnotation\n",
      "tensor([0])\n",
      "ComponentDefinition_Range\n",
      "tensor([0])\n",
      "ModuleDefinition_ComponentDefinition\n",
      "tensor([1, 0])\n",
      "ModuleDefinition_ModuleDefinition\n",
      "tensor([1, 3, 0])\n",
      "ComponentDefinition_ComponentDefinition\n",
      "tensor([2])\n",
      "sample_design_10019.nt\n"
     ]
    },
    {
     "name": "stderr",
     "output_type": "stream",
     "text": [
      "Generating graphs:   0%|          | 26/17055 [06:28<63:22:26, 13.40s/it]"
     ]
    },
    {
     "name": "stdout",
     "output_type": "stream",
     "text": [
      "ComponentDefinition_Sequence\n",
      "tensor([0])\n",
      "ComponentDefinition_SequenceAnnotation\n",
      "tensor([0])\n",
      "ComponentDefinition_Range\n",
      "tensor([0])\n",
      "ModuleDefinition_ComponentDefinition\n",
      "tensor([1, 0])\n",
      "ModuleDefinition_ModuleDefinition\n",
      "tensor([1, 3, 0])\n",
      "ComponentDefinition_ComponentDefinition\n",
      "tensor([2])\n",
      "sample_design_1002.nt\n"
     ]
    },
    {
     "name": "stderr",
     "output_type": "stream",
     "text": [
      "Generating graphs:   0%|          | 27/17055 [06:40<61:10:55, 12.93s/it]"
     ]
    },
    {
     "name": "stdout",
     "output_type": "stream",
     "text": [
      "ComponentDefinition_Sequence\n",
      "tensor([0])\n",
      "ComponentDefinition_SequenceAnnotation\n",
      "tensor([0])\n",
      "ComponentDefinition_Range\n",
      "tensor([0])\n",
      "ModuleDefinition_ComponentDefinition\n",
      "tensor([0, 1])\n",
      "ModuleDefinition_ModuleDefinition\n",
      "tensor([0, 3, 1])\n",
      "ComponentDefinition_ComponentDefinition\n",
      "tensor([2])\n",
      "sample_design_10020.nt\n"
     ]
    },
    {
     "name": "stderr",
     "output_type": "stream",
     "text": [
      "Generating graphs:   0%|          | 28/17055 [06:53<61:19:48, 12.97s/it]"
     ]
    },
    {
     "name": "stdout",
     "output_type": "stream",
     "text": [
      "ComponentDefinition_Sequence\n",
      "tensor([0])\n",
      "ComponentDefinition_SequenceAnnotation\n",
      "tensor([0])\n",
      "ComponentDefinition_Range\n",
      "tensor([0])\n",
      "ModuleDefinition_ComponentDefinition\n",
      "tensor([0, 1])\n",
      "ModuleDefinition_ModuleDefinition\n",
      "tensor([0, 1, 3])\n",
      "ComponentDefinition_ComponentDefinition\n",
      "tensor([2])\n",
      "sample_design_10021.nt\n"
     ]
    },
    {
     "name": "stderr",
     "output_type": "stream",
     "text": [
      "Generating graphs:   0%|          | 29/17055 [07:04<59:38:50, 12.61s/it]"
     ]
    },
    {
     "name": "stdout",
     "output_type": "stream",
     "text": [
      "ComponentDefinition_Sequence\n",
      "tensor([0])\n",
      "ComponentDefinition_SequenceAnnotation\n",
      "tensor([0])\n",
      "ComponentDefinition_Range\n",
      "tensor([0])\n",
      "ModuleDefinition_ComponentDefinition\n",
      "tensor([1, 0])\n",
      "ModuleDefinition_ModuleDefinition\n",
      "tensor([1, 3, 0])\n",
      "ComponentDefinition_ComponentDefinition\n",
      "tensor([2])\n",
      "sample_design_10022.nt\n"
     ]
    },
    {
     "name": "stderr",
     "output_type": "stream",
     "text": [
      "Generating graphs:   0%|          | 30/17055 [07:17<59:15:03, 12.53s/it]"
     ]
    },
    {
     "name": "stdout",
     "output_type": "stream",
     "text": [
      "ComponentDefinition_Sequence\n",
      "tensor([0])\n",
      "ComponentDefinition_SequenceAnnotation\n",
      "tensor([0])\n",
      "ComponentDefinition_Range\n",
      "tensor([0])\n",
      "ModuleDefinition_ComponentDefinition\n",
      "tensor([1, 0])\n",
      "ModuleDefinition_ModuleDefinition\n",
      "tensor([3, 1, 0])\n",
      "ComponentDefinition_ComponentDefinition\n",
      "tensor([2])\n",
      "sample_design_10023.nt\n"
     ]
    },
    {
     "name": "stderr",
     "output_type": "stream",
     "text": [
      "Generating graphs:   0%|          | 31/17055 [07:52<91:40:12, 19.39s/it]"
     ]
    },
    {
     "name": "stdout",
     "output_type": "stream",
     "text": [
      "ComponentDefinition_Sequence\n",
      "tensor([0])\n",
      "ComponentDefinition_SequenceAnnotation\n",
      "tensor([0])\n",
      "ComponentDefinition_Range\n",
      "tensor([0])\n",
      "ModuleDefinition_ComponentDefinition\n",
      "tensor([1, 0])\n",
      "ModuleDefinition_ModuleDefinition\n",
      "tensor([1, 3, 0])\n",
      "ComponentDefinition_ComponentDefinition\n",
      "tensor([2])\n",
      "sample_design_10024.nt\n"
     ]
    },
    {
     "name": "stderr",
     "output_type": "stream",
     "text": [
      "Generating graphs:   0%|          | 32/17055 [08:04<81:39:56, 17.27s/it]"
     ]
    },
    {
     "name": "stdout",
     "output_type": "stream",
     "text": [
      "ComponentDefinition_Sequence\n",
      "tensor([0])\n",
      "ComponentDefinition_SequenceAnnotation\n",
      "tensor([0])\n",
      "ComponentDefinition_Range\n",
      "tensor([0])\n",
      "ModuleDefinition_ComponentDefinition\n",
      "tensor([0, 1])\n",
      "ModuleDefinition_ModuleDefinition\n",
      "tensor([0, 1, 3])\n",
      "ComponentDefinition_ComponentDefinition\n",
      "tensor([2])\n",
      "sample_design_10025.nt\n"
     ]
    },
    {
     "name": "stderr",
     "output_type": "stream",
     "text": [
      "Generating graphs:   0%|          | 33/17055 [08:17<74:53:59, 15.84s/it]"
     ]
    },
    {
     "name": "stdout",
     "output_type": "stream",
     "text": [
      "ComponentDefinition_Sequence\n",
      "tensor([0])\n",
      "ComponentDefinition_SequenceAnnotation\n",
      "tensor([0])\n",
      "ComponentDefinition_Range\n",
      "tensor([0])\n",
      "ModuleDefinition_ComponentDefinition\n",
      "tensor([1, 0])\n",
      "ModuleDefinition_ModuleDefinition\n",
      "tensor([1, 3, 0])\n",
      "ComponentDefinition_ComponentDefinition\n",
      "tensor([2])\n",
      "sample_design_10026.nt\n"
     ]
    },
    {
     "name": "stderr",
     "output_type": "stream",
     "text": [
      "Generating graphs:   0%|          | 34/17055 [08:29<69:05:18, 14.61s/it]"
     ]
    },
    {
     "name": "stdout",
     "output_type": "stream",
     "text": [
      "ComponentDefinition_Sequence\n",
      "tensor([0])\n",
      "ComponentDefinition_SequenceAnnotation\n",
      "tensor([0])\n",
      "ComponentDefinition_Range\n",
      "tensor([0])\n",
      "ModuleDefinition_ComponentDefinition\n",
      "tensor([1, 0])\n",
      "ModuleDefinition_ModuleDefinition\n",
      "tensor([1, 3, 0])\n",
      "ComponentDefinition_ComponentDefinition\n",
      "tensor([2])\n",
      "sample_design_10027.nt\n"
     ]
    },
    {
     "name": "stderr",
     "output_type": "stream",
     "text": [
      "Generating graphs:   0%|          | 35/17055 [08:40<64:50:41, 13.72s/it]"
     ]
    },
    {
     "name": "stdout",
     "output_type": "stream",
     "text": [
      "ComponentDefinition_Sequence\n",
      "tensor([0])\n",
      "ComponentDefinition_SequenceAnnotation\n",
      "tensor([0])\n",
      "ComponentDefinition_Range\n",
      "tensor([0])\n",
      "ModuleDefinition_ComponentDefinition\n",
      "tensor([0, 1])\n",
      "ModuleDefinition_ModuleDefinition\n",
      "tensor([0, 1, 3])\n",
      "ComponentDefinition_ComponentDefinition\n",
      "tensor([2])\n",
      "sample_design_10028.nt\n"
     ]
    },
    {
     "name": "stderr",
     "output_type": "stream",
     "text": [
      "Generating graphs:   0%|          | 36/17055 [08:58<70:14:33, 14.86s/it]"
     ]
    },
    {
     "name": "stdout",
     "output_type": "stream",
     "text": [
      "ComponentDefinition_Sequence\n",
      "tensor([0])\n",
      "ComponentDefinition_SequenceAnnotation\n",
      "tensor([0])\n",
      "ComponentDefinition_Range\n",
      "tensor([0])\n",
      "ModuleDefinition_ComponentDefinition\n",
      "tensor([1, 0])\n",
      "ModuleDefinition_ModuleDefinition\n",
      "tensor([1, 3, 0])\n",
      "ComponentDefinition_ComponentDefinition\n",
      "tensor([2])\n",
      "sample_design_10029.nt\n"
     ]
    },
    {
     "name": "stderr",
     "output_type": "stream",
     "text": [
      "Generating graphs:   0%|          | 37/17055 [09:10<66:02:54, 13.97s/it]"
     ]
    },
    {
     "name": "stdout",
     "output_type": "stream",
     "text": [
      "ComponentDefinition_Sequence\n",
      "tensor([0])\n",
      "ComponentDefinition_SequenceAnnotation\n",
      "tensor([0])\n",
      "ComponentDefinition_Range\n",
      "tensor([0])\n",
      "ModuleDefinition_ComponentDefinition\n",
      "tensor([1, 0])\n",
      "ModuleDefinition_ModuleDefinition\n",
      "tensor([1, 3, 0])\n",
      "ComponentDefinition_ComponentDefinition\n",
      "tensor([2])\n",
      "sample_design_1003.nt\n"
     ]
    },
    {
     "name": "stderr",
     "output_type": "stream",
     "text": [
      "Generating graphs:   0%|          | 38/17055 [09:21<62:36:52, 13.25s/it]"
     ]
    },
    {
     "name": "stdout",
     "output_type": "stream",
     "text": [
      "ComponentDefinition_Sequence\n",
      "tensor([0])\n",
      "ComponentDefinition_SequenceAnnotation\n",
      "tensor([0])\n",
      "ComponentDefinition_Range\n",
      "tensor([0])\n",
      "ModuleDefinition_ComponentDefinition\n",
      "tensor([1, 0])\n",
      "ModuleDefinition_ModuleDefinition\n",
      "tensor([1, 3, 0])\n",
      "ComponentDefinition_ComponentDefinition\n",
      "tensor([2])\n",
      "sample_design_10030.nt\n"
     ]
    },
    {
     "name": "stderr",
     "output_type": "stream",
     "text": [
      "Generating graphs:   0%|          | 39/17055 [09:33<60:35:33, 12.82s/it]"
     ]
    },
    {
     "name": "stdout",
     "output_type": "stream",
     "text": [
      "ComponentDefinition_Sequence\n",
      "tensor([0])\n",
      "ComponentDefinition_SequenceAnnotation\n",
      "tensor([0])\n",
      "ComponentDefinition_Range\n",
      "tensor([0])\n",
      "ModuleDefinition_ComponentDefinition\n",
      "tensor([1, 0])\n",
      "ModuleDefinition_ModuleDefinition\n",
      "tensor([1, 3, 0])\n",
      "ComponentDefinition_ComponentDefinition\n",
      "tensor([2])\n",
      "sample_design_10031.nt\n"
     ]
    },
    {
     "name": "stderr",
     "output_type": "stream",
     "text": [
      "Generating graphs:   0%|          | 40/17055 [09:45<58:59:57, 12.48s/it]"
     ]
    },
    {
     "name": "stdout",
     "output_type": "stream",
     "text": [
      "ComponentDefinition_Sequence\n",
      "tensor([0])\n",
      "ComponentDefinition_SequenceAnnotation\n",
      "tensor([0])\n",
      "ComponentDefinition_Range\n",
      "tensor([0])\n",
      "ModuleDefinition_ComponentDefinition\n",
      "tensor([1, 0])\n",
      "ModuleDefinition_ModuleDefinition\n",
      "tensor([1, 3, 0])\n",
      "ComponentDefinition_ComponentDefinition\n",
      "tensor([2])\n",
      "sample_design_10032.nt\n"
     ]
    },
    {
     "name": "stderr",
     "output_type": "stream",
     "text": [
      "Generating graphs:   0%|          | 41/17055 [09:57<57:54:16, 12.25s/it]"
     ]
    },
    {
     "name": "stdout",
     "output_type": "stream",
     "text": [
      "ComponentDefinition_Sequence\n",
      "tensor([0])\n",
      "ComponentDefinition_SequenceAnnotation\n",
      "tensor([0])\n",
      "ComponentDefinition_Range\n",
      "tensor([0])\n",
      "ModuleDefinition_ComponentDefinition\n",
      "tensor([0, 1])\n",
      "ModuleDefinition_ModuleDefinition\n",
      "tensor([0, 1, 3])\n",
      "ComponentDefinition_ComponentDefinition\n",
      "tensor([2])\n",
      "sample_design_10033.nt\n"
     ]
    },
    {
     "name": "stderr",
     "output_type": "stream",
     "text": [
      "Generating graphs:   0%|          | 42/17055 [10:09<57:32:57, 12.18s/it]"
     ]
    },
    {
     "name": "stdout",
     "output_type": "stream",
     "text": [
      "ComponentDefinition_Sequence\n",
      "tensor([0])\n",
      "ComponentDefinition_SequenceAnnotation\n",
      "tensor([0])\n",
      "ComponentDefinition_Range\n",
      "tensor([0])\n",
      "ModuleDefinition_ComponentDefinition\n",
      "tensor([0, 1])\n",
      "ModuleDefinition_ModuleDefinition\n",
      "tensor([0, 3, 1])\n",
      "ComponentDefinition_ComponentDefinition\n",
      "tensor([2])\n",
      "sample_design_10034.nt\n"
     ]
    },
    {
     "name": "stderr",
     "output_type": "stream",
     "text": [
      "Generating graphs:   0%|          | 43/17055 [10:44<90:19:20, 19.11s/it]"
     ]
    },
    {
     "name": "stdout",
     "output_type": "stream",
     "text": [
      "ComponentDefinition_Sequence\n",
      "tensor([0])\n",
      "ComponentDefinition_SequenceAnnotation\n",
      "tensor([0])\n",
      "ComponentDefinition_Range\n",
      "tensor([0])\n",
      "ModuleDefinition_ComponentDefinition\n",
      "tensor([1, 0])\n",
      "ModuleDefinition_ModuleDefinition\n",
      "tensor([1, 3, 0])\n",
      "ComponentDefinition_ComponentDefinition\n",
      "tensor([2])\n",
      "sample_design_10035.nt\n"
     ]
    },
    {
     "name": "stderr",
     "output_type": "stream",
     "text": [
      "Generating graphs:   0%|          | 44/17055 [11:01<87:26:36, 18.51s/it]"
     ]
    },
    {
     "name": "stdout",
     "output_type": "stream",
     "text": [
      "ComponentDefinition_Sequence\n",
      "tensor([0])\n",
      "ComponentDefinition_SequenceAnnotation\n",
      "tensor([0])\n",
      "ComponentDefinition_Range\n",
      "tensor([0])\n",
      "ModuleDefinition_ComponentDefinition\n",
      "tensor([1, 0])\n",
      "ModuleDefinition_ModuleDefinition\n",
      "tensor([1, 3, 0])\n",
      "ComponentDefinition_ComponentDefinition\n",
      "tensor([2])\n",
      "sample_design_10036.nt\n"
     ]
    },
    {
     "name": "stderr",
     "output_type": "stream",
     "text": [
      "Generating graphs:   0%|          | 45/17055 [11:17<84:03:29, 17.79s/it]"
     ]
    },
    {
     "name": "stdout",
     "output_type": "stream",
     "text": [
      "ComponentDefinition_Sequence\n",
      "tensor([0])\n",
      "ComponentDefinition_SequenceAnnotation\n",
      "tensor([0])\n",
      "ComponentDefinition_Range\n",
      "tensor([0])\n",
      "ModuleDefinition_ComponentDefinition\n",
      "tensor([0, 1])\n",
      "ModuleDefinition_ModuleDefinition\n",
      "tensor([0, 1, 3])\n",
      "ComponentDefinition_ComponentDefinition\n",
      "tensor([2])\n",
      "sample_design_10037.nt\n"
     ]
    },
    {
     "name": "stderr",
     "output_type": "stream",
     "text": [
      "Generating graphs:   0%|          | 46/17055 [11:35<84:10:46, 17.82s/it]"
     ]
    },
    {
     "name": "stdout",
     "output_type": "stream",
     "text": [
      "ComponentDefinition_Sequence\n",
      "tensor([0])\n",
      "ComponentDefinition_SequenceAnnotation\n",
      "tensor([0])\n",
      "ComponentDefinition_Range\n",
      "tensor([0])\n",
      "ModuleDefinition_ComponentDefinition\n",
      "tensor([1, 0])\n",
      "ModuleDefinition_ModuleDefinition\n",
      "tensor([1, 3, 0])\n",
      "ComponentDefinition_ComponentDefinition\n",
      "tensor([2])\n",
      "sample_design_10038.nt\n"
     ]
    },
    {
     "name": "stderr",
     "output_type": "stream",
     "text": [
      "Generating graphs:   0%|          | 47/17055 [11:52<82:30:17, 17.46s/it]"
     ]
    },
    {
     "name": "stdout",
     "output_type": "stream",
     "text": [
      "ComponentDefinition_Sequence\n",
      "tensor([0])\n",
      "ComponentDefinition_SequenceAnnotation\n",
      "tensor([0])\n",
      "ComponentDefinition_Range\n",
      "tensor([0])\n",
      "ModuleDefinition_ComponentDefinition\n",
      "tensor([0, 1])\n",
      "ModuleDefinition_ModuleDefinition\n",
      "tensor([0, 1, 3])\n",
      "ComponentDefinition_ComponentDefinition\n",
      "tensor([2])\n",
      "sample_design_10039.nt\n"
     ]
    },
    {
     "name": "stderr",
     "output_type": "stream",
     "text": [
      "Generating graphs:   0%|          | 48/17055 [12:13<88:48:08, 18.80s/it]"
     ]
    },
    {
     "name": "stdout",
     "output_type": "stream",
     "text": [
      "ComponentDefinition_Sequence\n",
      "tensor([0])\n",
      "ComponentDefinition_SequenceAnnotation\n",
      "tensor([0])\n",
      "ComponentDefinition_Range\n",
      "tensor([0])\n",
      "ModuleDefinition_ComponentDefinition\n",
      "tensor([1, 0])\n",
      "ModuleDefinition_ModuleDefinition\n",
      "tensor([1, 3, 0])\n",
      "ComponentDefinition_ComponentDefinition\n",
      "tensor([2])\n",
      "sample_design_1004.nt\n"
     ]
    },
    {
     "name": "stderr",
     "output_type": "stream",
     "text": [
      "Generating graphs:   0%|          | 49/17055 [12:29<84:36:36, 17.91s/it]"
     ]
    },
    {
     "name": "stdout",
     "output_type": "stream",
     "text": [
      "ComponentDefinition_Sequence\n",
      "tensor([0])\n",
      "ComponentDefinition_SequenceAnnotation\n",
      "tensor([0])\n",
      "ComponentDefinition_Range\n",
      "tensor([0])\n",
      "ModuleDefinition_ComponentDefinition\n",
      "tensor([0, 1])\n",
      "ModuleDefinition_ModuleDefinition\n",
      "tensor([0, 1, 3])\n",
      "ComponentDefinition_ComponentDefinition\n",
      "tensor([2])\n",
      "sample_design_10040.nt\n"
     ]
    },
    {
     "name": "stderr",
     "output_type": "stream",
     "text": [
      "Generating graphs:   0%|          | 50/17055 [12:46<83:08:54, 17.60s/it]"
     ]
    },
    {
     "name": "stdout",
     "output_type": "stream",
     "text": [
      "ComponentDefinition_Sequence\n",
      "tensor([0])\n",
      "ComponentDefinition_SequenceAnnotation\n",
      "tensor([0])\n",
      "ComponentDefinition_Range\n",
      "tensor([0])\n",
      "ModuleDefinition_ComponentDefinition\n",
      "tensor([0, 1])\n",
      "ModuleDefinition_ModuleDefinition\n",
      "tensor([0, 1, 3])\n",
      "ComponentDefinition_ComponentDefinition\n",
      "tensor([2])\n",
      "sample_design_10041.nt\n"
     ]
    },
    {
     "name": "stderr",
     "output_type": "stream",
     "text": [
      "Generating graphs:   0%|          | 51/17055 [13:07<88:06:51, 18.66s/it]"
     ]
    },
    {
     "name": "stdout",
     "output_type": "stream",
     "text": [
      "ComponentDefinition_Sequence\n",
      "tensor([0])\n",
      "ComponentDefinition_SequenceAnnotation\n",
      "tensor([0])\n",
      "ComponentDefinition_Range\n",
      "tensor([0])\n",
      "ModuleDefinition_ComponentDefinition\n",
      "tensor([1, 0])\n",
      "ModuleDefinition_ModuleDefinition\n",
      "tensor([1, 3, 0])\n",
      "ComponentDefinition_ComponentDefinition\n",
      "tensor([2])\n",
      "sample_design_10042.nt\n"
     ]
    },
    {
     "name": "stderr",
     "output_type": "stream",
     "text": [
      "Generating graphs:   0%|          | 52/17055 [13:20<79:15:38, 16.78s/it]"
     ]
    },
    {
     "name": "stdout",
     "output_type": "stream",
     "text": [
      "ComponentDefinition_Sequence\n",
      "tensor([0])\n",
      "ComponentDefinition_SequenceAnnotation\n",
      "tensor([0])\n",
      "ComponentDefinition_Range\n",
      "tensor([0])\n",
      "ModuleDefinition_ComponentDefinition\n",
      "tensor([1, 0])\n",
      "ModuleDefinition_ModuleDefinition\n",
      "tensor([1, 3, 0])\n",
      "ComponentDefinition_ComponentDefinition\n",
      "tensor([2])\n",
      "sample_design_10043.nt\n"
     ]
    },
    {
     "name": "stderr",
     "output_type": "stream",
     "text": [
      "Generating graphs:   0%|          | 53/17055 [13:32<72:21:55, 15.32s/it]"
     ]
    },
    {
     "name": "stdout",
     "output_type": "stream",
     "text": [
      "ComponentDefinition_Sequence\n",
      "tensor([0])\n",
      "ComponentDefinition_SequenceAnnotation\n",
      "tensor([0])\n",
      "ComponentDefinition_Range\n",
      "tensor([0])\n",
      "ModuleDefinition_ComponentDefinition\n",
      "tensor([0, 1])\n",
      "ModuleDefinition_ModuleDefinition\n",
      "tensor([0, 1, 3])\n",
      "ComponentDefinition_ComponentDefinition\n",
      "tensor([2])\n",
      "sample_design_10044.nt\n"
     ]
    },
    {
     "name": "stderr",
     "output_type": "stream",
     "text": [
      "Generating graphs:   0%|          | 54/17055 [13:44<67:44:25, 14.34s/it]"
     ]
    },
    {
     "name": "stdout",
     "output_type": "stream",
     "text": [
      "ComponentDefinition_Sequence\n",
      "tensor([0])\n",
      "ComponentDefinition_SequenceAnnotation\n",
      "tensor([0])\n",
      "ComponentDefinition_Range\n",
      "tensor([0])\n",
      "ModuleDefinition_ComponentDefinition\n",
      "tensor([0, 1])\n",
      "ModuleDefinition_ModuleDefinition\n",
      "tensor([0, 1, 3])\n",
      "ComponentDefinition_ComponentDefinition\n",
      "tensor([2])\n",
      "sample_design_10045.nt\n"
     ]
    },
    {
     "name": "stderr",
     "output_type": "stream",
     "text": [
      "Generating graphs:   0%|          | 55/17055 [13:56<64:53:58, 13.74s/it]"
     ]
    },
    {
     "name": "stdout",
     "output_type": "stream",
     "text": [
      "ComponentDefinition_Sequence\n",
      "tensor([0])\n",
      "ComponentDefinition_SequenceAnnotation\n",
      "tensor([0])\n",
      "ComponentDefinition_Range\n",
      "tensor([0])\n",
      "ModuleDefinition_ComponentDefinition\n",
      "tensor([1, 0])\n",
      "ModuleDefinition_ModuleDefinition\n",
      "tensor([1, 3, 0])\n",
      "ComponentDefinition_ComponentDefinition\n",
      "tensor([2])\n",
      "sample_design_10046.nt\n"
     ]
    },
    {
     "name": "stderr",
     "output_type": "stream",
     "text": [
      "Generating graphs:   0%|          | 56/17055 [14:08<62:06:28, 13.15s/it]"
     ]
    },
    {
     "name": "stdout",
     "output_type": "stream",
     "text": [
      "ComponentDefinition_Sequence\n",
      "tensor([0])\n",
      "ComponentDefinition_SequenceAnnotation\n",
      "tensor([0])\n",
      "ComponentDefinition_Range\n",
      "tensor([0])\n",
      "ModuleDefinition_ComponentDefinition\n",
      "tensor([0, 1])\n",
      "ModuleDefinition_ModuleDefinition\n",
      "tensor([0, 1, 3])\n",
      "ComponentDefinition_ComponentDefinition\n",
      "tensor([2])\n",
      "sample_design_10047.nt\n"
     ]
    },
    {
     "name": "stderr",
     "output_type": "stream",
     "text": [
      "Generating graphs:   0%|          | 57/17055 [14:20<60:31:49, 12.82s/it]"
     ]
    },
    {
     "name": "stdout",
     "output_type": "stream",
     "text": [
      "ComponentDefinition_Sequence\n",
      "tensor([0])\n",
      "ComponentDefinition_SequenceAnnotation\n",
      "tensor([0])\n",
      "ComponentDefinition_Range\n",
      "tensor([0])\n",
      "ModuleDefinition_ComponentDefinition\n",
      "tensor([1, 0])\n",
      "ModuleDefinition_ModuleDefinition\n",
      "tensor([1, 3, 0])\n",
      "ComponentDefinition_ComponentDefinition\n",
      "tensor([2])\n",
      "sample_design_10048.nt\n"
     ]
    },
    {
     "name": "stderr",
     "output_type": "stream",
     "text": [
      "Generating graphs:   0%|          | 58/17055 [14:32<59:35:21, 12.62s/it]"
     ]
    },
    {
     "name": "stdout",
     "output_type": "stream",
     "text": [
      "ComponentDefinition_Sequence\n",
      "tensor([0])\n",
      "ComponentDefinition_SequenceAnnotation\n",
      "tensor([0])\n",
      "ComponentDefinition_Range\n",
      "tensor([0])\n",
      "ModuleDefinition_ComponentDefinition\n",
      "tensor([1, 0])\n",
      "ModuleDefinition_ModuleDefinition\n",
      "tensor([1, 3, 0])\n",
      "ComponentDefinition_ComponentDefinition\n",
      "tensor([2])\n",
      "sample_design_10049.nt\n"
     ]
    },
    {
     "name": "stderr",
     "output_type": "stream",
     "text": [
      "Generating graphs:   0%|          | 59/17055 [14:44<59:08:04, 12.53s/it]"
     ]
    },
    {
     "name": "stdout",
     "output_type": "stream",
     "text": [
      "ComponentDefinition_Sequence\n",
      "tensor([0])\n",
      "ComponentDefinition_SequenceAnnotation\n",
      "tensor([0])\n",
      "ComponentDefinition_Range\n",
      "tensor([0])\n",
      "ModuleDefinition_ComponentDefinition\n",
      "tensor([1, 0])\n",
      "ModuleDefinition_ModuleDefinition\n",
      "tensor([3, 1, 0])\n",
      "ComponentDefinition_ComponentDefinition\n",
      "tensor([2])\n",
      "sample_design_1005.nt\n"
     ]
    },
    {
     "name": "stderr",
     "output_type": "stream",
     "text": [
      "Generating graphs:   0%|          | 60/17055 [14:57<58:45:37, 12.45s/it]"
     ]
    },
    {
     "name": "stdout",
     "output_type": "stream",
     "text": [
      "ComponentDefinition_Sequence\n",
      "tensor([0])\n",
      "ComponentDefinition_SequenceAnnotation\n",
      "tensor([0])\n",
      "ComponentDefinition_Range\n",
      "tensor([0])\n",
      "ModuleDefinition_ComponentDefinition\n",
      "tensor([1, 0])\n",
      "ModuleDefinition_ModuleDefinition\n",
      "tensor([1, 3, 0])\n",
      "ComponentDefinition_ComponentDefinition\n",
      "tensor([2])\n",
      "sample_design_10050.nt\n"
     ]
    },
    {
     "name": "stderr",
     "output_type": "stream",
     "text": [
      "Generating graphs:   0%|          | 61/17055 [15:08<57:41:19, 12.22s/it]"
     ]
    },
    {
     "name": "stdout",
     "output_type": "stream",
     "text": [
      "ComponentDefinition_Sequence\n",
      "tensor([0])\n",
      "ComponentDefinition_SequenceAnnotation\n",
      "tensor([0])\n",
      "ComponentDefinition_Range\n",
      "tensor([0])\n",
      "ModuleDefinition_ComponentDefinition\n",
      "tensor([1, 0])\n",
      "ModuleDefinition_ModuleDefinition\n",
      "tensor([1, 3, 0])\n",
      "ComponentDefinition_ComponentDefinition\n",
      "tensor([2])\n",
      "sample_design_10051.nt\n"
     ]
    },
    {
     "name": "stderr",
     "output_type": "stream",
     "text": [
      "Generating graphs:   0%|          | 62/17055 [15:20<56:46:47, 12.03s/it]"
     ]
    },
    {
     "name": "stdout",
     "output_type": "stream",
     "text": [
      "ComponentDefinition_Sequence\n",
      "tensor([0])\n",
      "ComponentDefinition_SequenceAnnotation\n",
      "tensor([0])\n",
      "ComponentDefinition_Range\n",
      "tensor([0])\n",
      "ModuleDefinition_ComponentDefinition\n",
      "tensor([1, 0])\n",
      "ModuleDefinition_ModuleDefinition\n",
      "tensor([1, 3, 0])\n",
      "ComponentDefinition_ComponentDefinition\n",
      "tensor([2])\n",
      "sample_design_10052.nt\n"
     ]
    },
    {
     "name": "stderr",
     "output_type": "stream",
     "text": [
      "Generating graphs:   0%|          | 63/17055 [15:31<56:06:59, 11.89s/it]"
     ]
    },
    {
     "name": "stdout",
     "output_type": "stream",
     "text": [
      "ComponentDefinition_Sequence\n",
      "tensor([0])\n",
      "ComponentDefinition_SequenceAnnotation\n",
      "tensor([0])\n",
      "ComponentDefinition_Range\n",
      "tensor([0])\n",
      "ModuleDefinition_ComponentDefinition\n",
      "tensor([1, 0])\n",
      "ModuleDefinition_ModuleDefinition\n",
      "tensor([1, 3, 0])\n",
      "ComponentDefinition_ComponentDefinition\n",
      "tensor([2])\n",
      "sample_design_10053.nt\n"
     ]
    },
    {
     "name": "stderr",
     "output_type": "stream",
     "text": [
      "Generating graphs:   0%|          | 64/17055 [15:43<55:31:44, 11.77s/it]"
     ]
    },
    {
     "name": "stdout",
     "output_type": "stream",
     "text": [
      "ComponentDefinition_Sequence\n",
      "tensor([0])\n",
      "ComponentDefinition_SequenceAnnotation\n",
      "tensor([0])\n",
      "ComponentDefinition_Range\n",
      "tensor([0])\n",
      "ModuleDefinition_ComponentDefinition\n",
      "tensor([0, 1])\n",
      "ModuleDefinition_ModuleDefinition\n",
      "tensor([0, 1, 3])\n",
      "ComponentDefinition_ComponentDefinition\n",
      "tensor([2])\n",
      "sample_design_10054.nt\n"
     ]
    },
    {
     "name": "stderr",
     "output_type": "stream",
     "text": [
      "Generating graphs:   0%|          | 65/17055 [15:55<55:31:40, 11.77s/it]"
     ]
    },
    {
     "name": "stdout",
     "output_type": "stream",
     "text": [
      "ComponentDefinition_Sequence\n",
      "tensor([0])\n",
      "ComponentDefinition_SequenceAnnotation\n",
      "tensor([0])\n",
      "ComponentDefinition_Range\n",
      "tensor([0])\n",
      "ModuleDefinition_ComponentDefinition\n",
      "tensor([0, 1])\n",
      "ModuleDefinition_ModuleDefinition\n",
      "tensor([0, 3, 1])\n",
      "ComponentDefinition_ComponentDefinition\n",
      "tensor([2])\n",
      "sample_design_10055.nt\n"
     ]
    },
    {
     "name": "stderr",
     "output_type": "stream",
     "text": [
      "Generating graphs:   0%|          | 66/17055 [16:09<59:50:03, 12.68s/it]"
     ]
    },
    {
     "name": "stdout",
     "output_type": "stream",
     "text": [
      "ComponentDefinition_Sequence\n",
      "tensor([0])\n",
      "ComponentDefinition_SequenceAnnotation\n",
      "tensor([0])\n",
      "ComponentDefinition_Range\n",
      "tensor([0])\n",
      "ModuleDefinition_ComponentDefinition\n",
      "tensor([1, 0])\n",
      "ModuleDefinition_ModuleDefinition\n",
      "tensor([1, 3, 0])\n",
      "ComponentDefinition_ComponentDefinition\n",
      "tensor([2])\n",
      "sample_design_10056.nt\n"
     ]
    },
    {
     "name": "stderr",
     "output_type": "stream",
     "text": [
      "Generating graphs:   0%|          | 67/17055 [16:21<58:18:38, 12.36s/it]"
     ]
    },
    {
     "name": "stdout",
     "output_type": "stream",
     "text": [
      "ComponentDefinition_Sequence\n",
      "tensor([0])\n",
      "ComponentDefinition_SequenceAnnotation\n",
      "tensor([0])\n",
      "ComponentDefinition_Range\n",
      "tensor([0])\n",
      "ModuleDefinition_ComponentDefinition\n",
      "tensor([0, 1])\n",
      "ModuleDefinition_ModuleDefinition\n",
      "tensor([0, 1, 3])\n",
      "ComponentDefinition_ComponentDefinition\n",
      "tensor([2])\n",
      "sample_design_10057.nt\n"
     ]
    },
    {
     "name": "stderr",
     "output_type": "stream",
     "text": [
      "Generating graphs:   0%|          | 68/17055 [16:48<79:03:16, 16.75s/it]"
     ]
    },
    {
     "name": "stdout",
     "output_type": "stream",
     "text": [
      "ComponentDefinition_Sequence\n",
      "tensor([0])\n",
      "ComponentDefinition_SequenceAnnotation\n",
      "tensor([0])\n",
      "ComponentDefinition_Range\n",
      "tensor([0])\n",
      "ModuleDefinition_ComponentDefinition\n",
      "tensor([1, 0])\n",
      "ModuleDefinition_ModuleDefinition\n",
      "tensor([1, 3, 0])\n",
      "ComponentDefinition_ComponentDefinition\n",
      "tensor([2])\n",
      "sample_design_10058.nt\n"
     ]
    },
    {
     "name": "stderr",
     "output_type": "stream",
     "text": [
      "Generating graphs:   0%|          | 69/17055 [17:01<72:54:36, 15.45s/it]"
     ]
    },
    {
     "name": "stdout",
     "output_type": "stream",
     "text": [
      "ComponentDefinition_Sequence\n",
      "tensor([0])\n",
      "ComponentDefinition_SequenceAnnotation\n",
      "tensor([0])\n",
      "ComponentDefinition_Range\n",
      "tensor([0])\n",
      "ModuleDefinition_ComponentDefinition\n",
      "tensor([1, 0])\n",
      "ModuleDefinition_ModuleDefinition\n",
      "tensor([1, 3, 0])\n",
      "ComponentDefinition_ComponentDefinition\n",
      "tensor([2])\n",
      "sample_design_10059.nt\n"
     ]
    },
    {
     "name": "stderr",
     "output_type": "stream",
     "text": [
      "Generating graphs:   0%|          | 70/17055 [17:12<67:33:13, 14.32s/it]"
     ]
    },
    {
     "name": "stdout",
     "output_type": "stream",
     "text": [
      "ComponentDefinition_Sequence\n",
      "tensor([0])\n",
      "ComponentDefinition_SequenceAnnotation\n",
      "tensor([0])\n",
      "ComponentDefinition_Range\n",
      "tensor([0])\n",
      "ModuleDefinition_ComponentDefinition\n",
      "tensor([1, 0])\n",
      "ModuleDefinition_ModuleDefinition\n",
      "tensor([1, 3, 0])\n",
      "ComponentDefinition_ComponentDefinition\n",
      "tensor([2])\n",
      "sample_design_1006.nt\n"
     ]
    },
    {
     "name": "stderr",
     "output_type": "stream",
     "text": [
      "Generating graphs:   0%|          | 71/17055 [17:24<63:55:35, 13.55s/it]"
     ]
    },
    {
     "name": "stdout",
     "output_type": "stream",
     "text": [
      "ComponentDefinition_Sequence\n",
      "tensor([0])\n",
      "ComponentDefinition_SequenceAnnotation\n",
      "tensor([0])\n",
      "ComponentDefinition_Range\n",
      "tensor([0])\n",
      "ModuleDefinition_ComponentDefinition\n",
      "tensor([0, 1])\n",
      "ModuleDefinition_ModuleDefinition\n",
      "tensor([0, 1, 3])\n",
      "ComponentDefinition_ComponentDefinition\n",
      "tensor([2])\n",
      "sample_design_10060.nt\n"
     ]
    },
    {
     "name": "stderr",
     "output_type": "stream",
     "text": [
      "Generating graphs:   0%|          | 72/17055 [17:36<61:13:00, 12.98s/it]"
     ]
    },
    {
     "name": "stdout",
     "output_type": "stream",
     "text": [
      "ComponentDefinition_Sequence\n",
      "tensor([0])\n",
      "ComponentDefinition_SequenceAnnotation\n",
      "tensor([0])\n",
      "ComponentDefinition_Range\n",
      "tensor([0])\n",
      "ModuleDefinition_ComponentDefinition\n",
      "tensor([0, 1])\n",
      "ModuleDefinition_ModuleDefinition\n",
      "tensor([0, 1, 3])\n",
      "ComponentDefinition_ComponentDefinition\n",
      "tensor([2])\n",
      "sample_design_10061.nt\n"
     ]
    },
    {
     "name": "stderr",
     "output_type": "stream",
     "text": [
      "Generating graphs:   0%|          | 73/17055 [17:47<59:22:16, 12.59s/it]"
     ]
    },
    {
     "name": "stdout",
     "output_type": "stream",
     "text": [
      "ComponentDefinition_Sequence\n",
      "tensor([0])\n",
      "ComponentDefinition_SequenceAnnotation\n",
      "tensor([0])\n",
      "ComponentDefinition_Range\n",
      "tensor([0])\n",
      "ModuleDefinition_ComponentDefinition\n",
      "tensor([1, 0])\n",
      "ModuleDefinition_ModuleDefinition\n",
      "tensor([1, 3, 0])\n",
      "ComponentDefinition_ComponentDefinition\n",
      "tensor([2])\n",
      "sample_design_10062.nt\n"
     ]
    },
    {
     "name": "stderr",
     "output_type": "stream",
     "text": [
      "Generating graphs:   0%|          | 74/17055 [17:59<58:35:11, 12.42s/it]"
     ]
    },
    {
     "name": "stdout",
     "output_type": "stream",
     "text": [
      "ComponentDefinition_Sequence\n",
      "tensor([0])\n",
      "ComponentDefinition_SequenceAnnotation\n",
      "tensor([0])\n",
      "ComponentDefinition_Range\n",
      "tensor([0])\n",
      "ModuleDefinition_ComponentDefinition\n",
      "tensor([1, 0])\n",
      "ModuleDefinition_ModuleDefinition\n",
      "tensor([1, 3, 0])\n",
      "ComponentDefinition_ComponentDefinition\n",
      "tensor([2])\n",
      "sample_design_10063.nt\n"
     ]
    },
    {
     "name": "stderr",
     "output_type": "stream",
     "text": [
      "Generating graphs:   0%|          | 75/17055 [18:34<90:24:48, 19.17s/it]"
     ]
    },
    {
     "name": "stdout",
     "output_type": "stream",
     "text": [
      "ComponentDefinition_Sequence\n",
      "tensor([0])\n",
      "ComponentDefinition_SequenceAnnotation\n",
      "tensor([0])\n",
      "ComponentDefinition_Range\n",
      "tensor([0])\n",
      "ModuleDefinition_ComponentDefinition\n",
      "tensor([1, 0])\n",
      "ModuleDefinition_ModuleDefinition\n",
      "tensor([1, 3, 0])\n",
      "ComponentDefinition_ComponentDefinition\n",
      "tensor([2])\n",
      "sample_design_10064.nt\n"
     ]
    },
    {
     "name": "stderr",
     "output_type": "stream",
     "text": [
      "Generating graphs:   0%|          | 76/17055 [18:46<80:30:13, 17.07s/it]"
     ]
    },
    {
     "name": "stdout",
     "output_type": "stream",
     "text": [
      "ComponentDefinition_Sequence\n",
      "tensor([0])\n",
      "ComponentDefinition_SequenceAnnotation\n",
      "tensor([0])\n",
      "ComponentDefinition_Range\n",
      "tensor([0])\n",
      "ModuleDefinition_ComponentDefinition\n",
      "tensor([1, 0])\n",
      "ModuleDefinition_ModuleDefinition\n",
      "tensor([1, 3, 0])\n",
      "ComponentDefinition_ComponentDefinition\n",
      "tensor([2])\n",
      "sample_design_10065.nt\n"
     ]
    },
    {
     "name": "stderr",
     "output_type": "stream",
     "text": [
      "Generating graphs:   0%|          | 77/17055 [19:03<79:41:11, 16.90s/it]"
     ]
    },
    {
     "name": "stdout",
     "output_type": "stream",
     "text": [
      "ComponentDefinition_Sequence\n",
      "tensor([0])\n",
      "ComponentDefinition_SequenceAnnotation\n",
      "tensor([0])\n",
      "ComponentDefinition_Range\n",
      "tensor([0])\n",
      "ModuleDefinition_ComponentDefinition\n",
      "tensor([0, 1])\n",
      "ModuleDefinition_ModuleDefinition\n",
      "tensor([0, 1, 3])\n",
      "ComponentDefinition_ComponentDefinition\n",
      "tensor([2])\n",
      "sample_design_10066.nt\n"
     ]
    },
    {
     "name": "stderr",
     "output_type": "stream",
     "text": [
      "Generating graphs:   0%|          | 78/17055 [19:24<86:20:59, 18.31s/it]"
     ]
    },
    {
     "name": "stdout",
     "output_type": "stream",
     "text": [
      "ComponentDefinition_Sequence\n",
      "tensor([0])\n",
      "ComponentDefinition_SequenceAnnotation\n",
      "tensor([0])\n",
      "ComponentDefinition_Range\n",
      "tensor([0])\n",
      "ModuleDefinition_ComponentDefinition\n",
      "tensor([0, 1])\n",
      "ModuleDefinition_ModuleDefinition\n",
      "tensor([0, 3, 1])\n",
      "ComponentDefinition_ComponentDefinition\n",
      "tensor([2])\n",
      "sample_design_10067.nt\n"
     ]
    },
    {
     "name": "stderr",
     "output_type": "stream",
     "text": [
      "Generating graphs:   0%|          | 79/17055 [19:36<76:50:26, 16.30s/it]"
     ]
    },
    {
     "name": "stdout",
     "output_type": "stream",
     "text": [
      "ComponentDefinition_Sequence\n",
      "tensor([0])\n",
      "ComponentDefinition_SequenceAnnotation\n",
      "tensor([0])\n",
      "ComponentDefinition_Range\n",
      "tensor([0])\n",
      "ModuleDefinition_ComponentDefinition\n",
      "tensor([0, 1])\n",
      "ModuleDefinition_ModuleDefinition\n",
      "tensor([0, 1, 3])\n",
      "ComponentDefinition_ComponentDefinition\n",
      "tensor([2])\n",
      "sample_design_10068.nt\n"
     ]
    },
    {
     "name": "stderr",
     "output_type": "stream",
     "text": [
      "Generating graphs:   0%|          | 80/17055 [19:48<70:19:22, 14.91s/it]"
     ]
    },
    {
     "name": "stdout",
     "output_type": "stream",
     "text": [
      "ComponentDefinition_Sequence\n",
      "tensor([0])\n",
      "ComponentDefinition_SequenceAnnotation\n",
      "tensor([0])\n",
      "ComponentDefinition_Range\n",
      "tensor([0])\n",
      "ModuleDefinition_ComponentDefinition\n",
      "tensor([1, 0])\n",
      "ModuleDefinition_ModuleDefinition\n",
      "tensor([1, 3, 0])\n",
      "ComponentDefinition_ComponentDefinition\n",
      "tensor([2])\n",
      "sample_design_10069.nt\n"
     ]
    },
    {
     "name": "stderr",
     "output_type": "stream",
     "text": [
      "Generating graphs:   0%|          | 81/17055 [20:00<66:11:53, 14.04s/it]"
     ]
    },
    {
     "name": "stdout",
     "output_type": "stream",
     "text": [
      "ComponentDefinition_Sequence\n",
      "tensor([0])\n",
      "ComponentDefinition_SequenceAnnotation\n",
      "tensor([0])\n",
      "ComponentDefinition_Range\n",
      "tensor([0])\n",
      "ModuleDefinition_ComponentDefinition\n",
      "tensor([1, 0])\n",
      "ModuleDefinition_ModuleDefinition\n",
      "tensor([1, 3, 0])\n",
      "ComponentDefinition_ComponentDefinition\n",
      "tensor([2])\n",
      "sample_design_1007.nt\n"
     ]
    },
    {
     "name": "stderr",
     "output_type": "stream",
     "text": [
      "Generating graphs:   0%|          | 82/17055 [20:12<62:59:06, 13.36s/it]"
     ]
    },
    {
     "name": "stdout",
     "output_type": "stream",
     "text": [
      "ComponentDefinition_Sequence\n",
      "tensor([0])\n",
      "ComponentDefinition_SequenceAnnotation\n",
      "tensor([0])\n",
      "ComponentDefinition_Range\n",
      "tensor([0])\n",
      "ModuleDefinition_ComponentDefinition\n",
      "tensor([1, 0])\n",
      "ModuleDefinition_ModuleDefinition\n",
      "tensor([1, 3, 0])\n",
      "ComponentDefinition_ComponentDefinition\n",
      "tensor([2])\n",
      "sample_design_10070.nt\n"
     ]
    },
    {
     "name": "stderr",
     "output_type": "stream",
     "text": [
      "Generating graphs:   0%|          | 83/17055 [20:23<60:19:12, 12.79s/it]"
     ]
    },
    {
     "name": "stdout",
     "output_type": "stream",
     "text": [
      "ComponentDefinition_Sequence\n",
      "tensor([0])\n",
      "ComponentDefinition_SequenceAnnotation\n",
      "tensor([0])\n",
      "ComponentDefinition_Range\n",
      "tensor([0])\n",
      "ModuleDefinition_ComponentDefinition\n",
      "tensor([0, 1])\n",
      "ModuleDefinition_ModuleDefinition\n",
      "tensor([0, 1, 3])\n",
      "ComponentDefinition_ComponentDefinition\n",
      "tensor([2])\n",
      "sample_design_10071.nt\n"
     ]
    },
    {
     "name": "stderr",
     "output_type": "stream",
     "text": [
      "Generating graphs:   0%|          | 84/17055 [20:35<58:34:13, 12.42s/it]"
     ]
    },
    {
     "name": "stdout",
     "output_type": "stream",
     "text": [
      "ComponentDefinition_Sequence\n",
      "tensor([0])\n",
      "ComponentDefinition_SequenceAnnotation\n",
      "tensor([0])\n",
      "ComponentDefinition_Range\n",
      "tensor([0])\n",
      "ModuleDefinition_ComponentDefinition\n",
      "tensor([0, 1])\n",
      "ModuleDefinition_ModuleDefinition\n",
      "tensor([0, 1, 3])\n",
      "ComponentDefinition_ComponentDefinition\n",
      "tensor([2])\n",
      "sample_design_10072.nt\n"
     ]
    },
    {
     "name": "stderr",
     "output_type": "stream",
     "text": [
      "Generating graphs:   0%|          | 85/17055 [21:09<90:14:24, 19.14s/it]"
     ]
    },
    {
     "name": "stdout",
     "output_type": "stream",
     "text": [
      "ComponentDefinition_Sequence\n",
      "tensor([0])\n",
      "ComponentDefinition_SequenceAnnotation\n",
      "tensor([0])\n",
      "ComponentDefinition_Range\n",
      "tensor([0])\n",
      "ModuleDefinition_ComponentDefinition\n",
      "tensor([0, 1])\n",
      "ModuleDefinition_ModuleDefinition\n",
      "tensor([0, 1, 3])\n",
      "ComponentDefinition_ComponentDefinition\n",
      "tensor([2])\n",
      "sample_design_10073.nt\n"
     ]
    },
    {
     "name": "stderr",
     "output_type": "stream",
     "text": [
      "Generating graphs:   1%|          | 86/17055 [21:21<79:30:22, 16.87s/it]"
     ]
    },
    {
     "name": "stdout",
     "output_type": "stream",
     "text": [
      "ComponentDefinition_Sequence\n",
      "tensor([0])\n",
      "ComponentDefinition_SequenceAnnotation\n",
      "tensor([0])\n",
      "ComponentDefinition_Range\n",
      "tensor([0])\n",
      "ModuleDefinition_ComponentDefinition\n",
      "tensor([1, 0])\n",
      "ModuleDefinition_ModuleDefinition\n",
      "tensor([1, 3, 0])\n",
      "ComponentDefinition_ComponentDefinition\n",
      "tensor([2])\n",
      "sample_design_10074.nt\n"
     ]
    },
    {
     "name": "stderr",
     "output_type": "stream",
     "text": [
      "Generating graphs:   1%|          | 87/17055 [21:33<72:38:14, 15.41s/it]"
     ]
    },
    {
     "name": "stdout",
     "output_type": "stream",
     "text": [
      "ComponentDefinition_Sequence\n",
      "tensor([0])\n",
      "ComponentDefinition_SequenceAnnotation\n",
      "tensor([0])\n",
      "ComponentDefinition_Range\n",
      "tensor([0])\n",
      "ModuleDefinition_ComponentDefinition\n",
      "tensor([1, 0])\n",
      "ModuleDefinition_ModuleDefinition\n",
      "tensor([3, 1, 0])\n",
      "ComponentDefinition_ComponentDefinition\n",
      "tensor([2])\n",
      "sample_design_10075.nt\n"
     ]
    },
    {
     "name": "stderr",
     "output_type": "stream",
     "text": [
      "Generating graphs:   1%|          | 88/17055 [21:45<67:29:20, 14.32s/it]"
     ]
    },
    {
     "name": "stdout",
     "output_type": "stream",
     "text": [
      "ComponentDefinition_Sequence\n",
      "tensor([0])\n",
      "ComponentDefinition_SequenceAnnotation\n",
      "tensor([0])\n",
      "ComponentDefinition_Range\n",
      "tensor([0])\n",
      "ModuleDefinition_ComponentDefinition\n",
      "tensor([0, 1])\n",
      "ModuleDefinition_ModuleDefinition\n",
      "tensor([0, 1, 3])\n",
      "ComponentDefinition_ComponentDefinition\n",
      "tensor([2])\n",
      "sample_design_10076.nt\n"
     ]
    },
    {
     "name": "stderr",
     "output_type": "stream",
     "text": [
      "Generating graphs:   1%|          | 89/17055 [21:57<64:39:55, 13.72s/it]"
     ]
    },
    {
     "name": "stdout",
     "output_type": "stream",
     "text": [
      "ComponentDefinition_Sequence\n",
      "tensor([0])\n",
      "ComponentDefinition_SequenceAnnotation\n",
      "tensor([0])\n",
      "ComponentDefinition_Range\n",
      "tensor([0])\n",
      "ModuleDefinition_ComponentDefinition\n",
      "tensor([0, 1])\n",
      "ModuleDefinition_ModuleDefinition\n",
      "tensor([0, 1, 3])\n",
      "ComponentDefinition_ComponentDefinition\n",
      "tensor([2])\n",
      "sample_design_10077.nt\n"
     ]
    },
    {
     "name": "stderr",
     "output_type": "stream",
     "text": [
      "Generating graphs:   1%|          | 90/17055 [22:10<63:28:10, 13.47s/it]"
     ]
    },
    {
     "name": "stdout",
     "output_type": "stream",
     "text": [
      "ComponentDefinition_Sequence\n",
      "tensor([0])\n",
      "ComponentDefinition_SequenceAnnotation\n",
      "tensor([0])\n",
      "ComponentDefinition_Range\n",
      "tensor([0])\n",
      "ModuleDefinition_ComponentDefinition\n",
      "tensor([1, 0])\n",
      "ModuleDefinition_ModuleDefinition\n",
      "tensor([1, 3, 0])\n",
      "ComponentDefinition_ComponentDefinition\n",
      "tensor([2])\n",
      "sample_design_10078.nt\n"
     ]
    },
    {
     "name": "stderr",
     "output_type": "stream",
     "text": [
      "Generating graphs:   1%|          | 91/17055 [22:22<61:24:52, 13.03s/it]"
     ]
    },
    {
     "name": "stdout",
     "output_type": "stream",
     "text": [
      "ComponentDefinition_Sequence\n",
      "tensor([0])\n",
      "ComponentDefinition_SequenceAnnotation\n",
      "tensor([0])\n",
      "ComponentDefinition_Range\n",
      "tensor([0])\n",
      "ModuleDefinition_ComponentDefinition\n",
      "tensor([0, 1])\n",
      "ModuleDefinition_ModuleDefinition\n",
      "tensor([0, 3, 1])\n",
      "ComponentDefinition_ComponentDefinition\n",
      "tensor([2])\n",
      "sample_design_10079.nt\n"
     ]
    },
    {
     "name": "stderr",
     "output_type": "stream",
     "text": [
      "Generating graphs:   1%|          | 92/17055 [22:34<59:33:00, 12.64s/it]"
     ]
    },
    {
     "name": "stdout",
     "output_type": "stream",
     "text": [
      "ComponentDefinition_Sequence\n",
      "tensor([0])\n",
      "ComponentDefinition_SequenceAnnotation\n",
      "tensor([0])\n",
      "ComponentDefinition_Range\n",
      "tensor([0])\n",
      "ModuleDefinition_ComponentDefinition\n",
      "tensor([1, 0])\n",
      "ModuleDefinition_ModuleDefinition\n",
      "tensor([1, 3, 0])\n",
      "ComponentDefinition_ComponentDefinition\n",
      "tensor([2])\n",
      "sample_design_1008.nt\n"
     ]
    },
    {
     "name": "stderr",
     "output_type": "stream",
     "text": [
      "Generating graphs:   1%|          | 93/17055 [22:45<58:04:46, 12.33s/it]"
     ]
    },
    {
     "name": "stdout",
     "output_type": "stream",
     "text": [
      "ComponentDefinition_Sequence\n",
      "tensor([0])\n",
      "ComponentDefinition_SequenceAnnotation\n",
      "tensor([0])\n",
      "ComponentDefinition_Range\n",
      "tensor([0])\n",
      "ModuleDefinition_ComponentDefinition\n",
      "tensor([1, 0])\n",
      "ModuleDefinition_ModuleDefinition\n",
      "tensor([1, 3, 0])\n",
      "ComponentDefinition_ComponentDefinition\n",
      "tensor([2])\n",
      "sample_design_10080.nt\n"
     ]
    },
    {
     "name": "stderr",
     "output_type": "stream",
     "text": [
      "Generating graphs:   1%|          | 94/17055 [23:18<86:15:53, 18.31s/it]"
     ]
    },
    {
     "name": "stdout",
     "output_type": "stream",
     "text": [
      "ComponentDefinition_Sequence\n",
      "tensor([0])\n",
      "ComponentDefinition_SequenceAnnotation\n",
      "tensor([0])\n",
      "ComponentDefinition_Range\n",
      "tensor([0])\n",
      "ModuleDefinition_ComponentDefinition\n",
      "tensor([1, 0])\n",
      "ModuleDefinition_ModuleDefinition\n",
      "tensor([1, 3, 0])\n",
      "ComponentDefinition_ComponentDefinition\n",
      "tensor([2])\n",
      "sample_design_10081.nt\n"
     ]
    }
   ],
   "source": [
    "y_measures = convert_all_xml_to_nt_and_get_y_measures()\n",
    "y_scaled, scaler_y = return_standardized_labels(y_measures)\n",
    "X_graphs = return_all_graphs(node_classes, y_scaled, all_edges_formatted)"
   ]
  },
  {
   "cell_type": "code",
   "execution_count": 16,
   "id": "d78bd762",
   "metadata": {},
   "outputs": [],
   "source": [
    "y_scaled = y_scaled[:250]\n",
    "X_graphs = X_graphs[:250]"
   ]
  },
  {
   "cell_type": "code",
   "execution_count": 17,
   "id": "878a3da8",
   "metadata": {},
   "outputs": [],
   "source": [
    "train_graphs, test_graphs = train_test_split(X_graphs, test_size=0.2, random_state=42)"
   ]
  },
  {
   "cell_type": "code",
   "execution_count": null,
   "id": "35f0eeb4",
   "metadata": {},
   "outputs": [],
   "source": []
  },
  {
   "cell_type": "code",
   "execution_count": 23,
   "id": "1be93d8b",
   "metadata": {},
   "outputs": [
    {
     "name": "stdout",
     "output_type": "stream",
     "text": [
      "Metadata:  [('ComponentDefinition', 'has_Sequence', 'Sequence'), ('ComponentDefinition', 'has_SequenceAnnotation', 'SequenceAnnotation'), ('ComponentDefinition', 'has_Range', 'Range'), ('ModuleDefinition', 'has_ComponentDefinition', 'ComponentDefinition'), ('ModuleDefinition', 'has_ModuleDefinition', 'ModuleDefinition'), ('ComponentDefinition', 'has_ComponentDefinition', 'ComponentDefinition')]\n"
     ]
    },
    {
     "name": "stderr",
     "output_type": "stream",
     "text": [
      "C:\\Users\\Sai\\AppData\\Local\\Temp\\ipykernel_25768\\3765874905.py:337: UserWarning: To copy construct from a tensor, it is recommended to use sourceTensor.clone().detach() or sourceTensor.clone().detach().requires_grad_(True), rather than torch.tensor(sourceTensor).\n",
      "  target = torch.tensor(batch.y, dtype=torch.float32).view(-1).to(device)\n"
     ]
    },
    {
     "name": "stdout",
     "output_type": "stream",
     "text": [
      "Epoch 001 | Train Loss: 0.4233 | Val Loss: 0.0009\n",
      "Epoch 002 | Train Loss: 0.4306 | Val Loss: 0.0044\n",
      "Epoch 003 | Train Loss: 0.4386 | Val Loss: 0.0066\n",
      "Epoch 004 | Train Loss: 0.4225 | Val Loss: 0.0018\n",
      "Epoch 005 | Train Loss: 0.4272 | Val Loss: 0.0019\n",
      "Epoch 006 | Train Loss: 0.4183 | Val Loss: 0.0014\n",
      "Epoch 007 | Train Loss: 0.4228 | Val Loss: 0.0039\n",
      "Epoch 008 | Train Loss: 0.4157 | Val Loss: 0.0008\n",
      "Epoch 009 | Train Loss: 0.4144 | Val Loss: 0.0012\n",
      "Epoch 010 | Train Loss: 0.4026 | Val Loss: 0.0011\n",
      "Epoch 011 | Train Loss: 0.3446 | Val Loss: 0.0080\n",
      "Epoch 012 | Train Loss: 0.6982 | Val Loss: 0.0035\n",
      "Epoch 013 | Train Loss: 0.4256 | Val Loss: 0.0059\n",
      "Epoch 014 | Train Loss: 0.4420 | Val Loss: 0.0046\n",
      "Epoch 015 | Train Loss: 0.4582 | Val Loss: 0.0113\n",
      "Epoch 016 | Train Loss: 0.4519 | Val Loss: 0.0082\n",
      "Epoch 017 | Train Loss: 0.4339 | Val Loss: 0.0108\n",
      "Epoch 018 | Train Loss: 0.4203 | Val Loss: 0.0020\n",
      "Epoch 019 | Train Loss: 0.4173 | Val Loss: 0.0037\n",
      "Epoch 020 | Train Loss: 0.4218 | Val Loss: 0.0026\n",
      "Epoch 021 | Train Loss: 0.4107 | Val Loss: 0.0043\n",
      "Epoch 022 | Train Loss: 0.4033 | Val Loss: 0.0035\n",
      "Epoch 023 | Train Loss: 0.4062 | Val Loss: 0.0071\n",
      "Epoch 024 | Train Loss: 0.1923 | Val Loss: 0.0271\n",
      "Epoch 025 | Train Loss: 0.8093 | Val Loss: 0.0147\n",
      "Epoch 026 | Train Loss: 0.4235 | Val Loss: 0.0030\n",
      "Epoch 027 | Train Loss: 0.4474 | Val Loss: 0.0043\n",
      "Epoch 028 | Train Loss: 0.4409 | Val Loss: 0.0204\n",
      "Epoch 029 | Train Loss: 0.4327 | Val Loss: 0.0164\n",
      "Epoch 030 | Train Loss: 0.4216 | Val Loss: 0.0022\n",
      "Epoch 031 | Train Loss: 0.4271 | Val Loss: 0.0099\n",
      "Epoch 032 | Train Loss: 0.4291 | Val Loss: 0.0048\n",
      "Epoch 033 | Train Loss: 0.4239 | Val Loss: 0.0095\n",
      "Epoch 034 | Train Loss: 0.3857 | Val Loss: 0.0018\n",
      "Epoch 035 | Train Loss: 0.1224 | Val Loss: 0.0093\n",
      "Epoch 036 | Train Loss: 0.4943 | Val Loss: 0.0020\n",
      "Epoch 037 | Train Loss: 0.5220 | Val Loss: 0.0054\n",
      "Epoch 038 | Train Loss: 0.4323 | Val Loss: 0.0118\n",
      "Epoch 039 | Train Loss: 0.4265 | Val Loss: 0.0070\n",
      "Epoch 040 | Train Loss: 0.4329 | Val Loss: 0.0184\n",
      "Epoch 041 | Train Loss: 0.4462 | Val Loss: 0.0167\n",
      "Epoch 042 | Train Loss: 0.4274 | Val Loss: 0.0060\n",
      "Epoch 043 | Train Loss: 0.4225 | Val Loss: 0.0117\n",
      "Epoch 044 | Train Loss: 0.4260 | Val Loss: 0.0047\n",
      "Epoch 045 | Train Loss: 0.4323 | Val Loss: 0.0127\n",
      "Epoch 046 | Train Loss: 0.4250 | Val Loss: 0.0064\n",
      "Epoch 047 | Train Loss: 0.4254 | Val Loss: 0.0099\n",
      "Epoch 048 | Train Loss: 0.4311 | Val Loss: 0.0113\n",
      "Epoch 049 | Train Loss: 0.4250 | Val Loss: 0.0067\n",
      "Epoch 050 | Train Loss: 0.4247 | Val Loss: 0.0059\n",
      "Epoch 051 | Train Loss: 0.4253 | Val Loss: 0.0091\n",
      "Epoch 052 | Train Loss: 0.4271 | Val Loss: 0.0066\n",
      "Epoch 053 | Train Loss: 0.4299 | Val Loss: 0.0074\n",
      "Epoch 054 | Train Loss: 0.4290 | Val Loss: 0.0115\n",
      "Epoch 055 | Train Loss: 0.4346 | Val Loss: 0.0058\n",
      "Epoch 056 | Train Loss: 0.4291 | Val Loss: 0.0150\n",
      "Epoch 057 | Train Loss: 0.4311 | Val Loss: 0.0094\n",
      "Epoch 058 | Train Loss: 0.4307 | Val Loss: 0.0122\n",
      "Epoch 059 | Train Loss: 0.4222 | Val Loss: 0.0043\n",
      "Epoch 060 | Train Loss: 0.4198 | Val Loss: 0.0038\n",
      "Epoch 061 | Train Loss: 0.4235 | Val Loss: 0.0070\n",
      "Epoch 062 | Train Loss: 0.4262 | Val Loss: 0.0089\n",
      "Epoch 063 | Train Loss: 0.4217 | Val Loss: 0.0054\n",
      "Epoch 064 | Train Loss: 0.4193 | Val Loss: 0.0057\n",
      "Epoch 065 | Train Loss: 0.4213 | Val Loss: 0.0057\n",
      "Epoch 066 | Train Loss: 0.4199 | Val Loss: 0.0056\n",
      "Epoch 067 | Train Loss: 0.4181 | Val Loss: 0.0098\n",
      "Epoch 068 | Train Loss: 0.4159 | Val Loss: 0.0036\n",
      "Epoch 069 | Train Loss: 0.4173 | Val Loss: 0.0051\n",
      "Epoch 070 | Train Loss: 0.4138 | Val Loss: 0.0068\n",
      "Epoch 071 | Train Loss: 0.4093 | Val Loss: 0.0033\n",
      "Epoch 072 | Train Loss: 0.4108 | Val Loss: 0.0058\n",
      "Epoch 073 | Train Loss: 0.3145 | Val Loss: 0.0194\n",
      "Epoch 074 | Train Loss: 0.0301 | Val Loss: 0.0037\n",
      "Epoch 075 | Train Loss: 0.4246 | Val Loss: 0.0097\n",
      "Epoch 076 | Train Loss: 0.4265 | Val Loss: 0.0075\n",
      "Epoch 077 | Train Loss: 0.4259 | Val Loss: 0.0090\n",
      "Epoch 078 | Train Loss: 0.4257 | Val Loss: 0.0153\n",
      "Epoch 079 | Train Loss: 0.4210 | Val Loss: 0.0026\n",
      "Epoch 080 | Train Loss: 0.4201 | Val Loss: 0.0050\n",
      "Epoch 081 | Train Loss: 0.4206 | Val Loss: 0.0065\n",
      "Epoch 082 | Train Loss: 0.4180 | Val Loss: 0.0057\n",
      "Epoch 083 | Train Loss: 0.4158 | Val Loss: 0.0032\n",
      "Epoch 084 | Train Loss: 0.4128 | Val Loss: 0.0028\n",
      "Epoch 085 | Train Loss: 0.4145 | Val Loss: 0.0065\n",
      "Epoch 086 | Train Loss: 0.3808 | Val Loss: 0.0148\n",
      "Epoch 087 | Train Loss: 0.3891 | Val Loss: 0.0073\n",
      "Epoch 088 | Train Loss: 0.4045 | Val Loss: 0.0065\n",
      "Epoch 089 | Train Loss: 0.3856 | Val Loss: 0.0085\n",
      "Epoch 090 | Train Loss: 0.4157 | Val Loss: 0.0041\n",
      "Epoch 091 | Train Loss: 0.2824 | Val Loss: 0.0056\n",
      "Epoch 092 | Train Loss: 0.1146 | Val Loss: 0.0049\n",
      "Epoch 093 | Train Loss: 0.4161 | Val Loss: 0.0092\n",
      "Epoch 094 | Train Loss: 0.4045 | Val Loss: 0.0074\n",
      "Epoch 095 | Train Loss: 0.3720 | Val Loss: 0.0182\n",
      "Epoch 096 | Train Loss: 0.3400 | Val Loss: 0.0038\n",
      "Epoch 097 | Train Loss: 0.2783 | Val Loss: 0.0079\n",
      "Epoch 098 | Train Loss: 0.3094 | Val Loss: 0.0179\n",
      "Epoch 099 | Train Loss: 0.8500 | Val Loss: 0.0069\n"
     ]
    }
   ],
   "source": [
    "model, history, device = train_GNN(train_graphs)"
   ]
  },
  {
   "cell_type": "code",
   "execution_count": 25,
   "id": "9752afd9",
   "metadata": {},
   "outputs": [
    {
     "name": "stdout",
     "output_type": "stream",
     "text": [
      "Test Loss (MSE): 0.04701630771160126\n",
      "MAE: 0.5958988\n",
      "R²: -0.14560757017960735\n"
     ]
    }
   ],
   "source": [
    "test_loader = DataLoader(test_graphs, batch_size=100, shuffle=False)\n",
    "\n",
    "\n",
    "test_loss, y_pred, y_true = evaluate_on_test(model, test_loader, device)\n",
    "y_pred_unnorm = scaler_y.inverse_transform(np.array(y_pred).reshape(-1, 1)).flatten()\n",
    "y_true_unnorm = scaler_y.inverse_transform(np.array(y_true).reshape(-1, 1)).flatten()\n",
    "\n",
    "from sklearn.metrics import r2_score, mean_absolute_error\n",
    "\n",
    "print(\"MAE:\", mean_absolute_error(y_true_unnorm, y_pred_unnorm))\n",
    "print(\"R²:\", r2_score(y_true_unnorm, y_pred_unnorm))\n"
   ]
  },
  {
   "cell_type": "code",
   "execution_count": 27,
   "id": "3f8d36f2",
   "metadata": {},
   "outputs": [
    {
     "name": "stdout",
     "output_type": "stream",
     "text": [
      "[-0.055 -0.023 -0.097 -0.084 -0.021 -0.029 -0.051 -0.022 -0.086 -0.014\n",
      " -0.082 -0.073 -0.024 -0.091 -0.056 -0.047 -0.074 -0.087 -0.084 -0.036\n",
      " -0.071 -0.032 -0.059 -0.068 -0.025 -0.061 -0.018 -0.061 -0.086 -0.071\n",
      "  0.503 -0.049 -0.046 -0.084 -0.013 -0.018 -0.09  -0.047 -0.076 -0.145\n",
      " -0.103 -0.126 -0.044 -0.031 -0.025 -0.099 -0.039 -0.018 -0.049 -0.056]\n",
      "[ 0.077 -0.058 -0.058 -0.1    0.053 -0.094 -0.103 -0.086 -0.082 -0.015\n",
      " -0.102 -0.095 -0.093 -0.101 -0.092 -0.086 -0.093 -0.057 -0.089 -0.091\n",
      " -0.076  1.215 -0.093 -0.088 -0.103  0.232 -0.097 -0.098 -0.1   -0.055\n",
      " -0.068 -0.095  0.291  0.148  0.304 -0.088 -0.111 -0.085 -0.097 -0.109\n",
      " -0.112 -0.104 -0.124 -0.072 -0.082 -0.092 -0.104 -0.103  0.074 -0.053]\n"
     ]
    }
   ],
   "source": [
    "print(np.round(y_pred[:100], 3))  # predictions\n",
    "print(np.round(y_true[:100], 3))  # true labels"
   ]
  },
  {
   "cell_type": "code",
   "execution_count": 28,
   "id": "9670af5a",
   "metadata": {},
   "outputs": [
    {
     "data": {
      "image/png": "[encoded data removed]",
      "text/plain": [
       "<Figure size 640x480 with 1 Axes>"
      ]
     },
     "metadata": {},
     "output_type": "display_data"
    }
   ],
   "source": [
    "\n",
    "# If you have history from model.fit(...)\n",
    "history_dict = history\n",
    "\n",
    "# Plot training & validation loss\n",
    "plt.plot(history_dict['train_loss'], label='Training Loss')\n",
    "\n",
    "# Check if validation loss exists\n",
    "if 'val_loss' in history_dict:\n",
    "    plt.plot(history_dict['val_loss'], label='Validation Loss')\n",
    "\n",
    "plt.xlabel('Epoch')\n",
    "plt.ylabel('Loss')\n",
    "plt.title('Model Loss Over Epochs')\n",
    "plt.legend()\n",
    "plt.grid(True)\n",
    "plt.show()\n"
   ]
  },
  {
   "cell_type": "code",
   "execution_count": null,
   "id": "1c80070a",
   "metadata": {},
   "outputs": [],
   "source": [
    "data = HeteroData()\n",
    "for node in node_classes:\n",
    "\n",
    "    node_features_df = pd.read_csv(os.path.join(\"save_path_numeric\", f'pivoted_df_{node}.csv'), header=None).astype(float)\n",
    "    node_tensor = torch.tensor(node_features_df.values, dtype=torch.float)\n",
    "    id_mapping_df = pd.read_csv(os.path.join(\"path\", f'pivoted_df_{node}.csv'))\n",
    "    subject_mapping_dict = id_mapping_df.set_index('subject')['mapping'].to_dict()\n",
    "\n",
    "    topo_df = pd.read_csv(f\"save_path_numeric/uri_list_{node}.csv\")\n",
    "    topo_df['mapped_col'] = topo_df['subject'].map(subject_mapping_dict)\n",
    "    topo_df = topo_df.sort_values(by='mapped_col')\n",
    "    topo_df.drop(['subject', 'mapped_col'], axis=1, inplace=True)\n",
    "    node_tensor_topo = torch.tensor(topo_df.values, dtype=torch.float)\n",
    "\n",
    "    node_tensor = torch.concat([node_tensor, node_tensor_topo], dim=1)\n",
    "    print(node_tensor.shape)\n",
    "print(data)"
   ]
  },
  {
   "cell_type": "code",
   "execution_count": null,
   "id": "ef67b23c",
   "metadata": {},
   "outputs": [],
   "source": [
    "subprocess.run([python_executable, \"autordf2gml-tb.py\", \"--config_path\", \"top-config.ini\"], shell=False, capture_output=True, text=True, encoding='utf-8')"
   ]
  },
  {
   "cell_type": "code",
   "execution_count": null,
   "id": "ecee15db",
   "metadata": {},
   "outputs": [],
   "source": [
    "def return_heterograph_for_one_nt(nt_file_name, node_names, edge_names):\n",
    "    \n",
    "    with tempfile.TemporaryDirectory() as temp_dir:\n",
    "        save_path_numeric = os.path.join(temp_dir, \"save_path_numeric\")\n",
    "        path = os.path.join(temp_dir, \"path\")\n",
    "        os.makedirs(save_path_numeric, exist_ok=True)\n",
    "        os.makedirs(path, exist_ok=True)\n",
    "\n",
    "        content_config_string = f'''\n",
    "        [InputPath]\n",
    "        input_path = {os.path.join(nt_path, nt_file_name)}\n",
    "\n",
    "        [SavePath]\n",
    "        save_path_numeric_graph = {save_path_numeric}\n",
    "        save_path_mapping = {path}\n",
    "\n",
    "        [NLD]\n",
    "        nld_class = ModuleDefinition\n",
    "\n",
    "        [EMBEDDING]\n",
    "        embedding_model = allenai/scibert_scivocab_uncased\n",
    "\n",
    "        \n",
    "\n",
    "        [Nodes]\n",
    "        classes = ComponentDefinition, Sequence, ModuleDefinition, Module, FunctionalComponent, Component, SequenceAnnotation, Range\n",
    "\n",
    "        ComponentDefinition = http://sbols.org/v2#ComponentDefinition\n",
    "        Sequence = http://sbols.org/v2#Sequence\n",
    "        ModuleDefinition = http://sbols.org/v2#ModuleDefinition\n",
    "        Module = http://sbols.org/v2#Module\n",
    "        FunctionalComponent = http://sbols.org/v2#FunctionalComponent\n",
    "        Component = http://sbols.org/v2#Component\n",
    "        SequenceAnnotation = http://sbols.org/v2#SequenceAnnotation\n",
    "        Range = http://sbols.org/v2#Range\n",
    "\n",
    "        [SimpleEdges]\n",
    "        edge_names = ComponentDefinition_Sequence, ComponentDefinition_SequenceAnnotation\n",
    "        ComponentDefinition_Sequence_start_node = ComponentDefinition\n",
    "        ComponentDefinition_Sequence_properties = http://sbols.org/v2#sequence\n",
    "        ComponentDefinition_Sequence_end_node = Sequence\n",
    "        ComponentDefinition_SequenceAnnotation_start_node = ComponentDefinition\n",
    "        ComponentDefinition_SequenceAnnotation_properties = http://sbols.org/v2#sequenceAnnotation\n",
    "        ComponentDefinition_SequenceAnnotation_end_node = SequenceAnnotation\n",
    "\n",
    "        [N-HopEdges]\n",
    "        edge_names = ComponentDefinition_Range, ModuleDefinition_ComponentDefinition, ModuleDefinition_ModuleDefinition, ComponentDefinition_ComponentDefinition\n",
    "        ComponentDefinition_Range_start_node = ComponentDefinition\n",
    "        ComponentDefinition_Range_hop1_properties = http://sbols.org/v2#sequenceAnnotation\n",
    "        ComponentDefinition_Range_hop2_properties = http://sbols.org/v2#location\n",
    "        ComponentDefinition_Range_end_node = Range\n",
    "        ModuleDefinition_ComponentDefinition_start_node = ModuleDefinition\n",
    "        ModuleDefinition_ComponentDefinition_hop1_properties = http://sbols.org/v2#functionalComponent\n",
    "        ModuleDefinition_ComponentDefinition_hop2_properties = http://sbols.org/v2#definition\n",
    "        ModuleDefinition_ComponentDefinition_end_node = ComponentDefinition\n",
    "        ModuleDefinition_ModuleDefinition_start_node = ModuleDefinition\n",
    "        ModuleDefinition_ModuleDefinition_hop1_properties = http://sbols.org/v2#module\n",
    "        ModuleDefinition_ModuleDefinition_hop2_properties = http://sbols.org/v2#definition\n",
    "        ModuleDefinition_ModuleDefinition_end_node = ModuleDefinition\n",
    "        ComponentDefinition_ComponentDefinition_start_node = ComponentDefinition\n",
    "        ComponentDefinition_ComponentDefinition_hop1_properties = http://sbols.org/v2#component\n",
    "        ComponentDefinition_ComponentDefinition_hop2_properties = http://sbols.org/v2#definition\n",
    "        ComponentDefinition_ComponentDefinition_end_node = ComponentDefinition\n",
    "\n",
    "        [N-ArayEdges]\n",
    "        edge_names = ComponentDefinition_Range\n",
    "        ComponentDefinition_Range_start_node = ComponentDefinition\n",
    "        ComponentDefinition_Range_properties = http://sbols.org/v2#sequenceAnnotation, http://sbols.org/v2#location\n",
    "        ComponentDefinition_Range_end_node = Range\n",
    "\n",
    "        [N-ArayFeaturePath]\n",
    "        ComponentDefinition_Range_feature_path = http://sbols.org/v2#sequenceAnnotation, http://sbols.org/v2#location\n",
    "\n",
    "        [N-ArayFeatureValue]\n",
    "        ComponentDefinition_Range_feature_value = http://sbols.org/v2#start, http://sbols.org/v2#end\n",
    "        '''\n",
    "\n",
    "        topo_config_string = f'''\n",
    "        [InputPath]\n",
    "        input_path = {os.path.join(nt_path, nt_file_name)}\n",
    "\n",
    "        [SavePath]\n",
    "        save_path_numeric_graph = {save_path_numeric}\n",
    "        save_path_mapping = {path}\n",
    "\n",
    "        [MODEL] ;required, options = transe / complex / distmult / rotate\n",
    "        kge_model = distmult\n",
    "\n",
    "        [Nodes]\n",
    "        classes = ComponentDefinition, Sequence, ModuleDefinition, Module, FunctionalComponent, Component, SequenceAnnotation, Range\n",
    "\n",
    "        ComponentDefinition = http://sbols.org/v2#ComponentDefinition\n",
    "        Sequence = http://sbols.org/v2#Sequence\n",
    "        ModuleDefinition = http://sbols.org/v2#ModuleDefinition\n",
    "        Module = http://sbols.org/v2#Module\n",
    "        FunctionalComponent = http://sbols.org/v2#FunctionalComponent\n",
    "        Component = http://sbols.org/v2#Component\n",
    "        SequenceAnnotation = http://sbols.org/v2#SequenceAnnotation\n",
    "        Range = http://sbols.org/v2#Range\n",
    "\n",
    "        [SimpleEdges]\n",
    "        edge_names = ComponentDefinition_Sequence, ComponentDefinition_SequenceAnnotation\n",
    "        ComponentDefinition_Sequence_start_node = ComponentDefinition\n",
    "        ComponentDefinition_Sequence_properties = http://sbols.org/v2#sequence\n",
    "        ComponentDefinition_Sequence_end_node = Sequence\n",
    "        ComponentDefinition_SequenceAnnotation_start_node = ComponentDefinition\n",
    "        ComponentDefinition_SequenceAnnotation_properties = http://sbols.org/v2#sequenceAnnotation\n",
    "        ComponentDefinition_SequenceAnnotation_end_node = SequenceAnnotation\n",
    "\n",
    "        [N-HopEdges]\n",
    "        edge_names = ComponentDefinition_Range, ModuleDefinition_ComponentDefinition, ModuleDefinition_ModuleDefinition, ComponentDefinition_ComponentDefinition\n",
    "        ComponentDefinition_Range_start_node = ComponentDefinition\n",
    "        ComponentDefinition_Range_hop1_properties = http://sbols.org/v2#sequenceAnnotation\n",
    "        ComponentDefinition_Range_hop2_properties = http://sbols.org/v2#location\n",
    "        ComponentDefinition_Range_end_node = Range\n",
    "        ModuleDefinition_ComponentDefinition_start_node = ModuleDefinition\n",
    "        ModuleDefinition_ComponentDefinition_hop1_properties = http://sbols.org/v2#functionalComponent\n",
    "        ModuleDefinition_ComponentDefinition_hop2_properties = http://sbols.org/v2#definition\n",
    "        ModuleDefinition_ComponentDefinition_end_node = ComponentDefinition\n",
    "        ModuleDefinition_ModuleDefinition_start_node = ModuleDefinition\n",
    "        ModuleDefinition_ModuleDefinition_hop1_properties = http://sbols.org/v2#module\n",
    "        ModuleDefinition_ModuleDefinition_hop2_properties = http://sbols.org/v2#definition\n",
    "        ModuleDefinition_ModuleDefinition_end_node = ModuleDefinition\n",
    "        ComponentDefinition_ComponentDefinition_start_node = ComponentDefinition\n",
    "        ComponentDefinition_ComponentDefinition_hop1_properties = http://sbols.org/v2#component\n",
    "        ComponentDefinition_ComponentDefinition_hop2_properties = http://sbols.org/v2#definition\n",
    "        ComponentDefinition_ComponentDefinition_end_node = ComponentDefinition\n",
    "\n",
    "        [N-ArayEdges]\n",
    "        edge_names = ComponentDefinition_Range\n",
    "        ComponentDefinition_Range_start_node = ComponentDefinition\n",
    "        ComponentDefinition_Range_properties = http://sbols.org/v2#sequenceAnnotation, http://sbols.org/v2#location\n",
    "        ComponentDefinition_Range_end_node = Range\n",
    "\n",
    "        [EmbeddingClasses] \n",
    "        class_list = http://sbols.org/v2#ComponentDefinition, http://sbols.org/v2#Sequence, http://sbols.org/v2#ModuleDefinition, http://sbols.org/v2#Module, http://sbols.org/v2#FunctionalComponent, http://sbols.org/v2#Component, http://sbols.org/v2#SequenceAnnotation, http://sbols.org/v2#Range\n",
    "\n",
    "        [EmbeddingPredicates] \n",
    "        pred_list = http://sbols.org/v2#location, http://sbols.org/v2#sequenceAnnotation, http://sbols.org/v2#functionalComponent, http://sbols.org/v2#definition, http://sbols.org/v2#module, http://sbols.org/v2#component, https://sbols.org/v2#sequence, http://www.w3.org/1999/02/22-rdf-syntax-ns#type\n",
    "        '''\n",
    "\n",
    "        with open(os.path.join(temp_dir,'config.ini'), 'w') as file:\n",
    "            file.write(content_config_string)\n",
    "\n",
    "        with open(os.path.join(temp_dir,'topo-config.ini'), 'w') as file:\n",
    "            file.write(topo_config_string)\n",
    "\n",
    "        content_result = subprocess.run([python_executable, \"autordf2gml.py\", \"--config_path\", os.path.join(temp_dir,\"config.ini\")], shell=False, capture_output=True, text=True)\n",
    "        topo_result = subprocess.run([python_executable, \"autordf2gml-tb.py\", \"--config_path\", os.path.join(temp_dir,\"topo-config.ini\")], shell=False, capture_output=True, text=True, encoding='utf-8', errors='replace')\n",
    "\n",
    "        if (topo_result.returncode != 0):\n",
    "            print(f\"topology-based conversion failed with return code {topo_result.returncode}.\")\n",
    "\n",
    "        if (content_result.returncode != 0):\n",
    "            print(f\"content-based conversion failed with return code {content_result.returncode}.\")\n",
    "        \n",
    "        data = HeteroData()\n",
    "        local_indices_map = {}            \n",
    "\n",
    "        for node_name in node_names:\n",
    "            node_features_df = pd.read_csv(os.path.join(save_path_numeric, f'pivoted_df_{node_name}.csv'), header=None).astype(float)\n",
    "            node_tensor = torch.tensor(node_features_df.values, dtype=torch.float)\n",
    "            id_mapping_df = pd.read_csv(os.path.join(path, f'pivoted_df_{node_name}.csv'))\n",
    "            subject_mapping_dict = id_mapping_df.set_index('subject')['mapping'].to_dict()\n",
    "\n",
    "            topo_df = pd.read_csv(os.path.join(save_path_numeric, f\"uri_list_{node_name}.csv\"))\n",
    "            topo_df['mapped_col'] = topo_df['subject'].map(subject_mapping_dict)\n",
    "            topo_df = topo_df.sort_values(by='mapped_col')\n",
    "            topo_df = topo_df.drop(['subject', 'mapped_col'], axis=1).astype(float)\n",
    "            node_tensor_topo = torch.tensor(topo_df.values, dtype=torch.float)\n",
    "\n",
    "\n",
    "            node_tensor = torch.concat([node_tensor, node_tensor_topo], dim=1)\n",
    "            \n",
    "            data[node_name].node_id = torch.arange(len(id_mapping_df))\n",
    "            data[node_name].x = node_tensor\n",
    "            local_indices_map = subject_mapping_dict | local_indices_map\n",
    "                \n",
    "        for edge in edge_names:\n",
    "            df = pd.read_csv( os.path.join(save_path_numeric, f\"edge_list_{edge}.csv\"), header=None)\n",
    "            \n",
    "            src = df[0].values\n",
    "            dst = df[1].values\n",
    "\n",
    "            src = torch.tensor([local_indices_map[src[i]] for i in range(len(src))], dtype=torch.long)\n",
    "            dst = torch.tensor([local_indices_map[dst[i]] for i in range(len(dst))], dtype=torch.long)\n",
    "            data[edge.split(\"_\")[0], f'has_{edge.split(\"_\")[1]}', edge.split(\"_\")[1]].edge_index = torch.stack([src, dst], dim=0)\n",
    "        \n",
    "        return data"
   ]
  }
 ],
 "metadata": {
  "kernelspec": {
   "display_name": "trainvenv",
   "language": "python",
   "name": "python3"
  },
  "language_info": {
   "codemirror_mode": {
    "name": "ipython",
    "version": 3
   },
   "file_extension": ".py",
   "mimetype": "text/x-python",
   "name": "python",
   "nbconvert_exporter": "python",
   "pygments_lexer": "ipython3",
   "version": "3.9.0"
  }
 },
 "nbformat": 4,
 "nbformat_minor": 5
}
