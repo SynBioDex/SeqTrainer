{
 "cells": [
  {
   "cell_type": "code",
   "execution_count": 2,
   "id": "cde76e0a",
   "metadata": {},
   "outputs": [],
   "source": [
    "import pandas as pd\n",
    "import sbol2\n",
    "import os\n",
    "from rdflib import Graph\n"
   ]
  },
  {
   "cell_type": "code",
   "execution_count": 8,
   "id": "57cf04b0",
   "metadata": {},
   "outputs": [],
   "source": [
    "current_dir = os.path.abspath('')\n",
    "data_path = os.path.join(current_dir, '..', 'data')\n",
    "attachments_path = os.path.join(current_dir, '..', 'attachments')\n",
    "pulled_attachments_path = os.path.join(current_dir, '..', 'pulled_attachments')\n",
    "sbol_path = os.path.join(current_dir, '..', 'sbol_data')\n",
    "downloaded_sbol_path = os.path.join(current_dir, '..', 'downloaded_sbol')\n",
    "original_data_path = os.path.join(data_path, 'original_data')\n",
    "scripts_path = os.path.join(current_dir, 'scripts')\n",
    "model_data_path = os.path.join(data_path, 'processed_data', 'replicated_models')\n",
    "model_output_path = os.path.join('..', 'model_outputs')"
   ]
  },
  {
   "cell_type": "code",
   "execution_count": 10,
   "id": "e238b50a",
   "metadata": {},
   "outputs": [
    {
     "name": "stdout",
     "output_type": "stream",
     "text": [
      "Done: RDF/XML has been converted to N-Triples (output.nt)\n"
     ]
    }
   ],
   "source": [
    "g = Graph()\n",
    "g.parse(os.path.join(sbol_path, \"ecolipromoter_one.xml\"), format=\"xml\") \n",
    "g.serialize(destination=\"ecolipromoters_one.nt\", format=\"nt\")"
   ]
  },
  {
   "cell_type": "code",
   "execution_count": null,
   "id": "4f4ba7fd",
   "metadata": {},
   "outputs": [],
   "source": [
    "node_classes = [\n",
    "    \"ComponentDefinition\",\n",
    "    \"Sequence\",\n",
    "    \"ModuleDefinition\",\n",
    "    \"Module\",\n",
    "    \"FunctionalComponent\",\n",
    "    \"Component\",\n",
    "    \"SequenceAnnotation\",\n",
    "    \"Range\"\n",
    "]\n",
    "\n",
    "all_edges_formatted = [\n",
    "    \"ComponentDefinition_Sequence\",\n",
    "    \"ComponentDefinition_SequenceAnnotation\",\n",
    "    \"ComponentDefinition_Range\",\n",
    "    \"ModuleDefinition_ComponentDefinition\",\n",
    "    \"ModuleDefinition_ModuleDefinition\",\n",
    "    \"ComponentDefinition_ComponentDefinition\",\n",
    "]\n"
   ]
  },
  {
   "cell_type": "code",
   "execution_count": null,
   "id": "ba2bc3e8-eaba-4268-90d8-60acbac5ee1e",
   "metadata": {},
   "outputs": [],
   "source": []
  }
 ],
 "metadata": {
  "kernelspec": {
   "display_name": "Python 3 (ipykernel)",
   "language": "python",
   "name": "python3"
  },
  "language_info": {
   "codemirror_mode": {
    "name": "ipython",
    "version": 3
   },
   "file_extension": ".py",
   "mimetype": "text/x-python",
   "name": "python",
   "nbconvert_exporter": "python",
   "pygments_lexer": "ipython3",
   "version": "3.11.11"
  }
 },
 "nbformat": 4,
 "nbformat_minor": 5
}
