{
 "cells": [
  {
   "cell_type": "code",
   "execution_count": 5,
   "id": "46b0cded-6929-4838-91f6-8f9bea40dc78",
   "metadata": {},
   "outputs": [],
   "source": [
    "import pandas as pd\n",
    "import numpy as np\n",
    "from Bio import motifs\n",
    "from Bio.Seq import Seq\n",
    "from Bio.SeqRecord import SeqRecord\n",
    "import os"
   ]
  },
  {
   "cell_type": "code",
   "execution_count": 9,
   "id": "76211a3d-c1e0-4569-a623-2c7fc3035457",
   "metadata": {},
   "outputs": [],
   "source": [
    "current_dir = os.path.abspath('')\n",
    "data_path = os.path.join(current_dir, '..', 'data')"
   ]
  },
  {
   "cell_type": "code",
   "execution_count": 12,
   "id": "5c1895a4-dd06-4ef0-8e1d-ca45bfc7019c",
   "metadata": {},
   "outputs": [],
   "source": [
    "train_path = os.path.join(data_path, \"tss_expression_model_format_train_genome_split.txt\")\n",
    "test_path = os.path.join(data_path, \"tss_expression_model_format_test_genome_split.txt\")\n",
    "output_path = 'tss_expression_pwm_info.txt'"
   ]
  },
  {
   "cell_type": "code",
   "execution_count": 23,
   "id": "fc4f9302-1b14-44b4-9f90-0ca31cd8ecd9",
   "metadata": {},
   "outputs": [],
   "source": [
    "train = pd.read_csv(train_path, sep='\\t', names=['variant', 'expn_med_fitted_scaled'], header=None)\n",
    "test = pd.read_csv(test_path, sep='\\t', names=['variant', 'expn_med_fitted_scaled'], header=None)\n",
    "\n",
    "\n",
    "train['dataset'] = \"train\"\n",
    "test['dataset'] = \"test\""
   ]
  },
  {
   "cell_type": "code",
   "execution_count": 25,
   "id": "f769946f-5293-46d8-b10a-e46848fa0d50",
   "metadata": {},
   "outputs": [],
   "source": [
    "data = pd.concat([train, test], ignore_index=True)"
   ]
  },
  {
   "cell_type": "code",
   "execution_count": 39,
   "id": "4717e59b-ba31-4e23-9db9-376e692efaaf",
   "metadata": {},
   "outputs": [],
   "source": [
    "pwm_minus10_probs = {\n",
    "    'A': [0.0097, 1.0000, 0.3363, 0.5335, 0.4963, 0.0781],\n",
    "    'C': [0.0618, 0.0000, 0.1190, 0.1094, 0.2299, 0.0268],\n",
    "    'G': [0.1042, 0.0000, 0.0856, 0.1317, 0.1399, 0.0000],\n",
    "    'T': [0.8244, 0.0000, 0.4591, 0.2254, 0.1339, 0.8951]\n",
    "}\n",
    "\n",
    "pwm_minus10_counts = {\n",
    "    base: [round(val * 1000) for val in values]\n",
    "    for base, values in pwm_minus10_probs.items()\n",
    "}\n",
    "\n",
    "from Bio import motifs\n",
    "\n",
    "motif_10 = motifs.Motif()\n",
    "motif_10.counts = pwm_minus10_counts  # direct assignment of dict is OK\n",
    "\n"
   ]
  },
  {
   "cell_type": "code",
   "execution_count": 40,
   "id": "0e23947c-e54b-4460-ac6f-5da121b2c8fa",
   "metadata": {},
   "outputs": [
    {
     "data": {
      "text/plain": [
       "{'A': [10, 1000, 336, 534, 496, 78],\n",
       " 'C': [62, 0, 119, 109, 230, 27],\n",
       " 'G': [104, 0, 86, 132, 140, 0],\n",
       " 'T': [824, 0, 459, 225, 134, 895]}"
      ]
     },
     "execution_count": 40,
     "metadata": {},
     "output_type": "execute_result"
    }
   ],
   "source": [
    "motif_10.counts"
   ]
  },
  {
   "cell_type": "code",
   "execution_count": 41,
   "id": "3517d469-4b14-4951-9edb-7641eccd0855",
   "metadata": {},
   "outputs": [
    {
     "ename": "AttributeError",
     "evalue": "'dict' object has no attribute 'normalize'",
     "output_type": "error",
     "traceback": [
      "\u001b[1;31m---------------------------------------------------------------------------\u001b[0m",
      "\u001b[1;31mAttributeError\u001b[0m                            Traceback (most recent call last)",
      "Cell \u001b[1;32mIn[41], line 1\u001b[0m\n\u001b[1;32m----> 1\u001b[0m pwm \u001b[38;5;241m=\u001b[39m motif_10\u001b[38;5;241m.\u001b[39mcounts\u001b[38;5;241m.\u001b[39mnormalize(pseudocounts\u001b[38;5;241m=\u001b[39m\u001b[38;5;241m0.0001\u001b[39m)\n\u001b[0;32m      2\u001b[0m \u001b[38;5;28mprint\u001b[39m(pwm)\n",
      "\u001b[1;31mAttributeError\u001b[0m: 'dict' object has no attribute 'normalize'"
     ]
    }
   ],
   "source": [
    "pwm = motif_10.counts.normalize(pseudocounts=0.0001)\n",
    "print(pwm)\n"
   ]
  },
  {
   "cell_type": "code",
   "execution_count": null,
   "id": "0d1e200b-2b32-4319-bc45-b32a5dc3864f",
   "metadata": {},
   "outputs": [],
   "source": []
  }
 ],
 "metadata": {
  "kernelspec": {
   "display_name": "Python 3 (ipykernel)",
   "language": "python",
   "name": "python3"
  },
  "language_info": {
   "codemirror_mode": {
    "name": "ipython",
    "version": 3
   },
   "file_extension": ".py",
   "mimetype": "text/x-python",
   "name": "python",
   "nbconvert_exporter": "python",
   "pygments_lexer": "ipython3",
   "version": "3.11.11"
  }
 },
 "nbformat": 4,
 "nbformat_minor": 5
}
