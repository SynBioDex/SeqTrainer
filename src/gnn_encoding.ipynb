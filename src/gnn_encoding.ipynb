{
 "cells": [
  {
   "cell_type": "code",
   "execution_count": 2,
   "id": "cde76e0a",
   "metadata": {},
   "outputs": [],
   "source": [
    "import pandas as pd\n",
    "import sbol2\n",
    "import os\n",
    "from rdflib import Graph\n"
   ]
  },
  {
   "cell_type": "code",
   "execution_count": 8,
   "id": "57cf04b0",
   "metadata": {},
   "outputs": [],
   "source": [
    "current_dir = os.path.abspath('')\n",
    "data_path = os.path.join(current_dir, '..', 'data')\n",
    "attachments_path = os.path.join(current_dir, '..', 'attachments')\n",
    "pulled_attachments_path = os.path.join(current_dir, '..', 'pulled_attachments')\n",
    "sbol_path = os.path.join(current_dir, '..', 'sbol_data')\n",
    "downloaded_sbol_path = os.path.join(current_dir, '..', 'downloaded_sbol')\n",
    "original_data_path = os.path.join(data_path, 'original_data')\n",
    "scripts_path = os.path.join(current_dir, 'scripts')\n",
    "model_data_path = os.path.join(data_path, 'processed_data', 'replicated_models')\n",
    "model_output_path = os.path.join('..', 'model_outputs')"
   ]
  },
  {
   "cell_type": "code",
   "execution_count": 10,
   "id": "e238b50a",
   "metadata": {},
   "outputs": [
    {
     "name": "stdout",
     "output_type": "stream",
     "text": [
      "Done: RDF/XML has been converted to N-Triples (output.nt)\n"
     ]
    }
   ],
   "source": [
    "g = Graph()\n",
    "g.parse(os.path.join(sbol_path, \"ecolipromoter_one.xml\"), format=\"xml\") \n",
    "g.serialize(destination=\"ecolipromoters_one.nt\", format=\"nt\")\n",
    "\n",
    "print(\"Done: RDF/XML has been converted to N-Triples (output.nt)\")"
   ]
  },
  {
   "cell_type": "code",
   "execution_count": 1,
   "id": "72b1efd6",
   "metadata": {},
   "outputs": [
    {
     "name": "stderr",
     "output_type": "stream",
     "text": [
      "c:\\Users\\Sai\\Documents\\GitHub\\SBOLtrainer\\autordf-env\\lib\\site-packages\\tqdm\\auto.py:21: TqdmWarning: IProgress not found. Please update jupyter and ipywidgets. See https://ipywidgets.readthedocs.io/en/stable/user_install.html\n",
      "  from .autonotebook import tqdm as notebook_tqdm\n"
     ]
    },
    {
     "name": "stdout",
     "output_type": "stream",
     "text": [
      "###### AutoRDF2GML (content-based): START! ######\n",
      "## start_time=1752627459.4574063\n",
      "## Loading the config file: config.ini\n",
      "## Path exists: .\n",
      "## Path exists: .\n",
      "## Configs: input:ecolipromoters_one.nt / nld_class='ModuleDefinition' / embedding_model='allenai/scibert_scivocab_uncased' / output:save_path_mapping='.' .\n",
      "## Loading the RDF dump from: file_path='ecolipromoters_one.nt', format: nt\n",
      "## RDF dump file loaded. The RDF graph contains 189 triples.\n",
      "## Transformation started! Querying the graph...\n",
      "## Automatic feature selection...\n",
      "## NLD column: pivoted_df_ModuleDefinition\n"
     ]
    },
    {
     "ename": "KeyError",
     "evalue": "'pivoted_df_work'",
     "output_type": "error",
     "traceback": [
      "\u001b[1;31m---------------------------------------------------------------------------\u001b[0m",
      "\u001b[1;31mKeyError\u001b[0m                                  Traceback (most recent call last)",
      "Cell \u001b[1;32mIn[1], line 4\u001b[0m\n\u001b[0;32m      1\u001b[0m \u001b[38;5;28;01mimport\u001b[39;00m\u001b[38;5;250m \u001b[39m\u001b[38;5;21;01mautordf2gml\u001b[39;00m\n\u001b[0;32m      3\u001b[0m \u001b[38;5;66;03m#to run content-based transformation\u001b[39;00m\n\u001b[1;32m----> 4\u001b[0m a \u001b[38;5;241m=\u001b[39m \u001b[43mautordf2gml\u001b[49m\u001b[38;5;241;43m.\u001b[39;49m\u001b[43mcontent_feature\u001b[49m\u001b[43m(\u001b[49m\u001b[38;5;124;43m\"\u001b[39;49m\u001b[38;5;124;43mconfig.ini\u001b[39;49m\u001b[38;5;124;43m\"\u001b[39;49m\u001b[43m)\u001b[49m \n",
      "File \u001b[1;32mc:\\Users\\Sai\\Documents\\GitHub\\SBOLtrainer\\autordf-env\\lib\\site-packages\\autordf2gml\\cb.py:205\u001b[0m, in \u001b[0;36mcontent_feature\u001b[1;34m(config)\u001b[0m\n\u001b[0;32m    202\u001b[0m \u001b[38;5;28mprint\u001b[39m (\u001b[38;5;124mf\u001b[39m\u001b[38;5;124m'\u001b[39m\u001b[38;5;124m## NLD column: \u001b[39m\u001b[38;5;132;01m{\u001b[39;00mpivoted_df_nld\u001b[38;5;132;01m}\u001b[39;00m\u001b[38;5;124m'\u001b[39m)\n\u001b[0;32m    204\u001b[0m text_columns \u001b[38;5;241m=\u001b[39m []\n\u001b[1;32m--> 205\u001b[0m \u001b[38;5;28;01mfor\u001b[39;00m col \u001b[38;5;129;01min\u001b[39;00m \u001b[43mnodes_data_pivoted_df\u001b[49m\u001b[43m[\u001b[49m\u001b[38;5;124;43m\"\u001b[39;49m\u001b[38;5;124;43mpivoted_df_work\u001b[39;49m\u001b[38;5;124;43m\"\u001b[39;49m\u001b[43m]\u001b[49m\u001b[38;5;241m.\u001b[39mcolumns:\n\u001b[0;32m    206\u001b[0m     sample_values \u001b[38;5;241m=\u001b[39m nodes_data_pivoted_df[\u001b[38;5;124m\"\u001b[39m\u001b[38;5;124mpivoted_df_work\u001b[39m\u001b[38;5;124m\"\u001b[39m][col]\u001b[38;5;241m.\u001b[39mhead(\u001b[38;5;241m1000\u001b[39m)\u001b[38;5;241m.\u001b[39mdropna()\n\u001b[0;32m    208\u001b[0m     unique_strings \u001b[38;5;241m=\u001b[39m sample_values\u001b[38;5;241m.\u001b[39mnunique()\n",
      "\u001b[1;31mKeyError\u001b[0m: 'pivoted_df_work'"
     ]
    }
   ],
   "source": [
    "import autordf2gml\n",
    "\n",
    "#to run content-based transformation\n",
    "a = autordf2gml.content_feature(\"config.ini\") "
   ]
  },
  {
   "cell_type": "code",
   "execution_count": null,
   "id": "4f4ba7fd",
   "metadata": {},
   "outputs": [],
   "source": []
  }
 ],
 "metadata": {
  "kernelspec": {
   "display_name": "autordf-env",
   "language": "python",
   "name": "python3"
  },
  "language_info": {
   "codemirror_mode": {
    "name": "ipython",
    "version": 3
   },
   "file_extension": ".py",
   "mimetype": "text/x-python",
   "name": "python",
   "nbconvert_exporter": "python",
   "pygments_lexer": "ipython3",
   "version": "3.9.0"
  }
 },
 "nbformat": 4,
 "nbformat_minor": 5
}
