{
 "cells": [
  {
   "cell_type": "code",
   "execution_count": 1,
   "id": "6ca0791a-3ed8-4360-a301-73a04ce4829c",
   "metadata": {},
   "outputs": [],
   "source": [
    "import pandas as pd \n",
    "import subprocess\n",
    "import os"
   ]
  },
  {
   "cell_type": "code",
   "execution_count": null,
   "id": "063e7cbb",
   "metadata": {},
   "outputs": [],
   "source": [
    "\n",
    "current_dir = os.path.abspath('')\n",
    "data_path = os.path.join(current_dir, '..', 'data')\n",
    "original_data_path = os.path.join(data_path, 'original_data')\n",
    "scripts_path = os.path.join(current_dir, 'scripts')\n",
    "model_data_path = os.path.join(data_path, 'processed_data', 'replicated_models')\n",
    "model_output_path = os.path.join('..', 'model_outputs')"
   ]
  },
  {
   "cell_type": "code",
   "execution_count": null,
   "id": "6c3d50f8-166d-4cf2-b44e-09c1476f59f0",
   "metadata": {},
   "outputs": [],
   "source": [
    "tss_path = os.path.join(original_data_path, \"rLP5_Endo2_lb_expression_formatted.txt\")\n",
    "scramble_path = os.path.join(original_data_path, \"endo_scramble_expression_formatted.txt\")\n",
    "peak_path= os.path.join(original_data_path, \"peak_tile_expression_formatted.txt\")\n",
    "flp3_path = os.path.join(original_data_path, \"fLP3_Endo2_lb_expression_formatted.txt\")\n",
    "rlp6_path = os.path.join(original_data_path, \"rLP6_Endo2_lb_expression_formatted.txt\")"
   ]
  },
  {
   "cell_type": "code",
   "execution_count": null,
   "id": "91559c11-43a4-41a2-8432-bd854b7738ba",
   "metadata": {
    "scrolled": true
   },
   "outputs": [],
   "source": [
    "def generate_processed_std_files():\n",
    "    r_script_path = os.path.join(scripts_path, \"standardize_expression.R\")\n",
    "    result = subprocess.run([\"Rscript\", r_script_path, tss_path, scramble_path, peak_path, flp3_path, rlp6_path], shell=True, capture_output=True, text=True)\n",
    "\n",
    "    print(\"STDOUT:\\n\", result.stdout)\n",
    "    print(\"STDERR:\\n\", result.stderr)\n",
    "\n",
    "    if result.returncode == 0:\n",
    "        print(\"R script ran successfully.\")\n",
    "    else:\n",
    "        print(f\"R script failed with return code {result.returncode}.\")\n",
    "\n",
    "generate_processed_std_files()"
   ]
  },
  {
   "cell_type": "code",
   "execution_count": null,
   "id": "b6fefefa-1ce9-4725-8f1b-c5a2a4f08bd6",
   "metadata": {},
   "outputs": [],
   "source": [
    "def generate_train_test_files():\n",
    "    python_path = os.path.join(scripts_path, \"define_genome_splits.py\")\n",
    "    model_format_path = os.path.join(model_data_path, \"tss_expression_model_format.txt\")\n",
    "    result = subprocess.run([\"python\", python_path, str(0.75), str(4639675), model_format_path, model_format_path], shell=True, capture_output=True, text=True)\n",
    "\n",
    "    print(\"STDOUT:\\n\", result.stdout)\n",
    "    print(\"STDERR:\\n\", result.stderr)\n",
    "\n",
    "    if result.returncode == 0:\n",
    "        print(\"R script ran successfully.\")\n",
    "    else:\n",
    "\n",
    "        print(f\"R script failed with return code {result.returncode}.\")"
   ]
  },
  {
   "cell_type": "code",
   "execution_count": null,
   "id": "a0b92fe0",
   "metadata": {},
   "outputs": [],
   "source": [
    "train_name = os.path.join(model_data_path, \"tss_expression_model_format_train_genome_split.txt\")\n",
    "test_name = os.path.join(model_data_path, \"tss_expression_model_format_test_genome_split.txt\")\n",
    "\n",
    "output_name = os.path.join(model_data_path, \"tss_expression_pwm_info.txt\")"
   ]
  },
  {
   "cell_type": "code",
   "execution_count": null,
   "id": "06bcad4f",
   "metadata": {},
   "outputs": [],
   "source": [
    "def get_PWM_model_results():\n",
    "    python_path = os.path.join(scripts_path, \"calculate_pwm.R\")\n",
    "    result = subprocess.run([\"Rscript\", python_path, train_name, test_name, output_name], shell=True, capture_output=True, text=True)\n",
    "\n",
    "    print(\"STDOUT:\\n\", result.stdout)\n",
    "    print(\"STDERR:\\n\", result.stderr)\n",
    "\n",
    "    if result.returncode == 0:\n",
    "        print(\"R script ran successfully.\")\n",
    "    else:\n",
    "        print(f\"R script failed with return code {result.returncode}.\")\n",
    "\n",
    "get_PWM_model_results()\n",
    "    "
   ]
  },
  {
   "cell_type": "code",
   "execution_count": null,
   "id": "f10a7561",
   "metadata": {},
   "outputs": [],
   "source": [
    "def run_linear_model():\n",
    "    python_path = os.path.join(scripts_path, \"linear-model.R\")\n",
    "    output_path = os.path.join(model_output_path, \"pwm_linear_model_results.txt\")\n",
    "    model_input = os.path.join(model_data_path, \"tss_expression_pwm_info.txt\")\n",
    "    result = subprocess.run([\"Rscript\", python_path, model_input, output_path], shell=True, capture_output=True, text=True)\n",
    "\n",
    "    print(\"STDOUT:\\n\", result.stdout)\n",
    "    print(\"STDERR:\\n\", result.stderr)\n",
    "\n",
    "    # Check exit status\n",
    "    if result.returncode == 0:\n",
    "        print(\"R script ran successfully.\")\n",
    "    else:\n",
    "        print(f\"R script failed with return code {result.returncode}.\")\n",
    "\n",
    "run_linear_model()"
   ]
  },
  {
   "cell_type": "code",
   "execution_count": null,
   "id": "dbb203d5",
   "metadata": {},
   "outputs": [],
   "source": [
    "python_path = os.path.join(scripts_path, \"define_genome_splits.py\")\n",
    "model_format_path = os.path.join(model_data_path, \"tss_expression_model_format.txt\")\n",
    "result = subprocess.run([\"python\", python_path, str(0.75), str(4639675), \"--classification\", model_format_path, model_format_path], shell=True, capture_output=True, text=True)\n",
    "\n",
    "print(\"STDOUT:\\n\", result.stdout)\n",
    "print(\"STDERR:\\n\", result.stderr)\n",
    "\n",
    "if result.returncode == 0:\n",
    "    print(\"R script ran successfully.\")\n",
    "else:\n",
    "\n",
    "    print(f\"R script failed with return code {result.returncode}.\")"
   ]
  },
  {
   "cell_type": "code",
   "execution_count": null,
   "id": "92925ff9",
   "metadata": {},
   "outputs": [],
   "source": [
    "train_name = os.path.join(model_data_path, \"tss_expression_model_format_train_genome_split_classification.txt\")\n",
    "test_name = os.path.join(model_data_path, \"tss_expression_model_format_test_genome_split_classification.txt\")\n",
    "\n",
    "train_output_name = os.path.join(model_data_path, \"tss_scramble_peak_expression_model_format_train_genome_split_classification_3to6mer.txt\")\n",
    "test_output_name = os.path.join(model_data_path, \"tss_scramble_peak_expression_model_format_test_genome_split_classification_3to6mer.txt\")\n"
   ]
  },
  {
   "cell_type": "code",
   "execution_count": null,
   "id": "fa4933c3",
   "metadata": {},
   "outputs": [],
   "source": [
    "python_path = os.path.join(scripts_path, \"kmer_feature_generator.py\")\n",
    "model_format_path = os.path.join(model_data_path, \"tss_expression_model_format.txt\")\n",
    "result = subprocess.run([\"python\", python_path, train_name, test_name, train_output_name, test_output_name, str(3), str(6)], shell=True, capture_output=True, text=True)\n",
    "\n",
    "print(\"STDOUT:\\n\", result.stdout)\n",
    "print(\"STDERR:\\n\", result.stderr)\n",
    "\n",
    "if result.returncode == 0:\n",
    "    print(\"R script ran successfully.\")\n",
    "else:\n",
    "\n",
    "    print(f\"R script failed with return code {result.returncode}.\")"
   ]
  },
  {
   "cell_type": "code",
   "execution_count": null,
   "id": "844ff925",
   "metadata": {},
   "outputs": [],
   "source": [
    "log_output_path = os.path.join(model_data_path, \"kmer_logistic_predictions.txt\")"
   ]
  },
  {
   "cell_type": "code",
   "execution_count": null,
   "id": "cd12dc7e",
   "metadata": {},
   "outputs": [],
   "source": [
    "python_path = os.path.join(scripts_path, \"kmer_regression_models.py\")\n",
    "result = subprocess.run([\"python\", python_path, train_output_name, test_output_name, log_output_path, \"linear\", \"--classification\"], shell=True, capture_output=True, text=True)\n",
    "\n",
    "print(\"STDOUT:\\n\", result.stdout)\n",
    "print(\"STDERR:\\n\", result.stderr)\n",
    "\n",
    "if result.returncode == 0:\n",
    "    print(\"R script ran successfully.\")\n",
    "else:\n",
    "\n",
    "    print(f\"R script failed with return code {result.returncode}.\")"
   ]
  },
  {
   "cell_type": "code",
   "execution_count": null,
   "id": "8f9d15e4",
   "metadata": {},
   "outputs": [],
   "source": []
  }
 ],
 "metadata": {
  "kernelspec": {
   "display_name": "tfgnn",
   "language": "python",
   "name": "python3"
  },
  "language_info": {
   "codemirror_mode": {
    "name": "ipython",
    "version": 3
   },
   "file_extension": ".py",
   "mimetype": "text/x-python",
   "name": "python",
   "nbconvert_exporter": "python",
   "pygments_lexer": "ipython3",
   "version": "3.11.11"
  }
 },
 "nbformat": 4,
 "nbformat_minor": 5
}
